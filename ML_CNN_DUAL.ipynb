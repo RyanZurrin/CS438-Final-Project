{
 "cells": [
  {
   "cell_type": "code",
   "execution_count": 1,
   "id": "48f3339b",
   "metadata": {},
   "outputs": [
    {
     "name": "stdout",
     "output_type": "stream",
     "text": [
      "Populating the interactive namespace from numpy and matplotlib\n"
     ]
    }
   ],
   "source": [
    "%pylab inline\n",
    "%load_ext autoreload\n",
    "%autoreload 2"
   ]
  },
  {
   "cell_type": "code",
   "execution_count": 2,
   "id": "4cea3950",
   "metadata": {},
   "outputs": [
    {
     "name": "stderr",
     "output_type": "stream",
     "text": [
      "2023-11-27 21:33:39.551632: I tensorflow/stream_executor/platform/default/dso_loader.cc:53] Successfully opened dynamic library libcudart.so.11.0\n"
     ]
    }
   ],
   "source": [
    "import feature_extractor as fe\n",
    "import data_cleaner as dc\n",
    "# import pandas as pd\n",
    "from sklearn.model_selection import train_test_split, GridSearchCV\n",
    "from sklearn.ensemble import RandomForestClassifier\n",
    "from sklearn.metrics import classification_report, confusion_matrix\n",
    "from sklearn.preprocessing import OneHotEncoder, LabelEncoder\n",
    "from sklearn.model_selection import train_test_split\n",
    "from sklearn.preprocessing import StandardScaler\n",
    "import numpy as np\n",
    "import tensorflow as tf\n",
    "from tensorflow.keras.models import Model\n",
    "from tensorflow.keras.layers import Input, Dense, Conv2D, MaxPooling2D, Flatten, concatenate\n",
    "from tensorflow.keras.optimizers import Adam\n",
    "import time\n",
    "import seaborn as sns\n",
    "import pandas as pd\n",
    "import numpy as np\n",
    "import sys\n",
    "# sys.path.append('../..')\n",
    "# import omama as O"
   ]
  },
  {
   "cell_type": "code",
   "execution_count": null,
   "id": "152bd594",
   "metadata": {},
   "outputs": [],
   "source": []
  },
  {
   "cell_type": "code",
   "execution_count": 3,
   "id": "74c73818",
   "metadata": {},
   "outputs": [],
   "source": [
    "# cache_path = \"/home/ryan.zurrin001/binlink/sample_dataset.pkl\"\n",
    "cache_path = \"/home/ryan.zurrin001/binlink/cs438_features_imgs.pkl\""
   ]
  },
  {
   "cell_type": "code",
   "execution_count": 4,
   "id": "65d4f512",
   "metadata": {},
   "outputs": [],
   "source": [
    "# Load the DataFrame\n",
    "df_features = pd.read_pickle(cache_path)"
   ]
  },
  {
   "cell_type": "code",
   "execution_count": 5,
   "id": "403e7cd2",
   "metadata": {},
   "outputs": [
    {
     "data": {
      "text/plain": [
       "163568"
      ]
     },
     "execution_count": 5,
     "metadata": {},
     "output_type": "execute_result"
    }
   ],
   "source": [
    "len(df_features)"
   ]
  },
  {
   "cell_type": "code",
   "execution_count": 6,
   "id": "782e386a",
   "metadata": {},
   "outputs": [
    {
     "data": {
      "text/plain": [
       "10000"
      ]
     },
     "execution_count": 6,
     "metadata": {},
     "output_type": "execute_result"
    }
   ],
   "source": [
    "len(df_features[:10000])"
   ]
  },
  {
   "cell_type": "code",
   "execution_count": 7,
   "id": "45798d6b",
   "metadata": {},
   "outputs": [],
   "source": [
    "cleaner = dc.DataCleaner(df_features[:10000])"
   ]
  },
  {
   "cell_type": "code",
   "execution_count": 8,
   "id": "5abaae05",
   "metadata": {},
   "outputs": [
    {
     "name": "stdout",
     "output_type": "stream",
     "text": [
      "Initial length: 10000\n"
     ]
    }
   ],
   "source": [
    "print(\"Initial length:\", len(cleaner.df))"
   ]
  },
  {
   "cell_type": "code",
   "execution_count": 9,
   "id": "27aa6850",
   "metadata": {},
   "outputs": [],
   "source": [
    "combined_img_masks, cleaned_df = cleaner.clean_data(return_img_mask_data=True)"
   ]
  },
  {
   "cell_type": "code",
   "execution_count": 10,
   "id": "93c9bdae",
   "metadata": {},
   "outputs": [
    {
     "data": {
      "text/plain": [
       "9862"
      ]
     },
     "execution_count": 10,
     "metadata": {},
     "output_type": "execute_result"
    }
   ],
   "source": [
    "len(cleaned_df)"
   ]
  },
  {
   "cell_type": "code",
   "execution_count": 11,
   "id": "9bd82b81",
   "metadata": {},
   "outputs": [
    {
     "data": {
      "text/plain": [
       "Index(['label', 'ImageLaterality', 'PatientAge', 'Manufacturer',\n",
       "       'ManufacturerModelName', 'DistanceSourceToDetector',\n",
       "       'DistanceSourceToPatient', 'ExposureTime', 'XRayTubeCurrent',\n",
       "       'Exposure', 'ExposureInuAs', 'KVP', 'BodyPartThickness',\n",
       "       'CompressionForce', 'PositionerPrimaryAngle', 'ViewPosition',\n",
       "       'DetectorTemperature', 'DetectorType', 'Rows', 'Columns', 'score',\n",
       "       'target_label', 'coords1', 'coords2', 'coords3', 'coords4',\n",
       "       'resized_coords1', 'resized_coords2', 'resized_coords3',\n",
       "       'resized_coords4', 'FieldOfViewOrigin1', 'FieldOfViewOrigin2',\n",
       "       'WindowCenter1', 'WindowCenter2', 'WindowCenter3', 'WindowCenter4',\n",
       "       'WindowWidth1', 'WindowWidth2', 'WindowWidth3', 'WindowWidth4',\n",
       "       'histogram_mean', 'histogram_median', 'histogram_std', 'histogram_min',\n",
       "       'histogram_max', 'histogram_percentile_25', 'histogram_percentile_50',\n",
       "       'histogram_percentile_75', 'flattened_image_mean',\n",
       "       'flattened_image_median', 'flattened_image_std', 'flattened_image_min',\n",
       "       'flattened_image_max', 'flattened_image_percentile_25',\n",
       "       'flattened_image_percentile_50', 'flattened_image_percentile_75'],\n",
       "      dtype='object')"
      ]
     },
     "execution_count": 11,
     "metadata": {},
     "output_type": "execute_result"
    }
   ],
   "source": [
    "cleaned_df.columns"
   ]
  },
  {
   "cell_type": "code",
   "execution_count": 12,
   "id": "087ead3a",
   "metadata": {},
   "outputs": [],
   "source": [
    "combined_images = combined_img_masks"
   ]
  },
  {
   "cell_type": "code",
   "execution_count": 13,
   "id": "d772766e",
   "metadata": {},
   "outputs": [
    {
     "name": "stdout",
     "output_type": "stream",
     "text": [
      "<class 'numpy.ndarray'> (9862, 256, 256, 2)\n"
     ]
    }
   ],
   "source": [
    "# print(type(preprocessed_images), preprocessed_images.shape)\n",
    "# print(type(binary_masks), binary_masks.shape)\n",
    "print(type(combined_images), combined_images.shape)\n"
   ]
  },
  {
   "cell_type": "code",
   "execution_count": 14,
   "id": "87e0578d",
   "metadata": {},
   "outputs": [],
   "source": [
    "# Assuming 'cleaned_df' is your final DataFrame after cleaning\n",
    "# # Features without the image data\n",
    "# X = cleaned_df.drop(['target_label'], axis=1)\n",
    "\n",
    "# # Labels\n",
    "# y = cleaned_df['target_label']\n",
    "\n",
    "# Split data and keep track of indices\n",
    "X_train, X_test, y_train, y_test, idx_train, idx_test = train_test_split(\n",
    "    cleaned_df.drop(['target_label'], axis=1), cleaned_df['target_label'], range(len(cleaned_df)), \n",
    "    test_size=0.2, random_state=42\n",
    ")\n",
    "\n",
    "# Scale the features\n",
    "scaler = StandardScaler()\n",
    "X_train_scaled = scaler.fit_transform(X_train)\n",
    "X_test_scaled = scaler.transform(X_test)"
   ]
  },
  {
   "cell_type": "code",
   "execution_count": 15,
   "id": "47c9bf43",
   "metadata": {},
   "outputs": [
    {
     "name": "stdout",
     "output_type": "stream",
     "text": [
      "X_train shape: (7889, 55)\n",
      "X_test shape: (1973, 55)\n",
      "y_train shape: (7889,)\n",
      "y_test shape: (1973,)\n"
     ]
    }
   ],
   "source": [
    "print(\"X_train shape:\", X_train.shape)\n",
    "print(\"X_test shape:\", X_test.shape)\n",
    "print(\"y_train shape:\", y_train.shape)\n",
    "print(\"y_test shape:\", y_test.shape)"
   ]
  },
  {
   "cell_type": "code",
   "execution_count": 16,
   "id": "17b6b7de",
   "metadata": {},
   "outputs": [
    {
     "name": "stdout",
     "output_type": "stream",
     "text": [
      "Image Input Shape: (256, 256, 2)\n",
      "Scalar Input Shape: (55,)\n"
     ]
    }
   ],
   "source": [
    "# Assuming you have combined_images and X_train_scaled prepared\n",
    "\n",
    "# For combined image data\n",
    "image_input_shape = combined_images.shape[1:]  # This excludes the first dimension (number of samples)\n",
    "\n",
    "# For scalar features\n",
    "scalar_input_shape = (X_train_scaled.shape[1],)  # This gets the number of features\n",
    "\n",
    "# Printing shapes for confirmation\n",
    "print(\"Image Input Shape:\", image_input_shape)\n",
    "print(\"Scalar Input Shape:\", scalar_input_shape)\n"
   ]
  },
  {
   "cell_type": "code",
   "execution_count": 17,
   "id": "4f05edc1",
   "metadata": {},
   "outputs": [
    {
     "name": "stderr",
     "output_type": "stream",
     "text": [
      "2023-11-27 21:36:50.185163: I tensorflow/stream_executor/platform/default/dso_loader.cc:53] Successfully opened dynamic library libcuda.so.1\n",
      "2023-11-27 21:36:50.307059: I tensorflow/core/common_runtime/gpu/gpu_device.cc:1733] Found device 0 with properties: \n",
      "pciBusID: 0000:87:00.0 name: A100-SXM4-40GB computeCapability: 8.0\n",
      "coreClock: 1.41GHz coreCount: 108 deviceMemorySize: 39.59GiB deviceMemoryBandwidth: 1.41TiB/s\n",
      "2023-11-27 21:36:50.307114: I tensorflow/stream_executor/platform/default/dso_loader.cc:53] Successfully opened dynamic library libcudart.so.11.0\n",
      "2023-11-27 21:36:50.350585: I tensorflow/stream_executor/platform/default/dso_loader.cc:53] Successfully opened dynamic library libcublas.so.11\n",
      "2023-11-27 21:36:50.350628: I tensorflow/stream_executor/platform/default/dso_loader.cc:53] Successfully opened dynamic library libcublasLt.so.11\n",
      "2023-11-27 21:36:50.370958: I tensorflow/stream_executor/platform/default/dso_loader.cc:53] Successfully opened dynamic library libcufft.so.10\n",
      "2023-11-27 21:36:50.377019: I tensorflow/stream_executor/platform/default/dso_loader.cc:53] Successfully opened dynamic library libcurand.so.10\n",
      "2023-11-27 21:36:50.382806: I tensorflow/stream_executor/platform/default/dso_loader.cc:53] Successfully opened dynamic library libcusolver.so.11\n",
      "2023-11-27 21:36:50.393516: I tensorflow/stream_executor/platform/default/dso_loader.cc:53] Successfully opened dynamic library libcusparse.so.11\n",
      "2023-11-27 21:36:50.395542: I tensorflow/stream_executor/platform/default/dso_loader.cc:53] Successfully opened dynamic library libcudnn.so.8\n",
      "2023-11-27 21:36:50.402524: I tensorflow/core/common_runtime/gpu/gpu_device.cc:1871] Adding visible gpu devices: 0\n",
      "2023-11-27 21:36:50.403241: I tensorflow/core/platform/cpu_feature_guard.cc:142] This TensorFlow binary is optimized with oneAPI Deep Neural Network Library (oneDNN) to use the following CPU instructions in performance-critical operations:  AVX2 FMA\n",
      "To enable them in other operations, rebuild TensorFlow with the appropriate compiler flags.\n",
      "2023-11-27 21:36:50.405893: I tensorflow/core/common_runtime/gpu/gpu_device.cc:1733] Found device 0 with properties: \n",
      "pciBusID: 0000:87:00.0 name: A100-SXM4-40GB computeCapability: 8.0\n",
      "coreClock: 1.41GHz coreCount: 108 deviceMemorySize: 39.59GiB deviceMemoryBandwidth: 1.41TiB/s\n",
      "2023-11-27 21:36:50.410998: I tensorflow/core/common_runtime/gpu/gpu_device.cc:1871] Adding visible gpu devices: 0\n",
      "2023-11-27 21:36:50.411993: I tensorflow/stream_executor/platform/default/dso_loader.cc:53] Successfully opened dynamic library libcudart.so.11.0\n",
      "2023-11-27 21:36:51.472065: I tensorflow/core/common_runtime/gpu/gpu_device.cc:1258] Device interconnect StreamExecutor with strength 1 edge matrix:\n",
      "2023-11-27 21:36:51.472119: I tensorflow/core/common_runtime/gpu/gpu_device.cc:1264]      0 \n",
      "2023-11-27 21:36:51.472126: I tensorflow/core/common_runtime/gpu/gpu_device.cc:1277] 0:   N \n",
      "2023-11-27 21:36:51.480033: I tensorflow/core/common_runtime/gpu/gpu_device.cc:1418] Created TensorFlow device (/job:localhost/replica:0/task:0/device:GPU:0 with 38425 MB memory) -> physical GPU (device: 0, name: A100-SXM4-40GB, pci bus id: 0000:87:00.0, compute capability: 8.0)\n"
     ]
    }
   ],
   "source": [
    "# Image input model\n",
    "image_input = Input(shape=(256, 256, 2))  # Adjust if different in your case\n",
    "x = Conv2D(32, (3, 3), activation='relu')(image_input)\n",
    "x = MaxPooling2D((2, 2))(x)\n",
    "x = Conv2D(64, (3, 3), activation='relu')(x)\n",
    "x = MaxPooling2D((2, 2))(x)\n",
    "x = Flatten()(x)"
   ]
  },
  {
   "cell_type": "code",
   "execution_count": 18,
   "id": "b6f2cbdf",
   "metadata": {},
   "outputs": [],
   "source": [
    "# Scalar input model\n",
    "scalar_input = Input(shape=(55,))  # Adjust if different in your case\n",
    "y = Dense(64, activation='relu')(scalar_input)\n",
    "y = Dense(32, activation='relu')(y)"
   ]
  },
  {
   "cell_type": "code",
   "execution_count": 19,
   "id": "fe7a8696",
   "metadata": {},
   "outputs": [],
   "source": [
    "# Concatenate the outputs from the two models\n",
    "combined = concatenate([x, y])"
   ]
  },
  {
   "cell_type": "code",
   "execution_count": 20,
   "id": "8fa97bc2",
   "metadata": {},
   "outputs": [],
   "source": [
    "# Additional layers after concatenation\n",
    "z = Dense(64, activation='relu')(combined)\n",
    "z = Dense(32, activation='relu')(z)"
   ]
  },
  {
   "cell_type": "code",
   "execution_count": 21,
   "id": "d04a5aa6",
   "metadata": {},
   "outputs": [],
   "source": [
    "# Output layer\n",
    "output = Dense(1, activation='sigmoid')(z)  # Use 'softmax' for multi-class"
   ]
  },
  {
   "cell_type": "code",
   "execution_count": 22,
   "id": "2bd75247",
   "metadata": {},
   "outputs": [],
   "source": [
    "# Create the model\n",
    "model = Model(inputs=[image_input, scalar_input], outputs=output)"
   ]
  },
  {
   "cell_type": "code",
   "execution_count": 23,
   "id": "4f8f6bab",
   "metadata": {},
   "outputs": [],
   "source": [
    "# Compile the model\n",
    "model.compile(optimizer=Adam(), loss='binary_crossentropy', metrics=['accuracy'])\n"
   ]
  },
  {
   "cell_type": "code",
   "execution_count": 24,
   "id": "1fe172b8",
   "metadata": {},
   "outputs": [
    {
     "name": "stdout",
     "output_type": "stream",
     "text": [
      "Model: \"model\"\n",
      "__________________________________________________________________________________________________\n",
      "Layer (type)                    Output Shape         Param #     Connected to                     \n",
      "==================================================================================================\n",
      "input_1 (InputLayer)            [(None, 256, 256, 2) 0                                            \n",
      "__________________________________________________________________________________________________\n",
      "conv2d (Conv2D)                 (None, 254, 254, 32) 608         input_1[0][0]                    \n",
      "__________________________________________________________________________________________________\n",
      "max_pooling2d (MaxPooling2D)    (None, 127, 127, 32) 0           conv2d[0][0]                     \n",
      "__________________________________________________________________________________________________\n",
      "conv2d_1 (Conv2D)               (None, 125, 125, 64) 18496       max_pooling2d[0][0]              \n",
      "__________________________________________________________________________________________________\n",
      "input_2 (InputLayer)            [(None, 55)]         0                                            \n",
      "__________________________________________________________________________________________________\n",
      "max_pooling2d_1 (MaxPooling2D)  (None, 62, 62, 64)   0           conv2d_1[0][0]                   \n",
      "__________________________________________________________________________________________________\n",
      "dense (Dense)                   (None, 64)           3584        input_2[0][0]                    \n",
      "__________________________________________________________________________________________________\n",
      "flatten (Flatten)               (None, 246016)       0           max_pooling2d_1[0][0]            \n",
      "__________________________________________________________________________________________________\n",
      "dense_1 (Dense)                 (None, 32)           2080        dense[0][0]                      \n",
      "__________________________________________________________________________________________________\n",
      "concatenate (Concatenate)       (None, 246048)       0           flatten[0][0]                    \n",
      "                                                                 dense_1[0][0]                    \n",
      "__________________________________________________________________________________________________\n",
      "dense_2 (Dense)                 (None, 64)           15747136    concatenate[0][0]                \n",
      "__________________________________________________________________________________________________\n",
      "dense_3 (Dense)                 (None, 32)           2080        dense_2[0][0]                    \n",
      "__________________________________________________________________________________________________\n",
      "dense_4 (Dense)                 (None, 1)            33          dense_3[0][0]                    \n",
      "==================================================================================================\n",
      "Total params: 15,774,017\n",
      "Trainable params: 15,774,017\n",
      "Non-trainable params: 0\n",
      "__________________________________________________________________________________________________\n"
     ]
    }
   ],
   "source": [
    "# Display model summary\n",
    "model.summary()"
   ]
  },
  {
   "cell_type": "code",
   "execution_count": 25,
   "id": "d3976430",
   "metadata": {},
   "outputs": [
    {
     "name": "stdout",
     "output_type": "stream",
     "text": [
      "Type of combined_images: <class 'numpy.ndarray'>\n",
      "Shape of combined_images: (9862, 256, 256, 2)\n",
      "Type of y: <class 'numpy.ndarray'>\n",
      "Length of y: 9862\n"
     ]
    }
   ],
   "source": [
    "# Reset y to be the label column from the cleaned dataframe\n",
    "y = cleaned_df['target_label'].values  # Convert to numpy array if it's a pandas series\n",
    "\n",
    "\n",
    "# Step 1: Verify that combined_images is a numpy array\n",
    "print(\"Type of combined_images:\", type(combined_images))\n",
    "print(\"Shape of combined_images:\", combined_images.shape)\n",
    "\n",
    "# Assuming y is the labels as a numpy array\n",
    "print(\"Type of y:\", type(y))\n",
    "print(\"Length of y:\", len(y))"
   ]
  },
  {
   "cell_type": "code",
   "execution_count": 26,
   "id": "92c1a8ac",
   "metadata": {},
   "outputs": [],
   "source": [
    "\n",
    "# Split combined image data\n",
    "X_train_images, X_test_images, y_train_images, y_test_images = train_test_split(\n",
    "    combined_images, y, test_size=0.2, random_state=42\n",
    ")"
   ]
  },
  {
   "cell_type": "code",
   "execution_count": 27,
   "id": "b56ed014",
   "metadata": {},
   "outputs": [
    {
     "name": "stdout",
     "output_type": "stream",
     "text": [
      "Shapes after split:\n",
      "X_train_images shape: (7889, 256, 256, 2)\n",
      "X_test_images shape: (1973, 256, 256, 2)\n",
      "y_train_images shape: (7889,)\n",
      "y_test_images shape: (1973,)\n",
      "X_train shape: (7889, 55)\n",
      "X_test shape: (1973, 55)\n",
      "y_train shape: (7889,)\n",
      "y_test shape: (1973,)\n"
     ]
    }
   ],
   "source": [
    "# Confirm the split\n",
    "print(\"Shapes after split:\")\n",
    "print(\"X_train_images shape:\", X_train_images.shape)\n",
    "print(\"X_test_images shape:\", X_test_images.shape)\n",
    "print(\"y_train_images shape:\", y_train_images.shape)\n",
    "print(\"y_test_images shape:\", y_test_images.shape)\n",
    "print(\"X_train shape:\", X_train.shape)\n",
    "print(\"X_test shape:\", X_test.shape)\n",
    "print(\"y_train shape:\", y_train.shape)\n",
    "print(\"y_test shape:\", y_test.shape)"
   ]
  },
  {
   "cell_type": "code",
   "execution_count": null,
   "id": "6a40b831",
   "metadata": {},
   "outputs": [],
   "source": []
  },
  {
   "cell_type": "code",
   "execution_count": 28,
   "id": "c3bed912",
   "metadata": {},
   "outputs": [
    {
     "name": "stdout",
     "output_type": "stream",
     "text": [
      "X_train_images shape: (7889, 256, 256, 2) Type: <class 'numpy.ndarray'>\n",
      "X_train shape: (7889, 55) Type: <class 'numpy.ndarray'>\n",
      "y_train shape: (7889,) Type: <class 'pandas.core.series.Series'>\n"
     ]
    }
   ],
   "source": [
    "# Convert to numpy arrays and ensure float data type\n",
    "X_train = np.array(X_train).astype('float32')\n",
    "X_test = np.array(X_test).astype('float32')\n",
    "\n",
    "# Replace inf/-inf with NaN and then fill NaNs\n",
    "X_train = np.nan_to_num(X_train)\n",
    "X_test = np.nan_to_num(X_test)\n",
    "\n",
    "# Verify shapes and types\n",
    "print(\"X_train_images shape:\", X_train_images.shape, \"Type:\", type(X_train_images))\n",
    "print(\"X_train shape:\", X_train.shape, \"Type:\", type(X_train))\n",
    "print(\"y_train shape:\", y_train.shape, \"Type:\", type(y_train))"
   ]
  },
  {
   "cell_type": "code",
   "execution_count": 29,
   "id": "105c859a",
   "metadata": {
    "scrolled": true
   },
   "outputs": [
    {
     "name": "stderr",
     "output_type": "stream",
     "text": [
      "2023-11-27 21:37:50.617098: I tensorflow/compiler/mlir/mlir_graph_optimization_pass.cc:176] None of the MLIR Optimization Passes are enabled (registered 2)\n",
      "2023-11-27 21:37:50.639225: I tensorflow/core/platform/profile_utils/cpu_utils.cc:114] CPU Frequency: 2245720000 Hz\n"
     ]
    },
    {
     "name": "stdout",
     "output_type": "stream",
     "text": [
      "Epoch 1/20\n"
     ]
    },
    {
     "name": "stderr",
     "output_type": "stream",
     "text": [
      "2023-11-27 21:37:51.184311: I tensorflow/stream_executor/platform/default/dso_loader.cc:53] Successfully opened dynamic library libcudnn.so.8\n",
      "2023-11-27 21:37:52.300626: I tensorflow/stream_executor/cuda/cuda_dnn.cc:359] Loaded cuDNN version 8201\n",
      "2023-11-27 21:37:53.800567: W tensorflow/stream_executor/gpu/asm_compiler.cc:191] Falling back to the CUDA driver for PTX compilation; ptxas does not support CC 8.0\n",
      "2023-11-27 21:37:53.800591: W tensorflow/stream_executor/gpu/asm_compiler.cc:194] Used ptxas at ptxas\n",
      "2023-11-27 21:37:53.801490: W tensorflow/stream_executor/gpu/redzone_allocator.cc:314] Unimplemented: ptxas ptxas too old. Falling back to the driver to compile.\n",
      "Relying on driver to perform ptx compilation. \n",
      "Modify $PATH to customize ptxas location.\n",
      "This message will be only logged once.\n",
      "2023-11-27 21:37:55.232784: I tensorflow/stream_executor/platform/default/dso_loader.cc:53] Successfully opened dynamic library libcublas.so.11\n",
      "2023-11-27 21:37:56.629040: I tensorflow/stream_executor/platform/default/dso_loader.cc:53] Successfully opened dynamic library libcublasLt.so.11\n",
      "2023-11-27 21:37:58.102239: I tensorflow/stream_executor/cuda/cuda_blas.cc:1838] TensorFloat-32 will be used for the matrix multiplication. This will only be logged once.\n"
     ]
    },
    {
     "name": "stdout",
     "output_type": "stream",
     "text": [
      "247/247 [==============================] - 24s 49ms/step - loss: 5.6439 - accuracy: 0.8660 - val_loss: 0.3253 - val_accuracy: 0.9067\n",
      "Epoch 2/20\n",
      "247/247 [==============================] - 3s 11ms/step - loss: 0.3375 - accuracy: 0.8980 - val_loss: 0.6681 - val_accuracy: 0.6761\n",
      "Epoch 3/20\n",
      "247/247 [==============================] - 3s 11ms/step - loss: 0.2706 - accuracy: 0.9076 - val_loss: 0.3495 - val_accuracy: 0.9072\n",
      "Epoch 4/20\n",
      "247/247 [==============================] - 3s 11ms/step - loss: 0.1949 - accuracy: 0.9252 - val_loss: 0.4207 - val_accuracy: 0.8794\n",
      "Epoch 5/20\n",
      "247/247 [==============================] - 3s 11ms/step - loss: 0.1352 - accuracy: 0.9507 - val_loss: 0.5551 - val_accuracy: 0.8844\n",
      "Epoch 6/20\n",
      "247/247 [==============================] - 3s 11ms/step - loss: 0.0787 - accuracy: 0.9684 - val_loss: 0.7355 - val_accuracy: 0.8657\n",
      "Epoch 7/20\n",
      "247/247 [==============================] - 3s 11ms/step - loss: 0.0571 - accuracy: 0.9791 - val_loss: 0.8596 - val_accuracy: 0.8844\n",
      "Epoch 8/20\n",
      "247/247 [==============================] - 3s 11ms/step - loss: 0.0394 - accuracy: 0.9845 - val_loss: 1.0955 - val_accuracy: 0.8728\n",
      "Epoch 9/20\n",
      "247/247 [==============================] - 3s 11ms/step - loss: 0.0398 - accuracy: 0.9882 - val_loss: 1.0389 - val_accuracy: 0.8530\n",
      "Epoch 10/20\n",
      "247/247 [==============================] - 3s 11ms/step - loss: 0.0824 - accuracy: 0.9748 - val_loss: 1.1599 - val_accuracy: 0.8723\n",
      "Epoch 11/20\n",
      "247/247 [==============================] - 3s 11ms/step - loss: 0.0344 - accuracy: 0.9885 - val_loss: 1.1812 - val_accuracy: 0.8591\n",
      "Epoch 12/20\n",
      "247/247 [==============================] - 3s 11ms/step - loss: 0.0169 - accuracy: 0.9952 - val_loss: 1.6325 - val_accuracy: 0.8875\n",
      "Epoch 13/20\n",
      "247/247 [==============================] - 3s 12ms/step - loss: 0.0117 - accuracy: 0.9972 - val_loss: 1.3732 - val_accuracy: 0.8632\n",
      "Epoch 14/20\n",
      "247/247 [==============================] - 3s 12ms/step - loss: 0.0171 - accuracy: 0.9954 - val_loss: 1.6382 - val_accuracy: 0.8855\n",
      "Epoch 15/20\n",
      "247/247 [==============================] - 3s 13ms/step - loss: 0.0257 - accuracy: 0.9914 - val_loss: 1.3461 - val_accuracy: 0.8545\n",
      "Epoch 16/20\n",
      "247/247 [==============================] - 3s 11ms/step - loss: 0.0277 - accuracy: 0.9897 - val_loss: 1.5628 - val_accuracy: 0.8718\n",
      "Epoch 17/20\n",
      "247/247 [==============================] - 3s 11ms/step - loss: 0.0100 - accuracy: 0.9970 - val_loss: 1.7336 - val_accuracy: 0.8708\n",
      "Epoch 18/20\n",
      "247/247 [==============================] - 3s 11ms/step - loss: 0.0138 - accuracy: 0.9966 - val_loss: 1.6873 - val_accuracy: 0.8713\n",
      "Epoch 19/20\n",
      "247/247 [==============================] - 3s 11ms/step - loss: 0.0047 - accuracy: 0.9989 - val_loss: 1.7347 - val_accuracy: 0.8702\n",
      "Epoch 20/20\n",
      "247/247 [==============================] - 3s 11ms/step - loss: 0.0188 - accuracy: 0.9957 - val_loss: 1.6413 - val_accuracy: 0.8692\n",
      "62/62 [==============================] - 0s 4ms/step - loss: 1.6413 - accuracy: 0.8692\n",
      "Test loss: 1.641259789466858\n",
      "Test accuracy: 0.8692346811294556\n"
     ]
    }
   ],
   "source": [
    "# Train the model\n",
    "history = model.fit(\n",
    "    [X_train_images, X_train], y_train,\n",
    "    validation_data=([X_test_images, X_test], y_test),\n",
    "    batch_size=32,\n",
    "    epochs=20,\n",
    "    verbose=1\n",
    ")\n",
    "\n",
    "# Evaluate the model\n",
    "evaluation = model.evaluate([X_test_images, X_test], y_test)\n",
    "print(\"Test loss:\", evaluation[0])\n",
    "print(\"Test accuracy:\", evaluation[1])\n"
   ]
  },
  {
   "cell_type": "code",
   "execution_count": 30,
   "id": "dd43aa27",
   "metadata": {},
   "outputs": [
    {
     "data": {
      "image/png": "[encoded data removed]",
      "text/plain": [
       "<Figure size 720x576 with 2 Axes>"
      ]
     },
     "metadata": {
      "needs_background": "light"
     },
     "output_type": "display_data"
    }
   ],
   "source": [
    "from sklearn.metrics import confusion_matrix\n",
    "import seaborn as sns\n",
    "import matplotlib.pyplot as plt\n",
    "\n",
    "# Predict the values from the validation dataset\n",
    "y_pred = model.predict([X_test_images, X_test])\n",
    "y_pred_classes = np.argmax(y_pred, axis=1) \n",
    "\n",
    "# Convert to binary predictions\n",
    "y_pred_binary = (y_pred_classes > 0.5).astype(\"int32\")\n",
    "\n",
    "# Compute the confusion matrix\n",
    "cm = confusion_matrix(y_test, y_pred_binary)\n",
    "\n",
    "# Plotting\n",
    "plt.figure(figsize=(10,8))\n",
    "sns.heatmap(cm, annot=True, fmt='d')\n",
    "plt.ylabel('Actual')\n",
    "plt.xlabel('Predicted')\n",
    "plt.show()\n"
   ]
  },
  {
   "cell_type": "code",
   "execution_count": 31,
   "id": "6884f516",
   "metadata": {},
   "outputs": [
    {
     "data": {
      "image/png": "[encoded data removed]",
      "text/plain": [
       "<Figure size 864x432 with 2 Axes>"
      ]
     },
     "metadata": {
      "needs_background": "light"
     },
     "output_type": "display_data"
    }
   ],
   "source": [
    "# Summarize history for accuracy\n",
    "plt.figure(figsize=(12,6))\n",
    "plt.subplot(1, 2, 1)\n",
    "plt.plot(history.history['accuracy'])\n",
    "plt.plot(history.history['val_accuracy'])\n",
    "plt.title('Model Accuracy')\n",
    "plt.ylabel('Accuracy')\n",
    "plt.xlabel('Epoch')\n",
    "plt.legend(['train', 'test'], loc='upper left')\n",
    "\n",
    "# Summarize history for loss\n",
    "plt.subplot(1, 2, 2)\n",
    "plt.plot(history.history['loss'])\n",
    "plt.plot(history.history['val_loss'])\n",
    "plt.title('Model Loss')\n",
    "plt.ylabel('Loss')\n",
    "plt.xlabel('Epoch')\n",
    "plt.legend(['train', 'test'], loc='upper left')\n",
    "plt.show()\n"
   ]
  },
  {
   "cell_type": "code",
   "execution_count": 34,
   "id": "9e9bd59b",
   "metadata": {},
   "outputs": [
    {
     "name": "stdout",
     "output_type": "stream",
     "text": [
      "Predicted probabilities for the first few samples:\n",
      " [[0.99963033]\n",
      " [0.9051625 ]\n",
      " [0.9051625 ]\n",
      " [0.9999833 ]\n",
      " [0.9051625 ]]\n",
      "Predicted class labels for the first few samples:\n",
      " [[1]\n",
      " [1]\n",
      " [1]\n",
      " [1]\n",
      " [1]]\n"
     ]
    }
   ],
   "source": [
    "# Predict using the model with both image and scalar data\n",
    "y_pred_prob = model.predict([X_test_images, X_test])\n",
    "\n",
    "# Print the first few predictions\n",
    "print(\"Predicted probabilities for the first few samples:\\n\", y_pred_prob[:5])\n",
    "\n",
    "# Convert probabilities to class labels (1 if probability > 0.5, otherwise 0)\n",
    "y_pred_labels = (y_pred_prob > 0.5).astype(int)\n",
    "\n",
    "# Print the converted class labels for the first few predictions\n",
    "print(\"Predicted class labels for the first few samples:\\n\", y_pred_labels[:5])\n",
    "\n"
   ]
  },
  {
   "cell_type": "code",
   "execution_count": 35,
   "id": "80877a1f",
   "metadata": {},
   "outputs": [],
   "source": [
    "# Wrap your Keras model using the built-in sklearn wrapper for compatibility\n",
    "from tensorflow.keras.wrappers.scikit_learn import KerasClassifier"
   ]
  },
  {
   "cell_type": "code",
   "execution_count": 36,
   "id": "72429138",
   "metadata": {},
   "outputs": [],
   "source": [
    "def get_compiled_model():\n",
    "    return model  # Use your existing model here"
   ]
  },
  {
   "cell_type": "code",
   "execution_count": 37,
   "id": "bdb7c64d",
   "metadata": {},
   "outputs": [],
   "source": [
    "model_wrapper = KerasClassifier(build_fn=get_compiled_model, epochs=10, batch_size=10, verbose=0)"
   ]
  },
  {
   "cell_type": "code",
   "execution_count": 38,
   "id": "d4a45018",
   "metadata": {},
   "outputs": [],
   "source": [
    "from sklearn.metrics import accuracy_score\n",
    "from sklearn.utils import shuffle\n",
    "\n",
    "def custom_permutation_importance(model, X_images, X_scalar, y, feature_names, n_repeats=10):\n",
    "    baseline_accuracy = accuracy_score(y, (model.predict([X_images, X_scalar]) > 0.5).astype(int))\n",
    "    importances = np.zeros((X_scalar.shape[1], n_repeats))\n",
    "\n",
    "    for n in range(n_repeats):\n",
    "        shuffled_scores = []\n",
    "        for col in range(X_scalar.shape[1]):\n",
    "            X_temp = X_scalar.copy()\n",
    "            X_temp[:, col] = shuffle(X_temp[:, col])\n",
    "            shuffled_score = accuracy_score(y, (model.predict([X_images, X_temp]) > 0.5).astype(int))\n",
    "            shuffled_scores.append(shuffled_score)\n",
    "        importances[:, n] = baseline_accuracy - np.array(shuffled_scores)\n",
    "\n",
    "    mean_importances = np.mean(importances, axis=1)\n",
    "    std_importances = np.std(importances, axis=1)\n",
    "    \n",
    "    # Plot the feature importances\n",
    "    indices = np.argsort(mean_importances)[::-1]\n",
    "    plt.figure(figsize=(15, 6))\n",
    "    plt.title(\"Feature Importances\")\n",
    "    plt.bar(range(len(indices)), mean_importances[indices], color='b', yerr=std_importances[indices], align='center')\n",
    "    plt.xticks(range(len(indices)), np.array(feature_names)[indices], rotation='vertical')\n",
    "    plt.ylabel('Mean Decrease in Accuracy')\n",
    "    plt.xlabel('Feature')\n",
    "    plt.show()\n",
    "    \n",
    "    return mean_importances, std_importances\n"
   ]
  },
  {
   "cell_type": "code",
   "execution_count": 41,
   "id": "fb8029ee",
   "metadata": {},
   "outputs": [],
   "source": [
    "# Extract feature names from the DataFrame\n",
    "feature_names = cleaned_df.drop(['target_label'], axis=1).columns.tolist()"
   ]
  },
  {
   "cell_type": "code",
   "execution_count": null,
   "id": "af85e662",
   "metadata": {},
   "outputs": [],
   "source": [
    "\n",
    "mean_importances, std_importances = custom_permutation_importance(\n",
    "    model,\n",
    "    X_train_images,\n",
    "    X_train_scaled,\n",
    "    y_train,\n",
    "    feature_names,\n",
    "    n_repeats=30  \n",
    ")"
   ]
  },
  {
   "cell_type": "code",
   "execution_count": null,
   "id": "1c7d51d7",
   "metadata": {},
   "outputs": [],
   "source": []
  },
  {
   "cell_type": "code",
   "execution_count": null,
   "id": "1fa6dfda",
   "metadata": {},
   "outputs": [],
   "source": []
  },
  {
   "cell_type": "code",
   "execution_count": 38,
   "id": "77f39b77",
   "metadata": {},
   "outputs": [],
   "source": [
    "from sklearn.base import BaseEstimator, ClassifierMixin\n",
    "\n",
    "class KerasClassifierWrapper(BaseEstimator, ClassifierMixin):  \n",
    "    def __init__(self, keras_model, full_image_data):\n",
    "        self.keras_model = keras_model\n",
    "        self.full_image_data = full_image_data\n",
    "\n",
    "    def predict(self, X, indices):\n",
    "        # Use indices to get the corresponding subset of image data\n",
    "        corresponding_image_data = self.full_image_data[indices]\n",
    "        return (self.keras_model.predict([corresponding_image_data, X]) > 0.5).astype(int)\n",
    "\n",
    "    def score(self, X, y, indices):\n",
    "        y_pred = self.predict(X, indices)\n",
    "        return np.mean(y_pred.ravel() == y)"
   ]
  },
  {
   "cell_type": "code",
   "execution_count": 39,
   "id": "e9dd4223",
   "metadata": {},
   "outputs": [],
   "source": [
    "def image_data_selector(scalar_data, full_image_data):\n",
    "    indices = []\n",
    "    for row in scalar_data:\n",
    "        index = np.where((cleaned_df.drop(['label'], axis=1).to_numpy() == row).all(axis=1))[0]\n",
    "        if len(index) > 0:\n",
    "            indices.append(index[0])\n",
    "    return full_image_data[indices]\n",
    "\n"
   ]
  },
  {
   "cell_type": "code",
   "execution_count": 40,
   "id": "9d1c4182",
   "metadata": {},
   "outputs": [],
   "source": [
    "def custom_permutation_importance(model_wrapper, X, y, indices, n_repeats=10):\n",
    "    baseline_scores = []\n",
    "    importances = np.zeros((X.shape[1], n_repeats))\n",
    "\n",
    "    for _ in range(n_repeats):\n",
    "        shuffled_scores = []\n",
    "        for col in range(X.shape[1]):\n",
    "            X_temp = X.copy()\n",
    "            X_temp[:, col] = shuffle(X_temp[:, col])  # Shuffle individual column\n",
    "            shuffled_scores.append(model_wrapper.score(X_temp, y, indices))\n",
    "\n",
    "        baseline_score = model_wrapper.score(X, y, indices)\n",
    "        baseline_scores.append(baseline_score)\n",
    "        importances[:, _] = baseline_score - np.array(shuffled_scores)\n",
    "\n",
    "    return np.mean(importances, axis=1), np.std(importances, axis=1)\n"
   ]
  },
  {
   "cell_type": "code",
   "execution_count": 41,
   "id": "c40431bb",
   "metadata": {},
   "outputs": [],
   "source": [
    "# Instantiate the model wrapper\n",
    "model_wrapper = KerasClassifierWrapper(model, combined_images)"
   ]
  },
  {
   "cell_type": "code",
   "execution_count": 42,
   "id": "68b77a7e",
   "metadata": {},
   "outputs": [],
   "source": [
    "# Calculate feature importances\n",
    "mean_importances, std_importances = custom_permutation_importance(\n",
    "    model_wrapper, X_test_scaled, y_test, idx_test\n",
    ")"
   ]
  },
  {
   "cell_type": "code",
   "execution_count": null,
   "id": "d9145e53",
   "metadata": {},
   "outputs": [],
   "source": []
  },
  {
   "cell_type": "code",
   "execution_count": 44,
   "id": "26c5a3eb",
   "metadata": {},
   "outputs": [
    {
     "data": {
      "image/png": "[encoded data removed]",
      "text/plain": [
       "<Figure size 864x432 with 1 Axes>"
      ]
     },
     "metadata": {
      "needs_background": "light"
     },
     "output_type": "display_data"
    }
   ],
   "source": [
    "# Extract column names from the original DataFrame (excluding the target label)\n",
    "feature_names = cleaned_df.drop(['label'], axis=1).columns\n",
    "\n",
    "# Plot the feature importances\n",
    "plt.figure(figsize=(12, 6))\n",
    "indices = np.argsort(mean_importances)[::-1]\n",
    "plt.title(\"Feature Importances\")\n",
    "plt.bar(range(len(mean_importances)), mean_importances[indices], color='b', align='center')\n",
    "plt.xticks(range(len(mean_importances)), feature_names[indices], rotation=90)\n",
    "plt.ylabel('Importance Score')\n",
    "plt.xlabel('Feature')\n",
    "plt.show()\n"
   ]
  },
  {
   "cell_type": "code",
   "execution_count": null,
   "id": "cdf0e3a0",
   "metadata": {},
   "outputs": [],
   "source": []
  },
  {
   "cell_type": "code",
   "execution_count": null,
   "id": "57c6f42e",
   "metadata": {},
   "outputs": [],
   "source": []
  },
  {
   "cell_type": "code",
   "execution_count": null,
   "id": "56030fde",
   "metadata": {},
   "outputs": [],
   "source": []
  },
  {
   "cell_type": "code",
   "execution_count": null,
   "id": "4139d47a",
   "metadata": {},
   "outputs": [],
   "source": []
  },
  {
   "cell_type": "code",
   "execution_count": null,
   "id": "4f0b23a1",
   "metadata": {},
   "outputs": [],
   "source": []
  }
 ],
 "metadata": {
  "kernelspec": {
   "display_name": "Python 3 (ipykernel)",
   "language": "python",
   "name": "python3"
  },
  "language_info": {
   "codemirror_mode": {
    "name": "ipython",
    "version": 3
   },
   "file_extension": ".py",
   "mimetype": "text/x-python",
   "name": "python",
   "nbconvert_exporter": "python",
   "pygments_lexer": "ipython3",
   "version": "3.9.7"
  }
 },
 "nbformat": 4,
 "nbformat_minor": 5
}
