{
 "cells": [
  {
   "cell_type": "code",
   "execution_count": 1,
   "id": "48f3339b",
   "metadata": {},
   "outputs": [
    {
     "name": "stdout",
     "output_type": "stream",
     "text": [
      "Populating the interactive namespace from numpy and matplotlib\n"
     ]
    }
   ],
   "source": [
    "%pylab inline\n",
    "%load_ext autoreload\n",
    "%autoreload 2"
   ]
  },
  {
   "cell_type": "code",
   "execution_count": 2,
   "id": "4cea3950",
   "metadata": {},
   "outputs": [],
   "source": [
    "import feature_extractor as fe\n",
    "import data_cleaner as dc\n",
    "# import pandas as pd\n",
    "from sklearn.model_selection import train_test_split, GridSearchCV\n",
    "from sklearn.ensemble import RandomForestClassifier\n",
    "from sklearn.metrics import classification_report, confusion_matrix\n",
    "from sklearn.preprocessing import OneHotEncoder, LabelEncoder\n",
    "from sklearn.model_selection import train_test_split\n",
    "from sklearn.preprocessing import StandardScaler\n",
    "import time\n",
    "import seaborn as sns\n",
    "import pandas as pd\n",
    "# import numpy as np\n",
    "# sys.path.append('../..')\n",
    "# import omama as O"
   ]
  },
  {
   "cell_type": "code",
   "execution_count": 3,
   "id": "74c73818",
   "metadata": {},
   "outputs": [],
   "source": [
    "# cache_path = \"/home/ryan.zurrin001/binlink/sample_dataset.pkl\"\n",
    "cache_path = \"/home/ryan.zurrin001/binlink/cs438_features_imgs.pkl\""
   ]
  },
  {
   "cell_type": "code",
   "execution_count": 4,
   "id": "65d4f512",
   "metadata": {},
   "outputs": [],
   "source": [
    "# Load the DataFrame\n",
    "df_features = pd.read_pickle(cache_path)"
   ]
  },
  {
   "cell_type": "code",
   "execution_count": 5,
   "id": "9e56307b",
   "metadata": {},
   "outputs": [
    {
     "data": {
      "text/plain": [
       "163568"
      ]
     },
     "execution_count": 5,
     "metadata": {},
     "output_type": "execute_result"
    }
   ],
   "source": [
    "len(df_features)"
   ]
  },
  {
   "cell_type": "code",
   "execution_count": 6,
   "id": "2b3d279b",
   "metadata": {},
   "outputs": [
    {
     "data": {
      "text/plain": [
       "Index(['path', 'label', 'StudyInstanceUID', 'ImageLaterality',\n",
       "       'SOPInstanceUID', 'PatientAge', 'Manufacturer', 'ManufacturerModelName',\n",
       "       'DistanceSourceToDetector', 'DistanceSourceToPatient', 'ExposureTime',\n",
       "       'XRayTubeCurrent', 'Exposure', 'ExposureInuAs', 'KVP',\n",
       "       'BodyPartThickness', 'CompressionForce', 'PositionerPrimaryAngle',\n",
       "       'ViewPosition', 'DetectorTemperature', 'DetectorType',\n",
       "       'FieldOfViewOrigin', 'Rows', 'Columns', 'PixelSpacing',\n",
       "       'BreastImplantPresent', 'WindowCenter', 'WindowWidth', 'HalfValueLayer',\n",
       "       'original_shape', 'shape', 'coords', 'resized_coords', 'score',\n",
       "       'histogram', 'image'],\n",
       "      dtype='object')"
      ]
     },
     "execution_count": 6,
     "metadata": {},
     "output_type": "execute_result"
    }
   ],
   "source": [
    "df_features.columns"
   ]
  },
  {
   "cell_type": "code",
   "execution_count": 7,
   "id": "03f51a25",
   "metadata": {},
   "outputs": [],
   "source": [
    "cleaner = dc.DataCleaner(df_features)"
   ]
  },
  {
   "cell_type": "code",
   "execution_count": 8,
   "id": "3e47dc07",
   "metadata": {},
   "outputs": [
    {
     "name": "stdout",
     "output_type": "stream",
     "text": [
      "Initial length: 163568\n"
     ]
    }
   ],
   "source": [
    "print(\"Initial length:\", len(cleaner.df))"
   ]
  },
  {
   "cell_type": "code",
   "execution_count": 9,
   "id": "afa3bf91",
   "metadata": {},
   "outputs": [
    {
     "name": "stdout",
     "output_type": "stream",
     "text": [
      "Cleaning data...\n",
      "drop unnecessary columns\n",
      "handle missing values\n",
      "process ages\n",
      "label encode\n",
      "map labels\n",
      "handle missing values\n",
      "add correctness column\n",
      "expand and extend columns\n"
     ]
    },
    {
     "data": {
      "application/vnd.jupyter.widget-view+json": {
       "model_id": "ad1160ca08474ef0976ed125a42b1ae8",
       "version_major": 2,
       "version_minor": 0
      },
      "text/plain": [
       "Expanding Columns:   0%|          | 0/2 [00:00<?, ?it/s]"
      ]
     },
     "metadata": {},
     "output_type": "display_data"
    },
    {
     "data": {
      "application/vnd.jupyter.widget-view+json": {
       "model_id": "621e80a2113e4a1b8dd124765d564aa3",
       "version_major": 2,
       "version_minor": 0
      },
      "text/plain": [
       "Extending Columns:   0%|          | 0/3 [00:00<?, ?it/s]"
      ]
     },
     "metadata": {},
     "output_type": "display_data"
    },
    {
     "name": "stdout",
     "output_type": "stream",
     "text": [
      "process and flatten columns\n",
      "handle missing values\n"
     ]
    }
   ],
   "source": [
    "cleaned_df = cleaner.clean_data()"
   ]
  },
  {
   "cell_type": "code",
   "execution_count": 10,
   "id": "d6c5fa59",
   "metadata": {},
   "outputs": [
    {
     "data": {
      "text/plain": [
       "161299"
      ]
     },
     "execution_count": 10,
     "metadata": {},
     "output_type": "execute_result"
    }
   ],
   "source": [
    "len(cleaned_df)"
   ]
  },
  {
   "cell_type": "code",
   "execution_count": 11,
   "id": "d04803e7",
   "metadata": {},
   "outputs": [
    {
     "data": {
      "text/plain": [
       "Index(['label', 'ImageLaterality', 'PatientAge', 'Manufacturer',\n",
       "       'ManufacturerModelName', 'DistanceSourceToDetector',\n",
       "       'DistanceSourceToPatient', 'ExposureTime', 'XRayTubeCurrent',\n",
       "       'Exposure', 'ExposureInuAs', 'KVP', 'BodyPartThickness',\n",
       "       'CompressionForce', 'PositionerPrimaryAngle', 'ViewPosition',\n",
       "       'DetectorTemperature', 'DetectorType', 'Rows', 'Columns', 'score',\n",
       "       'target_label', 'coords1', 'coords2', 'coords3', 'coords4',\n",
       "       'resized_coords1', 'resized_coords2', 'resized_coords3',\n",
       "       'resized_coords4', 'FieldOfViewOrigin1', 'FieldOfViewOrigin2',\n",
       "       'WindowCenter1', 'WindowCenter2', 'WindowCenter3', 'WindowCenter4',\n",
       "       'WindowWidth1', 'WindowWidth2', 'WindowWidth3', 'WindowWidth4',\n",
       "       'histogram_mean', 'histogram_median', 'histogram_std', 'histogram_min',\n",
       "       'histogram_max', 'histogram_percentile_25', 'histogram_percentile_50',\n",
       "       'histogram_percentile_75', 'flattened_image_mean',\n",
       "       'flattened_image_median', 'flattened_image_std', 'flattened_image_min',\n",
       "       'flattened_image_max', 'flattened_image_percentile_25',\n",
       "       'flattened_image_percentile_50', 'flattened_image_percentile_75'],\n",
       "      dtype='object')"
      ]
     },
     "execution_count": 11,
     "metadata": {},
     "output_type": "execute_result"
    }
   ],
   "source": [
    "cleaned_df.columns"
   ]
  },
  {
   "cell_type": "code",
   "execution_count": null,
   "id": "d5f5722e",
   "metadata": {},
   "outputs": [],
   "source": []
  },
  {
   "cell_type": "code",
   "execution_count": null,
   "id": "38746a00",
   "metadata": {},
   "outputs": [],
   "source": []
  },
  {
   "cell_type": "code",
   "execution_count": 12,
   "id": "4009a1ef",
   "metadata": {},
   "outputs": [
    {
     "name": "stdout",
     "output_type": "stream",
     "text": [
      "Number of unique values per column:\n",
      "label                                 2\n",
      "ImageLaterality                       2\n",
      "PatientAge                          775\n",
      "Manufacturer                          6\n",
      "ManufacturerModelName                29\n",
      "DistanceSourceToDetector              2\n",
      "DistanceSourceToPatient              77\n",
      "ExposureTime                       2480\n",
      "XRayTubeCurrent                      46\n",
      "Exposure                            281\n",
      "ExposureInuAs                      2311\n",
      "KVP                                  21\n",
      "BodyPartThickness                   118\n",
      "CompressionForce                    541\n",
      "PositionerPrimaryAngle              269\n",
      "ViewPosition                          4\n",
      "DetectorTemperature                 765\n",
      "DetectorType                          2\n",
      "Rows                                  5\n",
      "Columns                               6\n",
      "score                            160895\n",
      "target_label                          2\n",
      "coords1                            2641\n",
      "coords2                            2846\n",
      "coords3                            2673\n",
      "coords4                            2901\n",
      "resized_coords1                     250\n",
      "resized_coords2                     251\n",
      "resized_coords3                     250\n",
      "resized_coords4                     247\n",
      "FieldOfViewOrigin1                    7\n",
      "FieldOfViewOrigin2                   43\n",
      "WindowCenter1                       487\n",
      "WindowCenter2                       487\n",
      "WindowCenter3                       496\n",
      "WindowCenter4                       352\n",
      "WindowWidth1                          8\n",
      "WindowWidth2                          7\n",
      "WindowWidth3                          7\n",
      "WindowWidth4                        270\n",
      "histogram_mean                        1\n",
      "histogram_median                    146\n",
      "histogram_std                    161285\n",
      "histogram_min                        16\n",
      "histogram_max                     42798\n",
      "histogram_percentile_25             138\n",
      "histogram_percentile_50             146\n",
      "histogram_percentile_75             604\n",
      "flattened_image_mean             158823\n",
      "flattened_image_median              355\n",
      "flattened_image_std              161296\n",
      "flattened_image_min                  36\n",
      "flattened_image_max                 100\n",
      "flattened_image_percentile_25       132\n",
      "flattened_image_percentile_50       355\n",
      "flattened_image_percentile_75       428\n",
      "dtype: int64\n"
     ]
    }
   ],
   "source": [
    "unique_values = cleaned_df.nunique()\n",
    "\n",
    "print(\"Number of unique values per column:\")\n",
    "print(unique_values)"
   ]
  },
  {
   "cell_type": "code",
   "execution_count": 13,
   "id": "214e2a03",
   "metadata": {},
   "outputs": [
    {
     "name": "stdout",
     "output_type": "stream",
     "text": [
      "0    144767\n",
      "1     16532\n",
      "Name: target_label, dtype: int64\n"
     ]
    }
   ],
   "source": [
    "# Assuming `df` is your DataFrame and 'target_label' is your column of interest\n",
    "count_of_values = cleaned_df['target_label'].value_counts()\n",
    "\n",
    "# This will print the count of each unique value in the 'target_label' column\n",
    "print(count_of_values)"
   ]
  },
  {
   "cell_type": "code",
   "execution_count": 36,
   "id": "322ad74a",
   "metadata": {},
   "outputs": [
    {
     "name": "stdout",
     "output_type": "stream",
     "text": [
      "label                              int64\n",
      "ImageLaterality                    int64\n",
      "PatientAge                       float64\n",
      "Manufacturer                       int64\n",
      "ManufacturerModelName              int64\n",
      "DistanceSourceToDetector         float64\n",
      "DistanceSourceToPatient          float64\n",
      "ExposureTime                       int64\n",
      "XRayTubeCurrent                    int64\n",
      "Exposure                           int64\n",
      "ExposureInuAs                      int64\n",
      "KVP                              float64\n",
      "BodyPartThickness                float64\n",
      "CompressionForce                 float64\n",
      "PositionerPrimaryAngle           float64\n",
      "ViewPosition                       int64\n",
      "DetectorTemperature              float64\n",
      "DetectorType                       int64\n",
      "Rows                               int64\n",
      "Columns                            int64\n",
      "score                            float64\n",
      "target_label                       int64\n",
      "coords1                          float64\n",
      "coords2                          float64\n",
      "coords3                          float64\n",
      "coords4                          float64\n",
      "resized_coords1                    int64\n",
      "resized_coords2                    int64\n",
      "resized_coords3                    int64\n",
      "resized_coords4                    int64\n",
      "FieldOfViewOrigin1               float64\n",
      "FieldOfViewOrigin2               float64\n",
      "WindowCenter1                    float64\n",
      "WindowCenter2                    float64\n",
      "WindowCenter3                    float64\n",
      "WindowCenter4                    float64\n",
      "WindowWidth1                     float64\n",
      "WindowWidth2                     float64\n",
      "WindowWidth3                     float64\n",
      "WindowWidth4                     float64\n",
      "histogram_mean                   float64\n",
      "histogram_median                 float64\n",
      "histogram_std                    float64\n",
      "histogram_min                    float64\n",
      "histogram_max                    float64\n",
      "histogram_percentile_25          float64\n",
      "histogram_percentile_50          float64\n",
      "histogram_percentile_75          float64\n",
      "flattened_image_mean             float64\n",
      "flattened_image_median           float64\n",
      "flattened_image_std              float64\n",
      "flattened_image_min                int64\n",
      "flattened_image_max                int64\n",
      "flattened_image_percentile_25    float64\n",
      "flattened_image_percentile_50    float64\n",
      "flattened_image_percentile_75    float64\n",
      "dtype: object\n"
     ]
    }
   ],
   "source": [
    "for col in non_numeric_columns:\n",
    "    cleaned_df[col] = pd.to_numeric(cleaned_df[col], errors='coerce')\n",
    "\n",
    "# Now check the types again\n",
    "print(cleaned_df.dtypes)\n"
   ]
  },
  {
   "cell_type": "code",
   "execution_count": 38,
   "id": "8049a88d",
   "metadata": {},
   "outputs": [
    {
     "name": "stdout",
     "output_type": "stream",
     "text": [
      "label                            0\n",
      "ImageLaterality                  0\n",
      "PatientAge                       0\n",
      "Manufacturer                     0\n",
      "ManufacturerModelName            0\n",
      "DistanceSourceToDetector         0\n",
      "DistanceSourceToPatient          0\n",
      "ExposureTime                     0\n",
      "XRayTubeCurrent                  0\n",
      "Exposure                         0\n",
      "ExposureInuAs                    0\n",
      "KVP                              0\n",
      "BodyPartThickness                0\n",
      "CompressionForce                 0\n",
      "PositionerPrimaryAngle           0\n",
      "ViewPosition                     0\n",
      "DetectorTemperature              0\n",
      "DetectorType                     0\n",
      "Rows                             0\n",
      "Columns                          0\n",
      "score                            0\n",
      "target_label                     0\n",
      "coords1                          0\n",
      "coords2                          0\n",
      "coords3                          0\n",
      "coords4                          0\n",
      "resized_coords1                  0\n",
      "resized_coords2                  0\n",
      "resized_coords3                  0\n",
      "resized_coords4                  0\n",
      "FieldOfViewOrigin1               0\n",
      "FieldOfViewOrigin2               0\n",
      "WindowCenter1                    0\n",
      "WindowCenter2                    0\n",
      "WindowCenter3                    0\n",
      "WindowCenter4                    0\n",
      "WindowWidth1                     0\n",
      "WindowWidth2                     0\n",
      "WindowWidth3                     0\n",
      "WindowWidth4                     0\n",
      "histogram_mean                   0\n",
      "histogram_median                 0\n",
      "histogram_std                    0\n",
      "histogram_min                    0\n",
      "histogram_max                    0\n",
      "histogram_percentile_25          0\n",
      "histogram_percentile_50          0\n",
      "histogram_percentile_75          0\n",
      "flattened_image_mean             0\n",
      "flattened_image_median           0\n",
      "flattened_image_std              0\n",
      "flattened_image_min              0\n",
      "flattened_image_max              0\n",
      "flattened_image_percentile_25    0\n",
      "flattened_image_percentile_50    0\n",
      "flattened_image_percentile_75    0\n",
      "dtype: int64\n"
     ]
    }
   ],
   "source": [
    "# Check for NaN values\n",
    "print(cleaned_df.isna().sum())\n"
   ]
  },
  {
   "cell_type": "code",
   "execution_count": null,
   "id": "d975acb8",
   "metadata": {},
   "outputs": [],
   "source": []
  },
  {
   "cell_type": "code",
   "execution_count": null,
   "id": "4fd85753",
   "metadata": {},
   "outputs": [],
   "source": []
  },
  {
   "cell_type": "code",
   "execution_count": 14,
   "id": "a7b19dd7",
   "metadata": {},
   "outputs": [],
   "source": [
    "# Define your features and target variable\n",
    "X = cleaned_df.drop('target_label', axis=1)  # all columns except the label\n",
    "y = cleaned_df['target_label']  # the target variable\n",
    "\n",
    "# Split the dataset\n",
    "X_train, X_test, y_train, y_test = train_test_split(X, y, test_size=0.2, random_state=42)\n"
   ]
  },
  {
   "cell_type": "code",
   "execution_count": 15,
   "id": "c061b744",
   "metadata": {},
   "outputs": [],
   "source": [
    "scaler = StandardScaler()\n",
    "X_train_scaled = scaler.fit_transform(X_train)\n",
    "X_test_scaled = scaler.transform(X_test)"
   ]
  },
  {
   "cell_type": "code",
   "execution_count": 16,
   "id": "7145b102",
   "metadata": {},
   "outputs": [],
   "source": [
    "from sklearn.utils.class_weight import compute_class_weight\n",
    "\n",
    "class_weights = compute_class_weight('balanced', classes=np.unique(y_train), y=y_train)\n",
    "class_weights_dict = dict(enumerate(class_weights))"
   ]
  },
  {
   "cell_type": "code",
   "execution_count": 17,
   "id": "aac238d1",
   "metadata": {},
   "outputs": [
    {
     "ename": "AttributeError",
     "evalue": "'str' object has no attribute 'decode'",
     "output_type": "error",
     "traceback": [
      "\u001b[0;31m---------------------------------------------------------------------------\u001b[0m",
      "\u001b[0;31mAttributeError\u001b[0m                            Traceback (most recent call last)",
      "\u001b[0;32m/tmp/ipykernel_3853290/4278260957.py\u001b[0m in \u001b[0;36m<module>\u001b[0;34m\u001b[0m\n\u001b[1;32m      2\u001b[0m \u001b[0;34m\u001b[0m\u001b[0m\n\u001b[1;32m      3\u001b[0m \u001b[0mlogistic_model\u001b[0m \u001b[0;34m=\u001b[0m \u001b[0mLogisticRegression\u001b[0m\u001b[0;34m(\u001b[0m\u001b[0mclass_weight\u001b[0m\u001b[0;34m=\u001b[0m\u001b[0mclass_weights_dict\u001b[0m\u001b[0;34m,\u001b[0m \u001b[0mrandom_state\u001b[0m\u001b[0;34m=\u001b[0m\u001b[0;36m42\u001b[0m\u001b[0;34m)\u001b[0m\u001b[0;34m\u001b[0m\u001b[0;34m\u001b[0m\u001b[0m\n\u001b[0;32m----> 4\u001b[0;31m \u001b[0mlogistic_model\u001b[0m\u001b[0;34m.\u001b[0m\u001b[0mfit\u001b[0m\u001b[0;34m(\u001b[0m\u001b[0mX_train_scaled\u001b[0m\u001b[0;34m,\u001b[0m \u001b[0my_train\u001b[0m\u001b[0;34m)\u001b[0m\u001b[0;34m\u001b[0m\u001b[0;34m\u001b[0m\u001b[0m\n\u001b[0m",
      "\u001b[0;32m~/miniconda3/envs/O/lib/python3.9/site-packages/sklearn/linear_model/_logistic.py\u001b[0m in \u001b[0;36mfit\u001b[0;34m(self, X, y, sample_weight)\u001b[0m\n\u001b[1;32m   1405\u001b[0m         \u001b[0;32melse\u001b[0m\u001b[0;34m:\u001b[0m\u001b[0;34m\u001b[0m\u001b[0;34m\u001b[0m\u001b[0m\n\u001b[1;32m   1406\u001b[0m             \u001b[0mprefer\u001b[0m \u001b[0;34m=\u001b[0m \u001b[0;34m'processes'\u001b[0m\u001b[0;34m\u001b[0m\u001b[0;34m\u001b[0m\u001b[0m\n\u001b[0;32m-> 1407\u001b[0;31m         fold_coefs_ = Parallel(n_jobs=self.n_jobs, verbose=self.verbose,\n\u001b[0m\u001b[1;32m   1408\u001b[0m                                \u001b[0;34m**\u001b[0m\u001b[0m_joblib_parallel_args\u001b[0m\u001b[0;34m(\u001b[0m\u001b[0mprefer\u001b[0m\u001b[0;34m=\u001b[0m\u001b[0mprefer\u001b[0m\u001b[0;34m)\u001b[0m\u001b[0;34m)\u001b[0m\u001b[0;34m(\u001b[0m\u001b[0;34m\u001b[0m\u001b[0;34m\u001b[0m\u001b[0m\n\u001b[1;32m   1409\u001b[0m             path_func(X, y, pos_class=class_, Cs=[C_],\n",
      "\u001b[0;32m~/miniconda3/envs/O/lib/python3.9/site-packages/joblib/parallel.py\u001b[0m in \u001b[0;36m__call__\u001b[0;34m(self, iterable)\u001b[0m\n\u001b[1;32m   1041\u001b[0m             \u001b[0;31m# remaining jobs.\u001b[0m\u001b[0;34m\u001b[0m\u001b[0;34m\u001b[0m\u001b[0m\n\u001b[1;32m   1042\u001b[0m             \u001b[0mself\u001b[0m\u001b[0;34m.\u001b[0m\u001b[0m_iterating\u001b[0m \u001b[0;34m=\u001b[0m \u001b[0;32mFalse\u001b[0m\u001b[0;34m\u001b[0m\u001b[0;34m\u001b[0m\u001b[0m\n\u001b[0;32m-> 1043\u001b[0;31m             \u001b[0;32mif\u001b[0m \u001b[0mself\u001b[0m\u001b[0;34m.\u001b[0m\u001b[0mdispatch_one_batch\u001b[0m\u001b[0;34m(\u001b[0m\u001b[0miterator\u001b[0m\u001b[0;34m)\u001b[0m\u001b[0;34m:\u001b[0m\u001b[0;34m\u001b[0m\u001b[0;34m\u001b[0m\u001b[0m\n\u001b[0m\u001b[1;32m   1044\u001b[0m                 \u001b[0mself\u001b[0m\u001b[0;34m.\u001b[0m\u001b[0m_iterating\u001b[0m \u001b[0;34m=\u001b[0m \u001b[0mself\u001b[0m\u001b[0;34m.\u001b[0m\u001b[0m_original_iterator\u001b[0m \u001b[0;32mis\u001b[0m \u001b[0;32mnot\u001b[0m \u001b[0;32mNone\u001b[0m\u001b[0;34m\u001b[0m\u001b[0;34m\u001b[0m\u001b[0m\n\u001b[1;32m   1045\u001b[0m \u001b[0;34m\u001b[0m\u001b[0m\n",
      "\u001b[0;32m~/miniconda3/envs/O/lib/python3.9/site-packages/joblib/parallel.py\u001b[0m in \u001b[0;36mdispatch_one_batch\u001b[0;34m(self, iterator)\u001b[0m\n\u001b[1;32m    859\u001b[0m                 \u001b[0;32mreturn\u001b[0m \u001b[0;32mFalse\u001b[0m\u001b[0;34m\u001b[0m\u001b[0;34m\u001b[0m\u001b[0m\n\u001b[1;32m    860\u001b[0m             \u001b[0;32melse\u001b[0m\u001b[0;34m:\u001b[0m\u001b[0;34m\u001b[0m\u001b[0;34m\u001b[0m\u001b[0m\n\u001b[0;32m--> 861\u001b[0;31m                 \u001b[0mself\u001b[0m\u001b[0;34m.\u001b[0m\u001b[0m_dispatch\u001b[0m\u001b[0;34m(\u001b[0m\u001b[0mtasks\u001b[0m\u001b[0;34m)\u001b[0m\u001b[0;34m\u001b[0m\u001b[0;34m\u001b[0m\u001b[0m\n\u001b[0m\u001b[1;32m    862\u001b[0m                 \u001b[0;32mreturn\u001b[0m \u001b[0;32mTrue\u001b[0m\u001b[0;34m\u001b[0m\u001b[0;34m\u001b[0m\u001b[0m\n\u001b[1;32m    863\u001b[0m \u001b[0;34m\u001b[0m\u001b[0m\n",
      "\u001b[0;32m~/miniconda3/envs/O/lib/python3.9/site-packages/joblib/parallel.py\u001b[0m in \u001b[0;36m_dispatch\u001b[0;34m(self, batch)\u001b[0m\n\u001b[1;32m    777\u001b[0m         \u001b[0;32mwith\u001b[0m \u001b[0mself\u001b[0m\u001b[0;34m.\u001b[0m\u001b[0m_lock\u001b[0m\u001b[0;34m:\u001b[0m\u001b[0;34m\u001b[0m\u001b[0;34m\u001b[0m\u001b[0m\n\u001b[1;32m    778\u001b[0m             \u001b[0mjob_idx\u001b[0m \u001b[0;34m=\u001b[0m \u001b[0mlen\u001b[0m\u001b[0;34m(\u001b[0m\u001b[0mself\u001b[0m\u001b[0;34m.\u001b[0m\u001b[0m_jobs\u001b[0m\u001b[0;34m)\u001b[0m\u001b[0;34m\u001b[0m\u001b[0;34m\u001b[0m\u001b[0m\n\u001b[0;32m--> 779\u001b[0;31m             \u001b[0mjob\u001b[0m \u001b[0;34m=\u001b[0m \u001b[0mself\u001b[0m\u001b[0;34m.\u001b[0m\u001b[0m_backend\u001b[0m\u001b[0;34m.\u001b[0m\u001b[0mapply_async\u001b[0m\u001b[0;34m(\u001b[0m\u001b[0mbatch\u001b[0m\u001b[0;34m,\u001b[0m \u001b[0mcallback\u001b[0m\u001b[0;34m=\u001b[0m\u001b[0mcb\u001b[0m\u001b[0;34m)\u001b[0m\u001b[0;34m\u001b[0m\u001b[0;34m\u001b[0m\u001b[0m\n\u001b[0m\u001b[1;32m    780\u001b[0m             \u001b[0;31m# A job can complete so quickly than its callback is\u001b[0m\u001b[0;34m\u001b[0m\u001b[0;34m\u001b[0m\u001b[0m\n\u001b[1;32m    781\u001b[0m             \u001b[0;31m# called before we get here, causing self._jobs to\u001b[0m\u001b[0;34m\u001b[0m\u001b[0;34m\u001b[0m\u001b[0m\n",
      "\u001b[0;32m~/miniconda3/envs/O/lib/python3.9/site-packages/joblib/_parallel_backends.py\u001b[0m in \u001b[0;36mapply_async\u001b[0;34m(self, func, callback)\u001b[0m\n\u001b[1;32m    206\u001b[0m     \u001b[0;32mdef\u001b[0m \u001b[0mapply_async\u001b[0m\u001b[0;34m(\u001b[0m\u001b[0mself\u001b[0m\u001b[0;34m,\u001b[0m \u001b[0mfunc\u001b[0m\u001b[0;34m,\u001b[0m \u001b[0mcallback\u001b[0m\u001b[0;34m=\u001b[0m\u001b[0;32mNone\u001b[0m\u001b[0;34m)\u001b[0m\u001b[0;34m:\u001b[0m\u001b[0;34m\u001b[0m\u001b[0;34m\u001b[0m\u001b[0m\n\u001b[1;32m    207\u001b[0m         \u001b[0;34m\"\"\"Schedule a func to be run\"\"\"\u001b[0m\u001b[0;34m\u001b[0m\u001b[0;34m\u001b[0m\u001b[0m\n\u001b[0;32m--> 208\u001b[0;31m         \u001b[0mresult\u001b[0m \u001b[0;34m=\u001b[0m \u001b[0mImmediateResult\u001b[0m\u001b[0;34m(\u001b[0m\u001b[0mfunc\u001b[0m\u001b[0;34m)\u001b[0m\u001b[0;34m\u001b[0m\u001b[0;34m\u001b[0m\u001b[0m\n\u001b[0m\u001b[1;32m    209\u001b[0m         \u001b[0;32mif\u001b[0m \u001b[0mcallback\u001b[0m\u001b[0;34m:\u001b[0m\u001b[0;34m\u001b[0m\u001b[0;34m\u001b[0m\u001b[0m\n\u001b[1;32m    210\u001b[0m             \u001b[0mcallback\u001b[0m\u001b[0;34m(\u001b[0m\u001b[0mresult\u001b[0m\u001b[0;34m)\u001b[0m\u001b[0;34m\u001b[0m\u001b[0;34m\u001b[0m\u001b[0m\n",
      "\u001b[0;32m~/miniconda3/envs/O/lib/python3.9/site-packages/joblib/_parallel_backends.py\u001b[0m in \u001b[0;36m__init__\u001b[0;34m(self, batch)\u001b[0m\n\u001b[1;32m    570\u001b[0m         \u001b[0;31m# Don't delay the application, to avoid keeping the input\u001b[0m\u001b[0;34m\u001b[0m\u001b[0;34m\u001b[0m\u001b[0m\n\u001b[1;32m    571\u001b[0m         \u001b[0;31m# arguments in memory\u001b[0m\u001b[0;34m\u001b[0m\u001b[0;34m\u001b[0m\u001b[0m\n\u001b[0;32m--> 572\u001b[0;31m         \u001b[0mself\u001b[0m\u001b[0;34m.\u001b[0m\u001b[0mresults\u001b[0m \u001b[0;34m=\u001b[0m \u001b[0mbatch\u001b[0m\u001b[0;34m(\u001b[0m\u001b[0;34m)\u001b[0m\u001b[0;34m\u001b[0m\u001b[0;34m\u001b[0m\u001b[0m\n\u001b[0m\u001b[1;32m    573\u001b[0m \u001b[0;34m\u001b[0m\u001b[0m\n\u001b[1;32m    574\u001b[0m     \u001b[0;32mdef\u001b[0m \u001b[0mget\u001b[0m\u001b[0;34m(\u001b[0m\u001b[0mself\u001b[0m\u001b[0;34m)\u001b[0m\u001b[0;34m:\u001b[0m\u001b[0;34m\u001b[0m\u001b[0;34m\u001b[0m\u001b[0m\n",
      "\u001b[0;32m~/miniconda3/envs/O/lib/python3.9/site-packages/joblib/parallel.py\u001b[0m in \u001b[0;36m__call__\u001b[0;34m(self)\u001b[0m\n\u001b[1;32m    260\u001b[0m         \u001b[0;31m# change the default number of processes to -1\u001b[0m\u001b[0;34m\u001b[0m\u001b[0;34m\u001b[0m\u001b[0m\n\u001b[1;32m    261\u001b[0m         \u001b[0;32mwith\u001b[0m \u001b[0mparallel_backend\u001b[0m\u001b[0;34m(\u001b[0m\u001b[0mself\u001b[0m\u001b[0;34m.\u001b[0m\u001b[0m_backend\u001b[0m\u001b[0;34m,\u001b[0m \u001b[0mn_jobs\u001b[0m\u001b[0;34m=\u001b[0m\u001b[0mself\u001b[0m\u001b[0;34m.\u001b[0m\u001b[0m_n_jobs\u001b[0m\u001b[0;34m)\u001b[0m\u001b[0;34m:\u001b[0m\u001b[0;34m\u001b[0m\u001b[0;34m\u001b[0m\u001b[0m\n\u001b[0;32m--> 262\u001b[0;31m             return [func(*args, **kwargs)\n\u001b[0m\u001b[1;32m    263\u001b[0m                     for func, args, kwargs in self.items]\n\u001b[1;32m    264\u001b[0m \u001b[0;34m\u001b[0m\u001b[0m\n",
      "\u001b[0;32m~/miniconda3/envs/O/lib/python3.9/site-packages/joblib/parallel.py\u001b[0m in \u001b[0;36m<listcomp>\u001b[0;34m(.0)\u001b[0m\n\u001b[1;32m    260\u001b[0m         \u001b[0;31m# change the default number of processes to -1\u001b[0m\u001b[0;34m\u001b[0m\u001b[0;34m\u001b[0m\u001b[0m\n\u001b[1;32m    261\u001b[0m         \u001b[0;32mwith\u001b[0m \u001b[0mparallel_backend\u001b[0m\u001b[0;34m(\u001b[0m\u001b[0mself\u001b[0m\u001b[0;34m.\u001b[0m\u001b[0m_backend\u001b[0m\u001b[0;34m,\u001b[0m \u001b[0mn_jobs\u001b[0m\u001b[0;34m=\u001b[0m\u001b[0mself\u001b[0m\u001b[0;34m.\u001b[0m\u001b[0m_n_jobs\u001b[0m\u001b[0;34m)\u001b[0m\u001b[0;34m:\u001b[0m\u001b[0;34m\u001b[0m\u001b[0;34m\u001b[0m\u001b[0m\n\u001b[0;32m--> 262\u001b[0;31m             return [func(*args, **kwargs)\n\u001b[0m\u001b[1;32m    263\u001b[0m                     for func, args, kwargs in self.items]\n\u001b[1;32m    264\u001b[0m \u001b[0;34m\u001b[0m\u001b[0m\n",
      "\u001b[0;32m~/miniconda3/envs/O/lib/python3.9/site-packages/sklearn/linear_model/_logistic.py\u001b[0m in \u001b[0;36m_logistic_regression_path\u001b[0;34m(X, y, pos_class, Cs, fit_intercept, max_iter, tol, verbose, solver, coef, class_weight, dual, penalty, intercept_scaling, multi_class, random_state, check_input, max_squared_sum, sample_weight, l1_ratio)\u001b[0m\n\u001b[1;32m    760\u001b[0m                 \u001b[0moptions\u001b[0m\u001b[0;34m=\u001b[0m\u001b[0;34m{\u001b[0m\u001b[0;34m\"iprint\"\u001b[0m\u001b[0;34m:\u001b[0m \u001b[0miprint\u001b[0m\u001b[0;34m,\u001b[0m \u001b[0;34m\"gtol\"\u001b[0m\u001b[0;34m:\u001b[0m \u001b[0mtol\u001b[0m\u001b[0;34m,\u001b[0m \u001b[0;34m\"maxiter\"\u001b[0m\u001b[0;34m:\u001b[0m \u001b[0mmax_iter\u001b[0m\u001b[0;34m}\u001b[0m\u001b[0;34m\u001b[0m\u001b[0;34m\u001b[0m\u001b[0m\n\u001b[1;32m    761\u001b[0m             )\n\u001b[0;32m--> 762\u001b[0;31m             n_iter_i = _check_optimize_result(\n\u001b[0m\u001b[1;32m    763\u001b[0m                 \u001b[0msolver\u001b[0m\u001b[0;34m,\u001b[0m \u001b[0mopt_res\u001b[0m\u001b[0;34m,\u001b[0m \u001b[0mmax_iter\u001b[0m\u001b[0;34m,\u001b[0m\u001b[0;34m\u001b[0m\u001b[0;34m\u001b[0m\u001b[0m\n\u001b[1;32m    764\u001b[0m                 extra_warning_msg=_LOGISTIC_SOLVER_CONVERGENCE_MSG)\n",
      "\u001b[0;32m~/miniconda3/envs/O/lib/python3.9/site-packages/sklearn/utils/optimize.py\u001b[0m in \u001b[0;36m_check_optimize_result\u001b[0;34m(solver, result, max_iter, extra_warning_msg)\u001b[0m\n\u001b[1;32m    241\u001b[0m                 \u001b[0;34m\"    https://scikit-learn.org/stable/modules/\"\u001b[0m\u001b[0;34m\u001b[0m\u001b[0;34m\u001b[0m\u001b[0m\n\u001b[1;32m    242\u001b[0m                 \u001b[0;34m\"preprocessing.html\"\u001b[0m\u001b[0;34m\u001b[0m\u001b[0;34m\u001b[0m\u001b[0m\n\u001b[0;32m--> 243\u001b[0;31m             ).format(solver, result.status, result.message.decode(\"latin1\"))\n\u001b[0m\u001b[1;32m    244\u001b[0m             \u001b[0;32mif\u001b[0m \u001b[0mextra_warning_msg\u001b[0m \u001b[0;32mis\u001b[0m \u001b[0;32mnot\u001b[0m \u001b[0;32mNone\u001b[0m\u001b[0;34m:\u001b[0m\u001b[0;34m\u001b[0m\u001b[0;34m\u001b[0m\u001b[0m\n\u001b[1;32m    245\u001b[0m                 \u001b[0mwarning_msg\u001b[0m \u001b[0;34m+=\u001b[0m \u001b[0;34m\"\\n\"\u001b[0m \u001b[0;34m+\u001b[0m \u001b[0mextra_warning_msg\u001b[0m\u001b[0;34m\u001b[0m\u001b[0;34m\u001b[0m\u001b[0m\n",
      "\u001b[0;31mAttributeError\u001b[0m: 'str' object has no attribute 'decode'"
     ]
    }
   ],
   "source": [
    "from sklearn.linear_model import LogisticRegression\n",
    "\n",
    "logistic_model = LogisticRegression(class_weight=class_weights_dict, random_state=42)\n",
    "logistic_model.fit(X_train_scaled, y_train)"
   ]
  },
  {
   "cell_type": "code",
   "execution_count": 21,
   "id": "27858c31",
   "metadata": {},
   "outputs": [
    {
     "data": {
      "text/plain": [
       "129039"
      ]
     },
     "execution_count": 21,
     "metadata": {},
     "output_type": "execute_result"
    }
   ],
   "source": [
    "len(y_train)"
   ]
  },
  {
   "cell_type": "code",
   "execution_count": 23,
   "id": "0e530813",
   "metadata": {},
   "outputs": [
    {
     "data": {
      "text/plain": [
       "129039"
      ]
     },
     "execution_count": 23,
     "metadata": {},
     "output_type": "execute_result"
    }
   ],
   "source": [
    "len(X_train_scaled)"
   ]
  },
  {
   "cell_type": "code",
   "execution_count": 25,
   "id": "02bf35a9",
   "metadata": {
    "scrolled": true
   },
   "outputs": [
    {
     "name": "stdout",
     "output_type": "stream",
     "text": [
      "label                              int64\n",
      "ImageLaterality                    int64\n",
      "PatientAge                       float64\n",
      "Manufacturer                       int64\n",
      "ManufacturerModelName              int64\n",
      "DistanceSourceToDetector          object\n",
      "DistanceSourceToPatient           object\n",
      "ExposureTime                      object\n",
      "XRayTubeCurrent                   object\n",
      "Exposure                          object\n",
      "ExposureInuAs                     object\n",
      "KVP                              float64\n",
      "BodyPartThickness                float64\n",
      "CompressionForce                 float64\n",
      "PositionerPrimaryAngle           float64\n",
      "ViewPosition                       int64\n",
      "DetectorTemperature               object\n",
      "DetectorType                       int64\n",
      "Rows                              object\n",
      "Columns                           object\n",
      "score                            float64\n",
      "target_label                       int64\n",
      "coords1                          float64\n",
      "coords2                          float64\n",
      "coords3                          float64\n",
      "coords4                          float64\n",
      "resized_coords1                    int64\n",
      "resized_coords2                    int64\n",
      "resized_coords3                    int64\n",
      "resized_coords4                    int64\n",
      "FieldOfViewOrigin1               float64\n",
      "FieldOfViewOrigin2               float64\n",
      "WindowCenter1                    float64\n",
      "WindowCenter2                    float64\n",
      "WindowCenter3                    float64\n",
      "WindowCenter4                    float64\n",
      "WindowWidth1                     float64\n",
      "WindowWidth2                     float64\n",
      "WindowWidth3                     float64\n",
      "WindowWidth4                     float64\n",
      "histogram_mean                   float64\n",
      "histogram_median                 float64\n",
      "histogram_std                    float64\n",
      "histogram_min                    float64\n",
      "histogram_max                    float64\n",
      "histogram_percentile_25          float64\n",
      "histogram_percentile_50          float64\n",
      "histogram_percentile_75          float64\n",
      "flattened_image_mean             float64\n",
      "flattened_image_median           float64\n",
      "flattened_image_std              float64\n",
      "flattened_image_min                int64\n",
      "flattened_image_max                int64\n",
      "flattened_image_percentile_25    float64\n",
      "flattened_image_percentile_50    float64\n",
      "flattened_image_percentile_75    float64\n",
      "dtype: object\n"
     ]
    }
   ],
   "source": [
    "print(cleaned_df.dtypes)"
   ]
  },
  {
   "cell_type": "code",
   "execution_count": 27,
   "id": "1a0a5152",
   "metadata": {},
   "outputs": [
    {
     "name": "stdout",
     "output_type": "stream",
     "text": [
      "Non-numeric columns: Index(['DistanceSourceToDetector', 'DistanceSourceToPatient', 'ExposureTime',\n",
      "       'XRayTubeCurrent', 'Exposure', 'ExposureInuAs', 'DetectorTemperature',\n",
      "       'Rows', 'Columns'],\n",
      "      dtype='object')\n"
     ]
    }
   ],
   "source": [
    "# Check for any object or non-numeric types\n",
    "non_numeric_columns = cleaned_df.select_dtypes(exclude=[np.number]).columns\n",
    "print(\"Non-numeric columns:\", non_numeric_columns)"
   ]
  },
  {
   "cell_type": "code",
   "execution_count": 35,
   "id": "ae533778",
   "metadata": {},
   "outputs": [],
   "source": [
    "for i in range(len(cleaned_df)):\n",
    "    if type(cleaned_df.iloc[i][\"Rows\"]) == type(cleaned_df.iloc[0][\"Rows\"]):\n",
    "        continue\n",
    "    else:\n",
    "        print(f\"row {i} is not an int\")"
   ]
  },
  {
   "cell_type": "code",
   "execution_count": 32,
   "id": "2acf91bf",
   "metadata": {},
   "outputs": [
    {
     "data": {
      "text/plain": [
       "int"
      ]
     },
     "execution_count": 32,
     "metadata": {},
     "output_type": "execute_result"
    }
   ],
   "source": [
    "type(cleaned_df.iloc[0][\"Rows\"])"
   ]
  },
  {
   "cell_type": "code",
   "execution_count": null,
   "id": "005b2c10",
   "metadata": {},
   "outputs": [],
   "source": []
  },
  {
   "cell_type": "code",
   "execution_count": null,
   "id": "946709a3",
   "metadata": {},
   "outputs": [],
   "source": []
  },
  {
   "cell_type": "code",
   "execution_count": null,
   "id": "77679d07",
   "metadata": {},
   "outputs": [],
   "source": []
  },
  {
   "cell_type": "code",
   "execution_count": 21,
   "id": "b62de713",
   "metadata": {},
   "outputs": [
    {
     "data": {
      "image/png": "[encoded data removed]",
      "text/plain": [
       "<Figure size 432x288 with 1 Axes>"
      ]
     },
     "metadata": {
      "needs_background": "light"
     },
     "output_type": "display_data"
    }
   ],
   "source": [
    "from sklearn.model_selection import learning_curve\n",
    "\n",
    "train_sizes, train_scores, test_scores = learning_curve(\n",
    "    estimator=model, X=X_train_scaled, y=y_train, \n",
    "    train_sizes=np.linspace(0.1, 1.0, 10), cv=5, n_jobs=-1, scoring='accuracy'\n",
    ")\n",
    "\n",
    "# Calculate mean and standard deviation of train and test scores\n",
    "train_mean = np.mean(train_scores, axis=1)\n",
    "train_std = np.std(train_scores, axis=1)\n",
    "test_mean = np.mean(test_scores, axis=1)\n",
    "test_std = np.std(test_scores, axis=1)\n",
    "\n",
    "# Plot the learning curve\n",
    "plt.fill_between(train_sizes, train_mean - train_std, train_mean + train_std, color=\"#DDDDDD\")\n",
    "plt.fill_between(train_sizes, test_mean - test_std, test_mean + test_std, color=\"#DDDDDD\")\n",
    "\n",
    "plt.plot(train_sizes, train_mean, label='Training score')\n",
    "plt.plot(train_sizes, test_mean, label='Cross-validation score')\n",
    "\n",
    "plt.title('Learning curve')\n",
    "plt.xlabel('Training Data Size')\n",
    "plt.ylabel('Accuracy Score')\n",
    "plt.legend(loc='best')\n",
    "plt.show()"
   ]
  },
  {
   "cell_type": "code",
   "execution_count": null,
   "id": "9251e27d",
   "metadata": {},
   "outputs": [],
   "source": []
  },
  {
   "cell_type": "code",
   "execution_count": null,
   "id": "1c4f8e5c",
   "metadata": {},
   "outputs": [],
   "source": []
  },
  {
   "cell_type": "code",
   "execution_count": 26,
   "id": "227686e5",
   "metadata": {},
   "outputs": [
    {
     "data": {
      "image/png": "[encoded data removed]",
      "text/plain": [
       "<Figure size 432x288 with 1 Axes>"
      ]
     },
     "metadata": {
      "needs_background": "light"
     },
     "output_type": "display_data"
    }
   ],
   "source": [
    "from sklearn.model_selection import learning_curve\n",
    "\n",
    "train_sizes, train_scores, test_scores = learning_curve(\n",
    "    estimator=model, X=X_train_scaled, y=y_train, \n",
    "    train_sizes=np.linspace(0.1, 1.0, 10), cv=5, n_jobs=-1, scoring='accuracy'\n",
    ")\n",
    "\n",
    "# Calculate mean and standard deviation of train and test scores\n",
    "train_mean = np.mean(train_scores, axis=1)\n",
    "train_std = np.std(train_scores, axis=1)\n",
    "test_mean = np.mean(test_scores, axis=1)\n",
    "test_std = np.std(test_scores, axis=1)\n",
    "\n",
    "# Plot the learning curve\n",
    "plt.fill_between(train_sizes, train_mean - train_std, train_mean + train_std, color=\"#DDDDDD\")\n",
    "plt.fill_between(train_sizes, test_mean - test_std, test_mean + test_std, color=\"#DDDDDD\")\n",
    "\n",
    "plt.plot(train_sizes, train_mean, label='Training score')\n",
    "plt.plot(train_sizes, test_mean, label='Cross-validation score')\n",
    "\n",
    "plt.title('Learning curve')\n",
    "plt.xlabel('Training Data Size')\n",
    "plt.ylabel('Accuracy Score')\n",
    "plt.legend(loc='best')\n",
    "plt.show()\n"
   ]
  },
  {
   "cell_type": "code",
   "execution_count": null,
   "id": "83446690",
   "metadata": {},
   "outputs": [],
   "source": []
  },
  {
   "cell_type": "code",
   "execution_count": null,
   "id": "5ad22037",
   "metadata": {},
   "outputs": [],
   "source": []
  }
 ],
 "metadata": {
  "kernelspec": {
   "display_name": "Python 3 (ipykernel)",
   "language": "python",
   "name": "python3"
  },
  "language_info": {
   "codemirror_mode": {
    "name": "ipython",
    "version": 3
   },
   "file_extension": ".py",
   "mimetype": "text/x-python",
   "name": "python",
   "nbconvert_exporter": "python",
   "pygments_lexer": "ipython3",
   "version": "3.9.7"
  }
 },
 "nbformat": 4,
 "nbformat_minor": 5
}
