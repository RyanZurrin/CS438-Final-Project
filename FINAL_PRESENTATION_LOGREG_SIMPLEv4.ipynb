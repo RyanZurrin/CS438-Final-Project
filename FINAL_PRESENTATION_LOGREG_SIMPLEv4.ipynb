{
 "cells": [
  {
   "cell_type": "code",
   "execution_count": 1,
   "id": "48f3339b",
   "metadata": {},
   "outputs": [
    {
     "name": "stdout",
     "output_type": "stream",
     "text": [
      "Populating the interactive namespace from numpy and matplotlib\n"
     ]
    }
   ],
   "source": [
    "%pylab inline\n",
    "%load_ext autoreload\n",
    "%autoreload 2\n",
    "# from IPython.display import display, HTML\n",
    "# display(HTML(\"<style>.container { width:100% !important; }</style>\"))"
   ]
  },
  {
   "cell_type": "code",
   "execution_count": 2,
   "id": "35c1b9c5",
   "metadata": {},
   "outputs": [],
   "source": [
    "import pandas as pd\n",
    "import sklearn\n",
    "from sklearn.model_selection import train_test_split\n",
    "from sklearn.linear_model import LogisticRegression\n",
    "from sklearn.metrics import classification_report, confusion_matrix, roc_curve, auc\n",
    "import matplotlib.pyplot as plt\n",
    "import seaborn as sns\n",
    "import numpy as np"
   ]
  },
  {
   "cell_type": "code",
   "execution_count": null,
   "id": "09f0f309",
   "metadata": {},
   "outputs": [],
   "source": []
  },
  {
   "cell_type": "code",
   "execution_count": null,
   "id": "d950aeae",
   "metadata": {},
   "outputs": [],
   "source": []
  },
  {
   "cell_type": "code",
   "execution_count": 3,
   "id": "9f4f9dcc",
   "metadata": {},
   "outputs": [],
   "source": [
    "csv_path = \"/home/ryan.zurrin001/Projects/omama/_EXPERIMENTS/CS438/labels/features_balanced_scaled.csv\""
   ]
  },
  {
   "cell_type": "code",
   "execution_count": 4,
   "id": "23083690",
   "metadata": {},
   "outputs": [],
   "source": [
    "features = pd.read_csv(csv_path)"
   ]
  },
  {
   "cell_type": "code",
   "execution_count": 5,
   "id": "e7f63d0f",
   "metadata": {},
   "outputs": [
    {
     "data": {
      "text/plain": [
       "Index(['label', 'ImageLaterality', 'PatientAge', 'Manufacturer',\n",
       "       'ManufacturerModelName', 'DistanceSourceToDetector',\n",
       "       'DistanceSourceToPatient', 'ExposureTime', 'XRayTubeCurrent',\n",
       "       'Exposure', 'ExposureInuAs', 'KVP', 'BodyPartThickness',\n",
       "       'CompressionForce', 'PositionerPrimaryAngle', 'ViewPosition',\n",
       "       'DetectorTemperature', 'DetectorType', 'Rows', 'Columns', 'score',\n",
       "       'target_label', 'coords1', 'coords2', 'coords3', 'coords4',\n",
       "       'resized_coords1', 'resized_coords2', 'resized_coords3',\n",
       "       'resized_coords4', 'FieldOfViewOrigin1', 'FieldOfViewOrigin2',\n",
       "       'WindowCenter1', 'WindowCenter2', 'WindowCenter3', 'WindowCenter4',\n",
       "       'WindowWidth1', 'WindowWidth2', 'WindowWidth3', 'WindowWidth4',\n",
       "       'histogram_mean', 'histogram_median', 'histogram_std', 'histogram_min',\n",
       "       'histogram_max', 'histogram_percentile_25', 'histogram_percentile_50',\n",
       "       'histogram_percentile_75', 'flattened_image_mean',\n",
       "       'flattened_image_median', 'flattened_image_std', 'flattened_image_min',\n",
       "       'flattened_image_max', 'flattened_image_percentile_25',\n",
       "       'flattened_image_percentile_50', 'flattened_image_percentile_75'],\n",
       "      dtype='object')"
      ]
     },
     "execution_count": 5,
     "metadata": {},
     "output_type": "execute_result"
    }
   ],
   "source": [
    "features.columns"
   ]
  },
  {
   "cell_type": "code",
   "execution_count": null,
   "id": "7332c18c",
   "metadata": {},
   "outputs": [],
   "source": []
  },
  {
   "cell_type": "code",
   "execution_count": 6,
   "id": "a2a987c7",
   "metadata": {},
   "outputs": [],
   "source": [
    "features = features.drop(columns=['label', 'score', 'coords1', 'coords2', 'coords3', 'coords4',\n",
    "       'resized_coords1', 'resized_coords2', 'resized_coords3',\n",
    "       'resized_coords4'])"
   ]
  },
  {
   "cell_type": "code",
   "execution_count": null,
   "id": "5b36a716",
   "metadata": {},
   "outputs": [],
   "source": []
  },
  {
   "cell_type": "code",
   "execution_count": 7,
   "id": "a35f6d97",
   "metadata": {},
   "outputs": [],
   "source": [
    "# Separate the features and target label\n",
    "X = features.drop('target_label', axis=1)\n",
    "y = features['target_label']"
   ]
  },
  {
   "cell_type": "code",
   "execution_count": 10,
   "id": "532c515f",
   "metadata": {},
   "outputs": [
    {
     "data": {
      "text/plain": [
       "33064"
      ]
     },
     "execution_count": 10,
     "metadata": {},
     "output_type": "execute_result"
    }
   ],
   "source": [
    "len(X)"
   ]
  },
  {
   "cell_type": "code",
   "execution_count": 11,
   "id": "59803797",
   "metadata": {},
   "outputs": [
    {
     "data": {
      "text/html": [
       "<div>\n",
       "<style scoped>\n",
       "    .dataframe tbody tr th:only-of-type {\n",
       "        vertical-align: middle;\n",
       "    }\n",
       "\n",
       "    .dataframe tbody tr th {\n",
       "        vertical-align: top;\n",
       "    }\n",
       "\n",
       "    .dataframe thead th {\n",
       "        text-align: right;\n",
       "    }\n",
       "</style>\n",
       "<table border=\"1\" class=\"dataframe\">\n",
       "  <thead>\n",
       "    <tr style=\"text-align: right;\">\n",
       "      <th></th>\n",
       "      <th>ImageLaterality</th>\n",
       "      <th>PatientAge</th>\n",
       "      <th>Manufacturer</th>\n",
       "      <th>ManufacturerModelName</th>\n",
       "      <th>DistanceSourceToDetector</th>\n",
       "      <th>DistanceSourceToPatient</th>\n",
       "      <th>ExposureTime</th>\n",
       "      <th>XRayTubeCurrent</th>\n",
       "      <th>Exposure</th>\n",
       "      <th>ExposureInuAs</th>\n",
       "      <th>...</th>\n",
       "      <th>histogram_percentile_50</th>\n",
       "      <th>histogram_percentile_75</th>\n",
       "      <th>flattened_image_mean</th>\n",
       "      <th>flattened_image_median</th>\n",
       "      <th>flattened_image_std</th>\n",
       "      <th>flattened_image_min</th>\n",
       "      <th>flattened_image_max</th>\n",
       "      <th>flattened_image_percentile_25</th>\n",
       "      <th>flattened_image_percentile_50</th>\n",
       "      <th>flattened_image_percentile_75</th>\n",
       "    </tr>\n",
       "  </thead>\n",
       "  <tbody>\n",
       "    <tr>\n",
       "      <th>0</th>\n",
       "      <td>1.003029</td>\n",
       "      <td>-1.019133</td>\n",
       "      <td>-0.260959</td>\n",
       "      <td>0.400808</td>\n",
       "      <td>-0.074602</td>\n",
       "      <td>0.259023</td>\n",
       "      <td>0.543056</td>\n",
       "      <td>-0.521233</td>\n",
       "      <td>0.263766</td>\n",
       "      <td>0.268683</td>\n",
       "      <td>...</td>\n",
       "      <td>-0.242959</td>\n",
       "      <td>0.338853</td>\n",
       "      <td>-0.387185</td>\n",
       "      <td>-0.382759</td>\n",
       "      <td>0.312392</td>\n",
       "      <td>-0.236513</td>\n",
       "      <td>0.307439</td>\n",
       "      <td>-0.493420</td>\n",
       "      <td>-0.382759</td>\n",
       "      <td>0.456948</td>\n",
       "    </tr>\n",
       "    <tr>\n",
       "      <th>1</th>\n",
       "      <td>-0.996980</td>\n",
       "      <td>-0.596168</td>\n",
       "      <td>-0.260959</td>\n",
       "      <td>0.400808</td>\n",
       "      <td>-0.074602</td>\n",
       "      <td>0.259023</td>\n",
       "      <td>-0.542750</td>\n",
       "      <td>-0.521233</td>\n",
       "      <td>-0.756399</td>\n",
       "      <td>-0.738037</td>\n",
       "      <td>...</td>\n",
       "      <td>-0.242959</td>\n",
       "      <td>-0.285588</td>\n",
       "      <td>-1.094938</td>\n",
       "      <td>-0.113591</td>\n",
       "      <td>-0.950779</td>\n",
       "      <td>-0.236513</td>\n",
       "      <td>0.527894</td>\n",
       "      <td>0.685027</td>\n",
       "      <td>-0.113591</td>\n",
       "      <td>-1.699585</td>\n",
       "    </tr>\n",
       "    <tr>\n",
       "      <th>2</th>\n",
       "      <td>1.003029</td>\n",
       "      <td>0.464828</td>\n",
       "      <td>4.106723</td>\n",
       "      <td>-3.352535</td>\n",
       "      <td>-0.074602</td>\n",
       "      <td>-3.055222</td>\n",
       "      <td>-0.480704</td>\n",
       "      <td>1.778631</td>\n",
       "      <td>0.588364</td>\n",
       "      <td>0.607349</td>\n",
       "      <td>...</td>\n",
       "      <td>0.869539</td>\n",
       "      <td>2.860182</td>\n",
       "      <td>-1.678530</td>\n",
       "      <td>-0.431699</td>\n",
       "      <td>-2.587036</td>\n",
       "      <td>-0.236513</td>\n",
       "      <td>0.968803</td>\n",
       "      <td>-0.600552</td>\n",
       "      <td>-0.431699</td>\n",
       "      <td>-1.197379</td>\n",
       "    </tr>\n",
       "    <tr>\n",
       "      <th>3</th>\n",
       "      <td>1.003029</td>\n",
       "      <td>0.156566</td>\n",
       "      <td>-0.260959</td>\n",
       "      <td>0.400808</td>\n",
       "      <td>-0.074602</td>\n",
       "      <td>0.259023</td>\n",
       "      <td>-0.586182</td>\n",
       "      <td>-0.521233</td>\n",
       "      <td>-0.756399</td>\n",
       "      <td>-0.779790</td>\n",
       "      <td>...</td>\n",
       "      <td>-0.322423</td>\n",
       "      <td>-0.556572</td>\n",
       "      <td>-1.213774</td>\n",
       "      <td>-0.089121</td>\n",
       "      <td>-2.003034</td>\n",
       "      <td>0.672163</td>\n",
       "      <td>-5.056957</td>\n",
       "      <td>0.792158</td>\n",
       "      <td>-0.089121</td>\n",
       "      <td>-1.684815</td>\n",
       "    </tr>\n",
       "    <tr>\n",
       "      <th>4</th>\n",
       "      <td>-0.996980</td>\n",
       "      <td>-0.359595</td>\n",
       "      <td>-0.260959</td>\n",
       "      <td>0.963809</td>\n",
       "      <td>-0.074602</td>\n",
       "      <td>0.259023</td>\n",
       "      <td>0.046687</td>\n",
       "      <td>-0.580204</td>\n",
       "      <td>-0.292687</td>\n",
       "      <td>-0.274111</td>\n",
       "      <td>...</td>\n",
       "      <td>-0.084030</td>\n",
       "      <td>0.315289</td>\n",
       "      <td>0.377671</td>\n",
       "      <td>-0.431699</td>\n",
       "      <td>0.619316</td>\n",
       "      <td>-0.236513</td>\n",
       "      <td>0.013499</td>\n",
       "      <td>-0.600552</td>\n",
       "      <td>-0.431699</td>\n",
       "      <td>0.530802</td>\n",
       "    </tr>\n",
       "    <tr>\n",
       "      <th>...</th>\n",
       "      <td>...</td>\n",
       "      <td>...</td>\n",
       "      <td>...</td>\n",
       "      <td>...</td>\n",
       "      <td>...</td>\n",
       "      <td>...</td>\n",
       "      <td>...</td>\n",
       "      <td>...</td>\n",
       "      <td>...</td>\n",
       "      <td>...</td>\n",
       "      <td>...</td>\n",
       "      <td>...</td>\n",
       "      <td>...</td>\n",
       "      <td>...</td>\n",
       "      <td>...</td>\n",
       "      <td>...</td>\n",
       "      <td>...</td>\n",
       "      <td>...</td>\n",
       "      <td>...</td>\n",
       "      <td>...</td>\n",
       "      <td>...</td>\n",
       "    </tr>\n",
       "    <tr>\n",
       "      <th>33059</th>\n",
       "      <td>1.003029</td>\n",
       "      <td>-0.452790</td>\n",
       "      <td>-0.260959</td>\n",
       "      <td>-0.162194</td>\n",
       "      <td>-0.074602</td>\n",
       "      <td>0.259023</td>\n",
       "      <td>0.037381</td>\n",
       "      <td>-0.462263</td>\n",
       "      <td>-0.199945</td>\n",
       "      <td>-0.199883</td>\n",
       "      <td>...</td>\n",
       "      <td>-0.322423</td>\n",
       "      <td>-0.155987</td>\n",
       "      <td>-1.166774</td>\n",
       "      <td>-0.333820</td>\n",
       "      <td>-0.484424</td>\n",
       "      <td>-0.236513</td>\n",
       "      <td>0.601379</td>\n",
       "      <td>-0.279157</td>\n",
       "      <td>-0.333820</td>\n",
       "      <td>-1.817752</td>\n",
       "    </tr>\n",
       "    <tr>\n",
       "      <th>33060</th>\n",
       "      <td>1.003029</td>\n",
       "      <td>-0.459959</td>\n",
       "      <td>-0.260959</td>\n",
       "      <td>0.400808</td>\n",
       "      <td>-0.074602</td>\n",
       "      <td>0.259023</td>\n",
       "      <td>-0.210804</td>\n",
       "      <td>-0.462263</td>\n",
       "      <td>-0.431801</td>\n",
       "      <td>-0.431846</td>\n",
       "      <td>...</td>\n",
       "      <td>-0.242959</td>\n",
       "      <td>-0.368061</td>\n",
       "      <td>-0.095028</td>\n",
       "      <td>-0.284880</td>\n",
       "      <td>0.528509</td>\n",
       "      <td>-0.236513</td>\n",
       "      <td>0.013499</td>\n",
       "      <td>-0.172026</td>\n",
       "      <td>-0.284880</td>\n",
       "      <td>0.648968</td>\n",
       "    </tr>\n",
       "    <tr>\n",
       "      <th>33061</th>\n",
       "      <td>1.003029</td>\n",
       "      <td>-0.703702</td>\n",
       "      <td>-0.260959</td>\n",
       "      <td>-0.162194</td>\n",
       "      <td>-0.074602</td>\n",
       "      <td>0.259023</td>\n",
       "      <td>0.239030</td>\n",
       "      <td>-0.521233</td>\n",
       "      <td>-0.014461</td>\n",
       "      <td>-0.014312</td>\n",
       "      <td>...</td>\n",
       "      <td>-0.322423</td>\n",
       "      <td>-0.745083</td>\n",
       "      <td>-0.367854</td>\n",
       "      <td>-0.333820</td>\n",
       "      <td>0.047974</td>\n",
       "      <td>-0.236513</td>\n",
       "      <td>-2.044077</td>\n",
       "      <td>-0.386289</td>\n",
       "      <td>-0.333820</td>\n",
       "      <td>0.442177</td>\n",
       "    </tr>\n",
       "    <tr>\n",
       "      <th>33062</th>\n",
       "      <td>-0.996980</td>\n",
       "      <td>0.493504</td>\n",
       "      <td>-0.260959</td>\n",
       "      <td>-0.162194</td>\n",
       "      <td>-0.074602</td>\n",
       "      <td>0.259023</td>\n",
       "      <td>-0.226315</td>\n",
       "      <td>-0.462263</td>\n",
       "      <td>-0.431801</td>\n",
       "      <td>-0.445764</td>\n",
       "      <td>...</td>\n",
       "      <td>-0.322423</td>\n",
       "      <td>-0.686173</td>\n",
       "      <td>-0.973568</td>\n",
       "      <td>-0.382759</td>\n",
       "      <td>-0.736164</td>\n",
       "      <td>-0.236513</td>\n",
       "      <td>0.601379</td>\n",
       "      <td>-0.493420</td>\n",
       "      <td>-0.382759</td>\n",
       "      <td>0.087678</td>\n",
       "    </tr>\n",
       "    <tr>\n",
       "      <th>33063</th>\n",
       "      <td>-0.996980</td>\n",
       "      <td>-1.298720</td>\n",
       "      <td>-0.260959</td>\n",
       "      <td>0.400808</td>\n",
       "      <td>-0.074602</td>\n",
       "      <td>0.259023</td>\n",
       "      <td>0.406554</td>\n",
       "      <td>-0.639175</td>\n",
       "      <td>0.031910</td>\n",
       "      <td>0.045998</td>\n",
       "      <td>...</td>\n",
       "      <td>-0.322423</td>\n",
       "      <td>-0.803992</td>\n",
       "      <td>0.254047</td>\n",
       "      <td>-0.431699</td>\n",
       "      <td>0.524640</td>\n",
       "      <td>-0.236513</td>\n",
       "      <td>-1.970592</td>\n",
       "      <td>-0.600552</td>\n",
       "      <td>-0.431699</td>\n",
       "      <td>0.530802</td>\n",
       "    </tr>\n",
       "  </tbody>\n",
       "</table>\n",
       "<p>33064 rows × 45 columns</p>\n",
       "</div>"
      ],
      "text/plain": [
       "       ImageLaterality  PatientAge  Manufacturer  ManufacturerModelName  \\\n",
       "0             1.003029   -1.019133     -0.260959               0.400808   \n",
       "1            -0.996980   -0.596168     -0.260959               0.400808   \n",
       "2             1.003029    0.464828      4.106723              -3.352535   \n",
       "3             1.003029    0.156566     -0.260959               0.400808   \n",
       "4            -0.996980   -0.359595     -0.260959               0.963809   \n",
       "...                ...         ...           ...                    ...   \n",
       "33059         1.003029   -0.452790     -0.260959              -0.162194   \n",
       "33060         1.003029   -0.459959     -0.260959               0.400808   \n",
       "33061         1.003029   -0.703702     -0.260959              -0.162194   \n",
       "33062        -0.996980    0.493504     -0.260959              -0.162194   \n",
       "33063        -0.996980   -1.298720     -0.260959               0.400808   \n",
       "\n",
       "       DistanceSourceToDetector  DistanceSourceToPatient  ExposureTime  \\\n",
       "0                     -0.074602                 0.259023      0.543056   \n",
       "1                     -0.074602                 0.259023     -0.542750   \n",
       "2                     -0.074602                -3.055222     -0.480704   \n",
       "3                     -0.074602                 0.259023     -0.586182   \n",
       "4                     -0.074602                 0.259023      0.046687   \n",
       "...                         ...                      ...           ...   \n",
       "33059                 -0.074602                 0.259023      0.037381   \n",
       "33060                 -0.074602                 0.259023     -0.210804   \n",
       "33061                 -0.074602                 0.259023      0.239030   \n",
       "33062                 -0.074602                 0.259023     -0.226315   \n",
       "33063                 -0.074602                 0.259023      0.406554   \n",
       "\n",
       "       XRayTubeCurrent  Exposure  ExposureInuAs  ...  histogram_percentile_50  \\\n",
       "0            -0.521233  0.263766       0.268683  ...                -0.242959   \n",
       "1            -0.521233 -0.756399      -0.738037  ...                -0.242959   \n",
       "2             1.778631  0.588364       0.607349  ...                 0.869539   \n",
       "3            -0.521233 -0.756399      -0.779790  ...                -0.322423   \n",
       "4            -0.580204 -0.292687      -0.274111  ...                -0.084030   \n",
       "...                ...       ...            ...  ...                      ...   \n",
       "33059        -0.462263 -0.199945      -0.199883  ...                -0.322423   \n",
       "33060        -0.462263 -0.431801      -0.431846  ...                -0.242959   \n",
       "33061        -0.521233 -0.014461      -0.014312  ...                -0.322423   \n",
       "33062        -0.462263 -0.431801      -0.445764  ...                -0.322423   \n",
       "33063        -0.639175  0.031910       0.045998  ...                -0.322423   \n",
       "\n",
       "       histogram_percentile_75  flattened_image_mean  flattened_image_median  \\\n",
       "0                     0.338853             -0.387185               -0.382759   \n",
       "1                    -0.285588             -1.094938               -0.113591   \n",
       "2                     2.860182             -1.678530               -0.431699   \n",
       "3                    -0.556572             -1.213774               -0.089121   \n",
       "4                     0.315289              0.377671               -0.431699   \n",
       "...                        ...                   ...                     ...   \n",
       "33059                -0.155987             -1.166774               -0.333820   \n",
       "33060                -0.368061             -0.095028               -0.284880   \n",
       "33061                -0.745083             -0.367854               -0.333820   \n",
       "33062                -0.686173             -0.973568               -0.382759   \n",
       "33063                -0.803992              0.254047               -0.431699   \n",
       "\n",
       "       flattened_image_std  flattened_image_min  flattened_image_max  \\\n",
       "0                 0.312392            -0.236513             0.307439   \n",
       "1                -0.950779            -0.236513             0.527894   \n",
       "2                -2.587036            -0.236513             0.968803   \n",
       "3                -2.003034             0.672163            -5.056957   \n",
       "4                 0.619316            -0.236513             0.013499   \n",
       "...                    ...                  ...                  ...   \n",
       "33059            -0.484424            -0.236513             0.601379   \n",
       "33060             0.528509            -0.236513             0.013499   \n",
       "33061             0.047974            -0.236513            -2.044077   \n",
       "33062            -0.736164            -0.236513             0.601379   \n",
       "33063             0.524640            -0.236513            -1.970592   \n",
       "\n",
       "       flattened_image_percentile_25  flattened_image_percentile_50  \\\n",
       "0                          -0.493420                      -0.382759   \n",
       "1                           0.685027                      -0.113591   \n",
       "2                          -0.600552                      -0.431699   \n",
       "3                           0.792158                      -0.089121   \n",
       "4                          -0.600552                      -0.431699   \n",
       "...                              ...                            ...   \n",
       "33059                      -0.279157                      -0.333820   \n",
       "33060                      -0.172026                      -0.284880   \n",
       "33061                      -0.386289                      -0.333820   \n",
       "33062                      -0.493420                      -0.382759   \n",
       "33063                      -0.600552                      -0.431699   \n",
       "\n",
       "       flattened_image_percentile_75  \n",
       "0                           0.456948  \n",
       "1                          -1.699585  \n",
       "2                          -1.197379  \n",
       "3                          -1.684815  \n",
       "4                           0.530802  \n",
       "...                              ...  \n",
       "33059                      -1.817752  \n",
       "33060                       0.648968  \n",
       "33061                       0.442177  \n",
       "33062                       0.087678  \n",
       "33063                       0.530802  \n",
       "\n",
       "[33064 rows x 45 columns]"
      ]
     },
     "execution_count": 11,
     "metadata": {},
     "output_type": "execute_result"
    }
   ],
   "source": [
    "X"
   ]
  },
  {
   "cell_type": "code",
   "execution_count": null,
   "id": "e2e1ea81",
   "metadata": {},
   "outputs": [],
   "source": []
  },
  {
   "cell_type": "code",
   "execution_count": 12,
   "id": "158e539a",
   "metadata": {},
   "outputs": [
    {
     "name": "stdout",
     "output_type": "stream",
     "text": [
      "Training MSE: 0.214351581373753\n",
      "Validation MSE: 9.215311442692604e+17\n",
      "Training R^2: 0.14257390845242723\n",
      "Validation R^2: -3.6874845824047386e+18\n"
     ]
    }
   ],
   "source": [
    "# from sklearn.preprocessing import PolynomialFeatures\n",
    "# from sklearn.linear_model import LinearRegression\n",
    "# from sklearn.model_selection import train_test_split\n",
    "# from sklearn.metrics import mean_squared_error, r2_score\n",
    "\n",
    "# # Assume `X` and `y` are your features and target variable\n",
    "\n",
    "# # Step 1: Generate polynomial features\n",
    "# poly_degree = 2  # Example degree\n",
    "# poly_features = PolynomialFeatures(degree=poly_degree, include_bias=False)\n",
    "# X_poly = poly_features.fit_transform(X)\n",
    "\n",
    "# # Step 2: Split the data into training and validation sets (if not already split)\n",
    "# X_train_poly, X_val_poly, y_train, y_val = train_test_split(X_poly, y, test_size=0.2, random_state=42)\n",
    "\n",
    "# # Step 3: Train the linear regression model\n",
    "# linear_reg = LinearRegression()\n",
    "# linear_reg.fit(X_train_poly, y_train)\n",
    "\n",
    "# # Step 4: Predict and evaluate the model\n",
    "# y_pred_train = linear_reg.predict(X_train_poly)\n",
    "# y_pred_val = linear_reg.predict(X_val_poly)\n",
    "\n",
    "# # Calculate and print performance metrics\n",
    "# train_mse = mean_squared_error(y_train, y_pred_train)\n",
    "# val_mse = mean_squared_error(y_val, y_pred_val)\n",
    "# train_r2 = r2_score(y_train, y_pred_train)\n",
    "# val_r2 = r2_score(y_val, y_pred_val)\n",
    "\n",
    "# print(f'Training MSE: {train_mse}')\n",
    "# print(f'Validation MSE: {val_mse}')\n",
    "# print(f'Training R^2: {train_r2}')\n",
    "# print(f'Validation R^2: {val_r2}')\n"
   ]
  },
  {
   "cell_type": "code",
   "execution_count": null,
   "id": "60dde0c0",
   "metadata": {},
   "outputs": [],
   "source": []
  },
  {
   "cell_type": "code",
   "execution_count": null,
   "id": "ef35e585",
   "metadata": {},
   "outputs": [],
   "source": []
  },
  {
   "cell_type": "code",
   "execution_count": null,
   "id": "553e83c2",
   "metadata": {},
   "outputs": [],
   "source": []
  },
  {
   "cell_type": "code",
   "execution_count": 16,
   "id": "63605c63",
   "metadata": {},
   "outputs": [],
   "source": [
    "X_train, X_temp, y_train, y_temp = train_test_split(X, y, test_size=0.4, random_state=42)\n",
    "X_val, X_test, y_val, y_test = train_test_split(X_temp, y_temp, test_size=0.5, random_state=42)"
   ]
  },
  {
   "cell_type": "code",
   "execution_count": 17,
   "id": "b2c5a078",
   "metadata": {
    "scrolled": true
   },
   "outputs": [
    {
     "name": "stdout",
     "output_type": "stream",
     "text": [
      "              precision    recall  f1-score   support\n",
      "\n",
      "           0       0.61      0.61      0.61      3243\n",
      "           1       0.63      0.62      0.62      3370\n",
      "\n",
      "    accuracy                           0.62      6613\n",
      "   macro avg       0.62      0.62      0.62      6613\n",
      "weighted avg       0.62      0.62      0.62      6613\n",
      "\n"
     ]
    }
   ],
   "source": [
    "# Initialize the Logistic Regression model\n",
    "log_reg = LogisticRegression(max_iter=1000)\n",
    "\n",
    "# Fit the model\n",
    "log_reg.fit(X_train, y_train)\n",
    "\n",
    "# Validate the model\n",
    "y_val_pred = log_reg.predict(X_val)\n",
    "print(classification_report(y_val, y_val_pred))"
   ]
  },
  {
   "cell_type": "code",
   "execution_count": 20,
   "id": "e65b040b",
   "metadata": {},
   "outputs": [
    {
     "name": "stdout",
     "output_type": "stream",
     "text": [
      "[0 0 0 0 1 0 0 1 0 0]\n"
     ]
    }
   ],
   "source": [
    "# Print the first 10 predictions\n",
    "print(y_val_pred[:10])\n"
   ]
  },
  {
   "cell_type": "code",
   "execution_count": 19,
   "id": "faa488a0",
   "metadata": {
    "scrolled": true
   },
   "outputs": [
    {
     "name": "stdout",
     "output_type": "stream",
     "text": [
      "Actual: 0, Predicted: 0\n",
      "Actual: 1, Predicted: 0\n",
      "Actual: 0, Predicted: 0\n",
      "Actual: 1, Predicted: 0\n",
      "Actual: 1, Predicted: 1\n",
      "Actual: 1, Predicted: 0\n",
      "Actual: 0, Predicted: 0\n",
      "Actual: 0, Predicted: 1\n",
      "Actual: 0, Predicted: 0\n",
      "Actual: 0, Predicted: 0\n"
     ]
    }
   ],
   "source": [
    "# Compare the first 10 actual labels with the predicted labels\n",
    "for actual, predicted in zip(y_val[:10], y_val_pred[:10]):\n",
    "    print(f\"Actual: {actual}, Predicted: {predicted}\")\n"
   ]
  },
  {
   "cell_type": "code",
   "execution_count": 18,
   "id": "61674aca",
   "metadata": {},
   "outputs": [
    {
     "data": {
      "image/png": "[encoded data removed]",
      "text/plain": [
       "<Figure size 432x288 with 2 Axes>"
      ]
     },
     "metadata": {
      "needs_background": "light"
     },
     "output_type": "display_data"
    }
   ],
   "source": [
    "from sklearn.metrics import confusion_matrix\n",
    "import seaborn as sns\n",
    "import matplotlib.pyplot as plt\n",
    "\n",
    "# Generate the confusion matrix\n",
    "cm = confusion_matrix(y_val, y_val_pred)\n",
    "\n",
    "# Plot the confusion matrix\n",
    "sns.heatmap(cm, annot=True, fmt='d')\n",
    "plt.xlabel('Predicted')\n",
    "plt.ylabel('True')\n",
    "plt.show()\n"
   ]
  },
  {
   "cell_type": "code",
   "execution_count": 13,
   "id": "0ab7ce9b",
   "metadata": {},
   "outputs": [
    {
     "name": "stdout",
     "output_type": "stream",
     "text": [
      "[[0.64590958 0.35409042]\n",
      " [0.5703091  0.4296909 ]\n",
      " [0.73416526 0.26583474]\n",
      " [0.53296442 0.46703558]\n",
      " [0.4296514  0.5703486 ]\n",
      " [0.6220086  0.3779914 ]\n",
      " [0.70413884 0.29586116]\n",
      " [0.49741746 0.50258254]\n",
      " [0.60163069 0.39836931]\n",
      " [0.70774098 0.29225902]]\n"
     ]
    }
   ],
   "source": [
    "# Get probability estimates\n",
    "probabilities = log_reg.predict_proba(X_val)\n",
    "\n",
    "# Print the first 10 probability estimates\n",
    "print(probabilities[:10])\n"
   ]
  },
  {
   "cell_type": "code",
   "execution_count": 14,
   "id": "682edf9e",
   "metadata": {
    "scrolled": true
   },
   "outputs": [
    {
     "name": "stdout",
     "output_type": "stream",
     "text": [
      "Misclassified examples:\n",
      "       ImageLaterality  PatientAge  Manufacturer  ManufacturerModelName  \\\n",
      "20794         1.003029    0.550855     -0.260959              -0.162194   \n",
      "2900         -0.996980   -0.273568     -0.260959               0.400808   \n",
      "17878         1.003029    1.991803     -0.260959              -0.162194   \n",
      "31112        -0.996980    0.844780     -0.260959               0.963809   \n",
      "3102         -0.996980    2.328741     -0.260959              -0.162194   \n",
      "3354         -0.996980    0.106384     -0.260959              -0.162194   \n",
      "22575        -0.996980   -0.495804     -0.260959               0.400808   \n",
      "17651        -0.996980    1.461305      6.290565              -3.352535   \n",
      "15975        -0.996980   -0.624844     -0.260959               0.400808   \n",
      "4217          1.003029    2.257052     -0.260959               0.400808   \n",
      "\n",
      "       DistanceSourceToDetector  DistanceSourceToPatient  ExposureTime  \\\n",
      "20794                 -0.074602                 0.259023     -0.629614   \n",
      "2900                  -0.074602                 0.259023      0.040483   \n",
      "17878                 -0.074602                 0.259023     -0.790934   \n",
      "31112                 -0.074602                 0.259023     -0.446578   \n",
      "3102                  -0.074602                 0.259023     -1.507566   \n",
      "3354                  -0.074602                 0.259023     -1.634760   \n",
      "22575                 -0.074602                 0.259023      0.598897   \n",
      "17651                 -0.074602                -3.055222     -0.400044   \n",
      "15975                 -0.074602                 0.259023      0.133552   \n",
      "4217                  -0.074602                 0.259023      0.350713   \n",
      "\n",
      "       XRayTubeCurrent  Exposure  ExposureInuAs  ...  histogram_percentile_50  \\\n",
      "20794        -0.462263 -0.802770      -0.821544  ...                -0.322423   \n",
      "2900         -0.462263 -0.199945      -0.199883  ...                -0.322423   \n",
      "17878        -0.462263 -0.988254      -0.970000  ...                -0.084030   \n",
      "31112        -0.462263 -0.663656      -0.645252  ...                -0.401887   \n",
      "3102          1.778631 -0.941883      -0.918968  ...                -0.242959   \n",
      "3354          1.778631 -1.127368      -1.109178  ...                -0.401887   \n",
      "22575        -0.521233  0.310137       0.319714  ...                -0.242959   \n",
      "17651        -0.580204 -0.663656      -0.682366  ...                 1.982037   \n",
      "15975        -0.521233 -0.107203      -0.111737  ...                -0.242959   \n",
      "4217         -0.521233  0.078281       0.092391  ...                -0.322423   \n",
      "\n",
      "       histogram_percentile_75  flattened_image_mean  flattened_image_median  \\\n",
      "20794                -0.780428              0.038991                0.155578   \n",
      "2900                 -0.097077             -0.554906               -0.284880   \n",
      "17878                 3.190076              1.163202               -0.284880   \n",
      "31112                -0.721519              0.557671               -0.138061   \n",
      "3102                  0.256380             -0.280238               -0.358289   \n",
      "3354                 -0.839338             -1.034895               -0.333820   \n",
      "22575                -0.521226              1.458823               -0.309350   \n",
      "17651                 2.377124             -1.805958               -0.431699   \n",
      "15975                -0.450535              1.441618               -0.431699   \n",
      "4217                 -0.639045             -0.839354               -0.431699   \n",
      "\n",
      "       flattened_image_std  flattened_image_min  flattened_image_max  \\\n",
      "20794            -0.610556            -0.236513             0.233954   \n",
      "2900              0.327289            -0.236513             0.307439   \n",
      "17878             0.848583            -0.236513            -0.133470   \n",
      "31112             0.373988            -0.236513             0.968803   \n",
      "3102             -0.289804            -0.236513            -1.309228   \n",
      "3354             -0.759439            -0.236513             0.307439   \n",
      "22575             1.695011            -0.236513             0.748348   \n",
      "17651            -2.445271            -0.236513             0.968803   \n",
      "15975             1.826199            -0.236513             0.233954   \n",
      "4217             -0.774671            -0.236513             0.968803   \n",
      "\n",
      "       flattened_image_percentile_25  flattened_image_percentile_50  \\\n",
      "20794                       1.863474                       0.155578   \n",
      "2900                       -0.172026                      -0.284880   \n",
      "17878                      -0.386289                      -0.284880   \n",
      "31112                       0.577895                      -0.138061   \n",
      "3102                       -0.386289                      -0.358289   \n",
      "3354                       -0.386289                      -0.333820   \n",
      "22575                      -0.172026                      -0.309350   \n",
      "17651                      -0.600552                      -0.431699   \n",
      "15975                      -0.600552                      -0.431699   \n",
      "4217                       -0.600552                      -0.431699   \n",
      "\n",
      "       flattened_image_percentile_75  \n",
      "20794                       0.250157  \n",
      "2900                       -1.773439  \n",
      "17878                       0.619426  \n",
      "31112                       0.678509  \n",
      "3102                        0.117220  \n",
      "3354                       -1.832522  \n",
      "22575                       1.077320  \n",
      "17651                      -1.463253  \n",
      "15975                       1.047779  \n",
      "4217                       -0.015717  \n",
      "\n",
      "[10 rows x 45 columns]\n"
     ]
    }
   ],
   "source": [
    "# Find misclassified examples\n",
    "misclassified = y_val != y_val_pred\n",
    "X_val_misclassified = X_val[misclassified]\n",
    "y_val_misclassified = y_val[misclassified]\n",
    "\n",
    "# Print some of the misclassified examples\n",
    "print(\"Misclassified examples:\")\n",
    "print(X_val_misclassified[:10])\n"
   ]
  },
  {
   "cell_type": "code",
   "execution_count": null,
   "id": "166659d5",
   "metadata": {},
   "outputs": [],
   "source": []
  },
  {
   "cell_type": "code",
   "execution_count": null,
   "id": "729c1d99",
   "metadata": {},
   "outputs": [],
   "source": []
  },
  {
   "cell_type": "code",
   "execution_count": null,
   "id": "a5043126",
   "metadata": {},
   "outputs": [],
   "source": []
  },
  {
   "cell_type": "code",
   "execution_count": null,
   "id": "6168e266",
   "metadata": {},
   "outputs": [],
   "source": []
  },
  {
   "cell_type": "code",
   "execution_count": 15,
   "id": "0fbf0c8e",
   "metadata": {},
   "outputs": [
    {
     "data": {
      "image/png": "[encoded data removed]",
      "text/plain": [
       "<Figure size 432x288 with 1 Axes>"
      ]
     },
     "metadata": {
      "needs_background": "light"
     },
     "output_type": "display_data"
    }
   ],
   "source": [
    "from sklearn.metrics import roc_curve, auc\n",
    "\n",
    "y_prob = log_reg.predict_proba(X_val)[:, 1]\n",
    "fpr, tpr, thresholds = roc_curve(y_val, y_prob)\n",
    "roc_auc = auc(fpr, tpr)\n",
    "\n",
    "plt.figure()\n",
    "plt.plot(fpr, tpr, color='darkorange', lw=2, label='ROC curve (area = %0.2f)' % roc_auc)\n",
    "plt.plot([0, 1], [0, 1], color='navy', lw=2, linestyle='--')\n",
    "plt.xlabel('False Positive Rate')\n",
    "plt.ylabel('True Positive Rate')\n",
    "plt.title('Receiver Operating Characteristic')\n",
    "plt.legend(loc=\"lower right\")\n",
    "plt.show()\n"
   ]
  },
  {
   "cell_type": "code",
   "execution_count": 16,
   "id": "570b805d",
   "metadata": {},
   "outputs": [
    {
     "data": {
      "image/png": "[encoded data removed]",
      "text/plain": [
       "<Figure size 432x288 with 1 Axes>"
      ]
     },
     "metadata": {
      "needs_background": "light"
     },
     "output_type": "display_data"
    }
   ],
   "source": [
    "from sklearn.metrics import precision_recall_curve\n",
    "from sklearn.metrics import average_precision_score\n",
    "\n",
    "average_precision = average_precision_score(y_val, y_prob)\n",
    "\n",
    "precision, recall, _ = precision_recall_curve(y_val, y_prob)\n",
    "\n",
    "plt.step(recall, precision, where='post', label='Average precision score: AP={0:0.2f}'.format(average_precision))\n",
    "plt.xlabel('Recall')\n",
    "plt.ylabel('Precision')\n",
    "plt.ylim([0.0, 1.05])\n",
    "plt.xlim([0.0, 1.0])\n",
    "plt.title('2-class Precision-Recall curve')\n",
    "plt.legend(loc=\"lower right\")\n",
    "plt.show()\n"
   ]
  },
  {
   "cell_type": "code",
   "execution_count": 17,
   "id": "5e009436",
   "metadata": {},
   "outputs": [
    {
     "data": {
      "image/png": "[encoded data removed]",
      "text/plain": [
       "<Figure size 720x864 with 1 Axes>"
      ]
     },
     "metadata": {
      "needs_background": "light"
     },
     "output_type": "display_data"
    }
   ],
   "source": [
    "import matplotlib.pyplot as plt\n",
    "import numpy as np\n",
    "\n",
    "# Assuming log_reg is your trained Logistic Regression model\n",
    "feature_importance = abs(log_reg.coef_[0])\n",
    "sorted_idx = np.argsort(feature_importance)\n",
    "\n",
    "plt.figure(figsize=(10, 12))  # You can adjust the dimensions (width, height) as needed\n",
    "plt.barh(range(len(sorted_idx)), feature_importance[sorted_idx], align='center')\n",
    "plt.yticks(range(len(sorted_idx)), [X_train.columns[i] for i in sorted_idx])\n",
    "plt.xlabel('Logistic Regression Feature Importance')\n",
    "plt.ylabel('Features')\n",
    "plt.title('Feature Importance in Logistic Regression Model')\n",
    "plt.show()\n",
    "\n"
   ]
  },
  {
   "cell_type": "code",
   "execution_count": null,
   "id": "07c851ab",
   "metadata": {},
   "outputs": [],
   "source": []
  },
  {
   "cell_type": "code",
   "execution_count": 18,
   "id": "a220ad34",
   "metadata": {},
   "outputs": [
    {
     "data": {
      "image/png": "[encoded data removed]",
      "text/plain": [
       "<Figure size 432x288 with 1 Axes>"
      ]
     },
     "metadata": {
      "needs_background": "light"
     },
     "output_type": "display_data"
    }
   ],
   "source": [
    "import numpy as np\n",
    "import matplotlib.pyplot as plt\n",
    "from sklearn.model_selection import learning_curve\n",
    "from sklearn.linear_model import LogisticRegression\n",
    "\n",
    "# Initialize the Logistic Regression model\n",
    "log_reg = LogisticRegression(max_iter=1000)\n",
    "\n",
    "# Define the range of training sizes and the number of folds for cross-validation\n",
    "train_sizes = np.linspace(0.1, 1.0, 10)\n",
    "n_jobs = -1 # Use all available cores\n",
    "\n",
    "train_sizes, train_scores, validation_scores = learning_curve(\n",
    "    log_reg, X_train, y_train, train_sizes=train_sizes, cv=5, scoring='neg_log_loss', n_jobs=n_jobs)\n",
    "\n",
    "# Calculate mean and standard deviation for training set scores\n",
    "train_mean = -np.mean(train_scores, axis=1)  # Note the negative sign\n",
    "train_std = np.std(train_scores, axis=1)\n",
    "\n",
    "# Calculate mean and standard deviation for validation set scores\n",
    "validation_mean = -np.mean(validation_scores, axis=1)  # Note the negative sign\n",
    "validation_std = np.std(validation_scores, axis=1)\n",
    "\n",
    "# Plot the learning curve\n",
    "plt.fill_between(train_sizes, train_mean - train_std,\n",
    "                 train_mean + train_std, color=\"r\", alpha=0.1)\n",
    "plt.fill_between(train_sizes, validation_mean - validation_std,\n",
    "                 validation_mean + validation_std, color=\"g\", alpha=0.1)\n",
    "\n",
    "plt.plot(train_sizes, train_mean, 'o-', color=\"r\", label=\"Training Log Loss\")\n",
    "plt.plot(train_sizes, validation_mean, 'o-', color=\"g\", label=\"Cross-validation Log Loss\")\n",
    "\n",
    "plt.title(\"Learning Curve\")\n",
    "plt.xlabel(\"Training Set Size\")\n",
    "plt.ylabel(\"Log Loss\")\n",
    "plt.legend(loc=\"best\")\n",
    "plt.show()\n"
   ]
  },
  {
   "cell_type": "code",
   "execution_count": 27,
   "id": "64dab371",
   "metadata": {},
   "outputs": [
    {
     "data": {
      "text/plain": [
       "['accuracy',\n",
       " 'adjusted_mutual_info_score',\n",
       " 'adjusted_rand_score',\n",
       " 'average_precision',\n",
       " 'balanced_accuracy',\n",
       " 'completeness_score',\n",
       " 'explained_variance',\n",
       " 'f1',\n",
       " 'f1_macro',\n",
       " 'f1_micro',\n",
       " 'f1_samples',\n",
       " 'f1_weighted',\n",
       " 'fowlkes_mallows_score',\n",
       " 'homogeneity_score',\n",
       " 'jaccard',\n",
       " 'jaccard_macro',\n",
       " 'jaccard_micro',\n",
       " 'jaccard_samples',\n",
       " 'jaccard_weighted',\n",
       " 'matthews_corrcoef',\n",
       " 'max_error',\n",
       " 'mutual_info_score',\n",
       " 'neg_brier_score',\n",
       " 'neg_log_loss',\n",
       " 'neg_mean_absolute_error',\n",
       " 'neg_mean_absolute_percentage_error',\n",
       " 'neg_mean_gamma_deviance',\n",
       " 'neg_mean_poisson_deviance',\n",
       " 'neg_mean_squared_error',\n",
       " 'neg_mean_squared_log_error',\n",
       " 'neg_median_absolute_error',\n",
       " 'neg_negative_likelihood_ratio',\n",
       " 'neg_root_mean_squared_error',\n",
       " 'normalized_mutual_info_score',\n",
       " 'positive_likelihood_ratio',\n",
       " 'precision',\n",
       " 'precision_macro',\n",
       " 'precision_micro',\n",
       " 'precision_samples',\n",
       " 'precision_weighted',\n",
       " 'r2',\n",
       " 'rand_score',\n",
       " 'recall',\n",
       " 'recall_macro',\n",
       " 'recall_micro',\n",
       " 'recall_samples',\n",
       " 'recall_weighted',\n",
       " 'roc_auc',\n",
       " 'roc_auc_ovo',\n",
       " 'roc_auc_ovo_weighted',\n",
       " 'roc_auc_ovr',\n",
       " 'roc_auc_ovr_weighted',\n",
       " 'top_k_accuracy',\n",
       " 'v_measure_score']"
      ]
     },
     "execution_count": 27,
     "metadata": {},
     "output_type": "execute_result"
    }
   ],
   "source": [
    "sklearn.metrics.get_scorer_names()"
   ]
  },
  {
   "cell_type": "code",
   "execution_count": 19,
   "id": "cb01b9c2",
   "metadata": {},
   "outputs": [],
   "source": [
    "from sklearn.svm import SVC\n",
    "from sklearn.neural_network import MLPClassifier\n",
    "from sklearn.svm import LinearSVC"
   ]
  },
  {
   "cell_type": "code",
   "execution_count": 20,
   "id": "ec44b2d2",
   "metadata": {},
   "outputs": [
    {
     "data": {
      "text/plain": [
       "SVC(probability=True)"
      ]
     },
     "execution_count": 20,
     "metadata": {},
     "output_type": "execute_result"
    }
   ],
   "source": [
    "\n",
    "# Initialize alternative models\n",
    "svm_model = SVC(probability=True)\n",
    "# neural_net = MLPClassifier()\n",
    "\n",
    "# Fit alternative models\n",
    "# Note: These models have their own hyperparameters that you can tune\n",
    "svm_model.fit(X_train, y_train)\n",
    "# neural_net.fit(X_train, y_train)\n",
    "\n",
    "# Validate alternative models\n",
    "# Evaluate their performance and compare with the logistic regression model\n"
   ]
  },
  {
   "cell_type": "code",
   "execution_count": null,
   "id": "65849bfc",
   "metadata": {},
   "outputs": [],
   "source": []
  },
  {
   "cell_type": "code",
   "execution_count": 21,
   "id": "68df61d5",
   "metadata": {},
   "outputs": [
    {
     "name": "stdout",
     "output_type": "stream",
     "text": [
      "              precision    recall  f1-score   support\n",
      "\n",
      "           0       0.63      0.60      0.62      3243\n",
      "           1       0.63      0.66      0.65      3370\n",
      "\n",
      "    accuracy                           0.63      6613\n",
      "   macro avg       0.63      0.63      0.63      6613\n",
      "weighted avg       0.63      0.63      0.63      6613\n",
      "\n"
     ]
    }
   ],
   "source": [
    "# Validate the model\n",
    "y_val_pred_svm = svm_model.predict(X_val)\n",
    "print(classification_report(y_val, y_val_pred_svm))"
   ]
  },
  {
   "cell_type": "code",
   "execution_count": 22,
   "id": "40e28f0c",
   "metadata": {},
   "outputs": [
    {
     "data": {
      "image/png": "[encoded data removed]",
      "text/plain": [
       "<Figure size 432x288 with 2 Axes>"
      ]
     },
     "metadata": {
      "needs_background": "light"
     },
     "output_type": "display_data"
    }
   ],
   "source": [
    "# Generate the confusion matrix\n",
    "cm_svm = confusion_matrix(y_val, y_val_pred_svm)\n",
    "\n",
    "# Plot the confusion matrix\n",
    "sns.heatmap(cm_svm, annot=True, fmt='d')\n",
    "plt.xlabel('Predicted')\n",
    "plt.ylabel('True')\n",
    "plt.show()"
   ]
  },
  {
   "cell_type": "code",
   "execution_count": 23,
   "id": "0a0f8b00",
   "metadata": {},
   "outputs": [
    {
     "data": {
      "image/png": "[encoded data removed]",
      "text/plain": [
       "<Figure size 432x288 with 1 Axes>"
      ]
     },
     "metadata": {
      "needs_background": "light"
     },
     "output_type": "display_data"
    }
   ],
   "source": [
    "y_prob_svm = svm_model.predict_proba(X_val)[:, 1]\n",
    "fpr_svm, tpr_svm, thresholds_svm = roc_curve(y_val, y_prob_svm)\n",
    "roc_auc_svm = auc(fpr_svm, tpr_svm)\n",
    "\n",
    "plt.figure()\n",
    "plt.plot(fpr_svm, tpr_svm, color='darkorange', lw=2, label='ROC curve (area = %0.2f)' % roc_auc_svm)\n",
    "plt.plot([0, 1], [0, 1], color='navy', lw=2, linestyle='--')\n",
    "plt.xlabel('False Positive Rate')\n",
    "plt.ylabel('True Positive Rate')\n",
    "plt.title('Receiver Operating Characteristic')\n",
    "plt.legend(loc=\"lower right\")\n",
    "plt.show()\n"
   ]
  },
  {
   "cell_type": "code",
   "execution_count": 25,
   "id": "a640f3b2",
   "metadata": {},
   "outputs": [
    {
     "data": {
      "image/png": "[encoded data removed]",
      "text/plain": [
       "<Figure size 432x288 with 1 Axes>"
      ]
     },
     "metadata": {
      "needs_background": "light"
     },
     "output_type": "display_data"
    }
   ],
   "source": [
    "# Precision-Recall Curve\n",
    "average_precision_svm = average_precision_score(y_val, y_prob_svm)\n",
    "precision_svm, recall_svm, _ = precision_recall_curve(y_val, y_prob_svm)\n",
    "\n",
    "plt.step(recall_svm, precision_svm, where='post', label='AP={0:0.2f}'.format(average_precision_svm))\n",
    "plt.xlabel('Recall')\n",
    "plt.ylabel('Precision')\n",
    "plt.ylim([0.0, 1.05])\n",
    "plt.xlim([0.0, 1.0])\n",
    "plt.title('Precision-Recall curve - SVM')\n",
    "plt.legend(loc=\"lower right\")\n",
    "plt.show()"
   ]
  },
  {
   "cell_type": "code",
   "execution_count": null,
   "id": "78b9e545",
   "metadata": {},
   "outputs": [],
   "source": []
  },
  {
   "cell_type": "code",
   "execution_count": null,
   "id": "a4d67663",
   "metadata": {},
   "outputs": [],
   "source": []
  },
  {
   "cell_type": "code",
   "execution_count": 28,
   "id": "7562639b",
   "metadata": {},
   "outputs": [
    {
     "name": "stdout",
     "output_type": "stream",
     "text": [
      "Logistic Regression Classification Report:\n",
      "              precision    recall  f1-score   support\n",
      "\n",
      "           0       0.61      0.61      0.61      3243\n",
      "           1       0.63      0.62      0.62      3370\n",
      "\n",
      "    accuracy                           0.62      6613\n",
      "   macro avg       0.62      0.62      0.62      6613\n",
      "weighted avg       0.62      0.62      0.62      6613\n",
      "\n",
      "\n",
      "SVC Classification Report:\n",
      "              precision    recall  f1-score   support\n",
      "\n",
      "           0       0.63      0.60      0.62      3243\n",
      "           1       0.63      0.66      0.65      3370\n",
      "\n",
      "    accuracy                           0.63      6613\n",
      "   macro avg       0.63      0.63      0.63      6613\n",
      "weighted avg       0.63      0.63      0.63      6613\n",
      "\n",
      "Logistic Regression ROC AUC Score: 0.6597302933229389\n",
      "SVC ROC AUC Score: 0.675072353967596\n",
      "\n",
      "Model Comparison:\n",
      "Metric          Logistic Regression  SVC       \n",
      "Accuracy        0.618025102071677    0.6339029184938757\n",
      "Precision       0.6261961722488039   0.6348394430235862\n",
      "Recall          0.6213649851632047   0.6629080118694362\n",
      "F1 Score        0.6237712243074174   0.6485701843518652\n",
      "ROC AUC Score   0.6597302933229389   0.675072353967596\n"
     ]
    }
   ],
   "source": [
    "from sklearn.metrics import classification_report, roc_auc_score, accuracy_score, precision_score, recall_score, f1_score\n",
    "\n",
    "# Predict on the validation or test set\n",
    "y_pred_log_reg = log_reg.predict(X_val)  # Assuming log_reg is your logistic regression model\n",
    "y_pred_svm = svm_model.predict(X_val)    # svm_model is your trained SVC model\n",
    "\n",
    "# Calculate the probabilities for ROC AUC score\n",
    "y_proba_log_reg = log_reg.predict_proba(X_val)[:, 1]  # Logistic Regression probabilities\n",
    "y_proba_svm = svm_model.predict_proba(X_val)[:, 1]    # SVC probabilities\n",
    "\n",
    "# Classification reports\n",
    "print(\"Logistic Regression Classification Report:\")\n",
    "print(classification_report(y_val, y_pred_log_reg))\n",
    "\n",
    "print(\"\\nSVC Classification Report:\")\n",
    "print(classification_report(y_val, y_pred_svm))\n",
    "\n",
    "# ROC AUC scores\n",
    "roc_auc_log_reg = roc_auc_score(y_val, y_proba_log_reg)\n",
    "roc_auc_svm = roc_auc_score(y_val, y_proba_svm)\n",
    "\n",
    "print(f\"Logistic Regression ROC AUC Score: {roc_auc_log_reg}\")\n",
    "print(f\"SVC ROC AUC Score: {roc_auc_svm}\")\n",
    "\n",
    "# Compare models\n",
    "print(\"\\nModel Comparison:\")\n",
    "print(f\"{'Metric':<15} {'Logistic Regression':<20} {'SVC':<10}\")\n",
    "print(f\"{'Accuracy':<15} {accuracy_score(y_val, y_pred_log_reg):<20} {accuracy_score(y_val, y_pred_svm):<10}\")\n",
    "print(f\"{'Precision':<15} {precision_score(y_val, y_pred_log_reg):<20} {precision_score(y_val, y_pred_svm):<10}\")\n",
    "print(f\"{'Recall':<15} {recall_score(y_val, y_pred_log_reg):<20} {recall_score(y_val, y_pred_svm):<10}\")\n",
    "print(f\"{'F1 Score':<15} {f1_score(y_val, y_pred_log_reg):<20} {f1_score(y_val, y_pred_svm):<10}\")\n",
    "print(f\"{'ROC AUC Score':<15} {roc_auc_log_reg:<20} {roc_auc_svm:<10}\")\n"
   ]
  },
  {
   "cell_type": "code",
   "execution_count": 29,
   "id": "49ad65b1",
   "metadata": {},
   "outputs": [
    {
     "name": "stderr",
     "output_type": "stream",
     "text": [
      "/home/ryan.zurrin001/miniconda3/envs/O/lib/python3.9/site-packages/sklearn/svm/_base.py:976: ConvergenceWarning: Liblinear failed to converge, increase the number of iterations.\n",
      "  warnings.warn(\"Liblinear failed to converge, increase \"\n"
     ]
    },
    {
     "data": {
      "image/png": "[encoded data removed]",
      "text/plain": [
       "<Figure size 720x864 with 1 Axes>"
      ]
     },
     "metadata": {
      "needs_background": "light"
     },
     "output_type": "display_data"
    }
   ],
   "source": [
    "from sklearn.svm import LinearSVC\n",
    "\n",
    "# Initialize the Linear SVM model\n",
    "linear_svm = LinearSVC(max_iter=30000)\n",
    "\n",
    "# Fit the model\n",
    "linear_svm.fit(X_train, y_train)\n",
    "\n",
    "# Get the feature importance\n",
    "feature_importance_svm = abs(linear_svm.coef_[0])\n",
    "sorted_idx_svm = np.argsort(feature_importance_svm)\n",
    "\n",
    "# Visualize the feature importance\n",
    "plt.figure(figsize=(10, 12))\n",
    "plt.barh(range(len(sorted_idx_svm)), feature_importance_svm[sorted_idx_svm], align='center')\n",
    "plt.yticks(range(len(sorted_idx_svm)), [X_train.columns[i] for i in sorted_idx_svm])\n",
    "plt.xlabel('SVM Feature Importance')\n",
    "plt.ylabel('Features')\n",
    "plt.title('Feature Importance in Linear SVM Model')\n",
    "plt.show()\n"
   ]
  },
  {
   "cell_type": "code",
   "execution_count": null,
   "id": "9e2688b0",
   "metadata": {
    "scrolled": true
   },
   "outputs": [
    {
     "name": "stderr",
     "output_type": "stream",
     "text": [
      "/home/ryan.zurrin001/miniconda3/envs/O/lib/python3.9/site-packages/sklearn/svm/_base.py:246: ConvergenceWarning: Solver terminated early (max_iter=30000).  Consider pre-processing your data with StandardScaler or MinMaxScaler.\n",
      "  warnings.warn('Solver terminated early (max_iter=%i).'\n",
      "/home/ryan.zurrin001/miniconda3/envs/O/lib/python3.9/site-packages/sklearn/svm/_base.py:246: ConvergenceWarning: Solver terminated early (max_iter=30000).  Consider pre-processing your data with StandardScaler or MinMaxScaler.\n",
      "  warnings.warn('Solver terminated early (max_iter=%i).'\n",
      "/home/ryan.zurrin001/miniconda3/envs/O/lib/python3.9/site-packages/sklearn/svm/_base.py:246: ConvergenceWarning: Solver terminated early (max_iter=30000).  Consider pre-processing your data with StandardScaler or MinMaxScaler.\n",
      "  warnings.warn('Solver terminated early (max_iter=%i).'\n",
      "/home/ryan.zurrin001/miniconda3/envs/O/lib/python3.9/site-packages/sklearn/svm/_base.py:246: ConvergenceWarning: Solver terminated early (max_iter=30000).  Consider pre-processing your data with StandardScaler or MinMaxScaler.\n",
      "  warnings.warn('Solver terminated early (max_iter=%i).'\n",
      "/home/ryan.zurrin001/miniconda3/envs/O/lib/python3.9/site-packages/sklearn/svm/_base.py:246: ConvergenceWarning: Solver terminated early (max_iter=30000).  Consider pre-processing your data with StandardScaler or MinMaxScaler.\n",
      "  warnings.warn('Solver terminated early (max_iter=%i).'\n",
      "/home/ryan.zurrin001/miniconda3/envs/O/lib/python3.9/site-packages/sklearn/svm/_base.py:246: ConvergenceWarning: Solver terminated early (max_iter=30000).  Consider pre-processing your data with StandardScaler or MinMaxScaler.\n",
      "  warnings.warn('Solver terminated early (max_iter=%i).'\n",
      "/home/ryan.zurrin001/miniconda3/envs/O/lib/python3.9/site-packages/sklearn/svm/_base.py:246: ConvergenceWarning: Solver terminated early (max_iter=30000).  Consider pre-processing your data with StandardScaler or MinMaxScaler.\n",
      "  warnings.warn('Solver terminated early (max_iter=%i).'\n",
      "/home/ryan.zurrin001/miniconda3/envs/O/lib/python3.9/site-packages/sklearn/svm/_base.py:246: ConvergenceWarning: Solver terminated early (max_iter=30000).  Consider pre-processing your data with StandardScaler or MinMaxScaler.\n",
      "  warnings.warn('Solver terminated early (max_iter=%i).'\n",
      "/home/ryan.zurrin001/miniconda3/envs/O/lib/python3.9/site-packages/sklearn/svm/_base.py:246: ConvergenceWarning: Solver terminated early (max_iter=30000).  Consider pre-processing your data with StandardScaler or MinMaxScaler.\n",
      "  warnings.warn('Solver terminated early (max_iter=%i).'\n",
      "/home/ryan.zurrin001/miniconda3/envs/O/lib/python3.9/site-packages/sklearn/svm/_base.py:246: ConvergenceWarning: Solver terminated early (max_iter=30000).  Consider pre-processing your data with StandardScaler or MinMaxScaler.\n",
      "  warnings.warn('Solver terminated early (max_iter=%i).'\n",
      "/home/ryan.zurrin001/miniconda3/envs/O/lib/python3.9/site-packages/sklearn/svm/_base.py:246: ConvergenceWarning: Solver terminated early (max_iter=30000).  Consider pre-processing your data with StandardScaler or MinMaxScaler.\n",
      "  warnings.warn('Solver terminated early (max_iter=%i).'\n",
      "/home/ryan.zurrin001/miniconda3/envs/O/lib/python3.9/site-packages/sklearn/svm/_base.py:246: ConvergenceWarning: Solver terminated early (max_iter=30000).  Consider pre-processing your data with StandardScaler or MinMaxScaler.\n",
      "  warnings.warn('Solver terminated early (max_iter=%i).'\n",
      "/home/ryan.zurrin001/miniconda3/envs/O/lib/python3.9/site-packages/sklearn/svm/_base.py:246: ConvergenceWarning: Solver terminated early (max_iter=30000).  Consider pre-processing your data with StandardScaler or MinMaxScaler.\n",
      "  warnings.warn('Solver terminated early (max_iter=%i).'\n",
      "/home/ryan.zurrin001/miniconda3/envs/O/lib/python3.9/site-packages/sklearn/svm/_base.py:246: ConvergenceWarning: Solver terminated early (max_iter=30000).  Consider pre-processing your data with StandardScaler or MinMaxScaler.\n",
      "  warnings.warn('Solver terminated early (max_iter=%i).'\n",
      "/home/ryan.zurrin001/miniconda3/envs/O/lib/python3.9/site-packages/sklearn/svm/_base.py:246: ConvergenceWarning: Solver terminated early (max_iter=30000).  Consider pre-processing your data with StandardScaler or MinMaxScaler.\n",
      "  warnings.warn('Solver terminated early (max_iter=%i).'\n",
      "/home/ryan.zurrin001/miniconda3/envs/O/lib/python3.9/site-packages/sklearn/svm/_base.py:246: ConvergenceWarning: Solver terminated early (max_iter=30000).  Consider pre-processing your data with StandardScaler or MinMaxScaler.\n",
      "  warnings.warn('Solver terminated early (max_iter=%i).'\n",
      "/home/ryan.zurrin001/miniconda3/envs/O/lib/python3.9/site-packages/sklearn/svm/_base.py:246: ConvergenceWarning: Solver terminated early (max_iter=30000).  Consider pre-processing your data with StandardScaler or MinMaxScaler.\n",
      "  warnings.warn('Solver terminated early (max_iter=%i).'\n",
      "/home/ryan.zurrin001/miniconda3/envs/O/lib/python3.9/site-packages/sklearn/svm/_base.py:246: ConvergenceWarning: Solver terminated early (max_iter=30000).  Consider pre-processing your data with StandardScaler or MinMaxScaler.\n",
      "  warnings.warn('Solver terminated early (max_iter=%i).'\n",
      "/home/ryan.zurrin001/miniconda3/envs/O/lib/python3.9/site-packages/sklearn/svm/_base.py:246: ConvergenceWarning: Solver terminated early (max_iter=30000).  Consider pre-processing your data with StandardScaler or MinMaxScaler.\n",
      "  warnings.warn('Solver terminated early (max_iter=%i).'\n",
      "/home/ryan.zurrin001/miniconda3/envs/O/lib/python3.9/site-packages/sklearn/svm/_base.py:246: ConvergenceWarning: Solver terminated early (max_iter=30000).  Consider pre-processing your data with StandardScaler or MinMaxScaler.\n",
      "  warnings.warn('Solver terminated early (max_iter=%i).'\n",
      "/home/ryan.zurrin001/miniconda3/envs/O/lib/python3.9/site-packages/sklearn/svm/_base.py:246: ConvergenceWarning: Solver terminated early (max_iter=30000).  Consider pre-processing your data with StandardScaler or MinMaxScaler.\n",
      "  warnings.warn('Solver terminated early (max_iter=%i).'\n",
      "/home/ryan.zurrin001/miniconda3/envs/O/lib/python3.9/site-packages/sklearn/svm/_base.py:246: ConvergenceWarning: Solver terminated early (max_iter=30000).  Consider pre-processing your data with StandardScaler or MinMaxScaler.\n",
      "  warnings.warn('Solver terminated early (max_iter=%i).'\n",
      "/home/ryan.zurrin001/miniconda3/envs/O/lib/python3.9/site-packages/sklearn/svm/_base.py:246: ConvergenceWarning: Solver terminated early (max_iter=30000).  Consider pre-processing your data with StandardScaler or MinMaxScaler.\n",
      "  warnings.warn('Solver terminated early (max_iter=%i).'\n",
      "/home/ryan.zurrin001/miniconda3/envs/O/lib/python3.9/site-packages/sklearn/svm/_base.py:246: ConvergenceWarning: Solver terminated early (max_iter=30000).  Consider pre-processing your data with StandardScaler or MinMaxScaler.\n",
      "  warnings.warn('Solver terminated early (max_iter=%i).'\n",
      "/home/ryan.zurrin001/miniconda3/envs/O/lib/python3.9/site-packages/sklearn/svm/_base.py:246: ConvergenceWarning: Solver terminated early (max_iter=30000).  Consider pre-processing your data with StandardScaler or MinMaxScaler.\n",
      "  warnings.warn('Solver terminated early (max_iter=%i).'\n",
      "/home/ryan.zurrin001/miniconda3/envs/O/lib/python3.9/site-packages/sklearn/svm/_base.py:246: ConvergenceWarning: Solver terminated early (max_iter=30000).  Consider pre-processing your data with StandardScaler or MinMaxScaler.\n",
      "  warnings.warn('Solver terminated early (max_iter=%i).'\n"
     ]
    }
   ],
   "source": [
    "from sklearn.svm import SVC\n",
    "from sklearn.model_selection import learning_curve\n",
    "\n",
    "# Initialize the SVC model\n",
    "svm_model = SVC(kernel='linear', probability=True, max_iter=30000)\n",
    "\n",
    "# Define the range of training sizes and the number of folds for cross-validation\n",
    "train_sizes = np.linspace(0.1, 1.0, 10)\n",
    "n_jobs = -1  # Use all available cores\n",
    "\n",
    "train_sizes, train_scores, validation_scores = learning_curve(\n",
    "    svm_model, X_train, y_train, train_sizes=train_sizes, cv=5, scoring='neg_log_loss', n_jobs=n_jobs)\n",
    "\n",
    "# Calculate mean and standard deviation for training set scores\n",
    "train_mean = -np.mean(train_scores, axis=1)  # Note the negative sign\n",
    "train_std = np.std(train_scores, axis=1)\n",
    "\n",
    "# Calculate mean and standard deviation for validation set scores\n",
    "validation_mean = -np.mean(validation_scores, axis=1)  # Note the negative sign\n",
    "validation_std = np.std(validation_scores, axis=1)\n",
    "\n",
    "# Plot the learning curve\n",
    "plt.fill_between(train_sizes, train_mean - train_std,\n",
    "                 train_mean + train_std, color=\"blue\", alpha=0.1)\n",
    "plt.fill_between(train_sizes, validation_mean - validation_std,\n",
    "                 validation_mean + validation_std, color=\"orange\", alpha=0.1)\n",
    "\n",
    "plt.plot(train_sizes, train_mean, 'o-', color=\"blue\", label=\"Training Log Loss\")\n",
    "plt.plot(train_sizes, validation_mean, 'o-', color=\"orange\", label=\"Cross-validation Log Loss\")\n",
    "\n",
    "plt.title(\"Learning Curve for SVM\")\n",
    "plt.xlabel(\"Training Set Size\")\n",
    "plt.ylabel(\"Log Loss\")\n",
    "plt.legend(loc=\"best\")\n",
    "plt.show()\n"
   ]
  },
  {
   "cell_type": "code",
   "execution_count": null,
   "id": "b7d507dc",
   "metadata": {},
   "outputs": [],
   "source": []
  },
  {
   "cell_type": "code",
   "execution_count": null,
   "id": "4f530f74",
   "metadata": {},
   "outputs": [],
   "source": []
  },
  {
   "cell_type": "code",
   "execution_count": null,
   "id": "3b476050",
   "metadata": {},
   "outputs": [],
   "source": []
  },
  {
   "cell_type": "code",
   "execution_count": null,
   "id": "4019e580",
   "metadata": {},
   "outputs": [],
   "source": []
  },
  {
   "cell_type": "code",
   "execution_count": null,
   "id": "b7464a8d",
   "metadata": {},
   "outputs": [],
   "source": [
    "# Initialize alternative models\n",
    "neural_net = MLPClassifier()\n",
    "\n",
    "# Fit alternative models\n",
    "# Note: These models have their own hyperparameters that you can tune\n",
    "neural_net.fit(X_train, y_train)\n"
   ]
  },
  {
   "cell_type": "code",
   "execution_count": null,
   "id": "f178ea08",
   "metadata": {},
   "outputs": [],
   "source": []
  }
 ],
 "metadata": {
  "kernelspec": {
   "display_name": "Python 3 (ipykernel)",
   "language": "python",
   "name": "python3"
  },
  "language_info": {
   "codemirror_mode": {
    "name": "ipython",
    "version": 3
   },
   "file_extension": ".py",
   "mimetype": "text/x-python",
   "name": "python",
   "nbconvert_exporter": "python",
   "pygments_lexer": "ipython3",
   "version": "3.9.7"
  }
 },
 "nbformat": 4,
 "nbformat_minor": 5
}
