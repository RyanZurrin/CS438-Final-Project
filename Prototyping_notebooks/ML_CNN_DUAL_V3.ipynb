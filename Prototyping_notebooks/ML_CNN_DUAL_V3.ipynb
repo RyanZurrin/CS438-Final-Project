{
 "cells": [
  {
   "cell_type": "code",
   "execution_count": 1,
   "id": "48f3339b",
   "metadata": {},
   "outputs": [
    {
     "name": "stdout",
     "output_type": "stream",
     "text": [
      "Populating the interactive namespace from numpy and matplotlib\n"
     ]
    }
   ],
   "source": [
    "%pylab inline\n",
    "%load_ext autoreload\n",
    "%autoreload 2"
   ]
  },
  {
   "cell_type": "code",
   "execution_count": 2,
   "id": "4cea3950",
   "metadata": {},
   "outputs": [
    {
     "name": "stderr",
     "output_type": "stream",
     "text": [
      "2023-12-14 18:55:00.924270: I tensorflow/stream_executor/platform/default/dso_loader.cc:53] Successfully opened dynamic library libcudart.so.11.0\n"
     ]
    }
   ],
   "source": [
    "import feature_extractor as fe\n",
    "import data_cleaner as dc\n",
    "# import pandas as pd\n",
    "from sklearn.model_selection import train_test_split, GridSearchCV\n",
    "from sklearn.ensemble import RandomForestClassifier\n",
    "from sklearn.metrics import classification_report, confusion_matrix\n",
    "from sklearn.preprocessing import OneHotEncoder, LabelEncoder\n",
    "from sklearn.model_selection import train_test_split\n",
    "from sklearn.preprocessing import StandardScaler\n",
    "import numpy as np\n",
    "import tensorflow as tf\n",
    "from tensorflow.keras.models import Model\n",
    "from tensorflow.keras.layers import Input, Dense, Conv2D, MaxPooling2D, Flatten, concatenate\n",
    "from tensorflow.keras.optimizers import Adam\n",
    "import time\n",
    "import seaborn as sns\n",
    "import pandas as pd\n",
    "import numpy as np\n",
    "import sys"
   ]
  },
  {
   "cell_type": "code",
   "execution_count": 3,
   "id": "152bd594",
   "metadata": {},
   "outputs": [],
   "source": [
    "GT = \"target_label\""
   ]
  },
  {
   "cell_type": "code",
   "execution_count": 4,
   "id": "74c73818",
   "metadata": {},
   "outputs": [],
   "source": [
    "# cache_path = \"/home/ryan.zurrin001/binlink/sample_dataset.pkl\"\n",
    "cache_path = \"/home/ryan.zurrin001/binlink/cs438_features_imgs.pkl\""
   ]
  },
  {
   "cell_type": "code",
   "execution_count": 5,
   "id": "65d4f512",
   "metadata": {},
   "outputs": [],
   "source": [
    "# Load the DataFrame\n",
    "df_features = pd.read_pickle(cache_path)"
   ]
  },
  {
   "cell_type": "code",
   "execution_count": 6,
   "id": "45798d6b",
   "metadata": {},
   "outputs": [],
   "source": [
    "cleaner = dc.DataCleaner(df_features)"
   ]
  },
  {
   "cell_type": "code",
   "execution_count": 7,
   "id": "27aa6850",
   "metadata": {},
   "outputs": [
    {
     "name": "stdout",
     "output_type": "stream",
     "text": [
      "Cleaning data...\n",
      "drop unnecessary columns\n",
      "handle missing values\n",
      "process ages\n",
      "label encode\n",
      "map labels\n",
      "handle missing values\n",
      "add correctness column\n",
      "balance classes\n",
      "create binary masks\n"
     ]
    },
    {
     "data": {
      "application/vnd.jupyter.widget-view+json": {
       "model_id": "87f24be626434ec492aa80b9746b8e06",
       "version_major": 2,
       "version_minor": 0
      },
      "text/plain": [
       "Processing Data:   0%|          | 0/33064 [00:00<?, ?it/s]"
      ]
     },
     "metadata": {},
     "output_type": "display_data"
    },
    {
     "name": "stdout",
     "output_type": "stream",
     "text": [
      "expand and extend columns\n"
     ]
    },
    {
     "data": {
      "application/vnd.jupyter.widget-view+json": {
       "model_id": "bc55ca978c364ab58829a0ef15dbbeb6",
       "version_major": 2,
       "version_minor": 0
      },
      "text/plain": [
       "Expanding Columns:   0%|          | 0/2 [00:00<?, ?it/s]"
      ]
     },
     "metadata": {},
     "output_type": "display_data"
    },
    {
     "data": {
      "application/vnd.jupyter.widget-view+json": {
       "model_id": "6dc1bf55539248638edff74a9dd41f34",
       "version_major": 2,
       "version_minor": 0
      },
      "text/plain": [
       "Extending Columns:   0%|          | 0/3 [00:00<?, ?it/s]"
      ]
     },
     "metadata": {},
     "output_type": "display_data"
    },
    {
     "name": "stdout",
     "output_type": "stream",
     "text": [
      "process and flatten columns\n",
      "handle missing values\n",
      "enforce numeric data types\n",
      "scale data\n"
     ]
    }
   ],
   "source": [
    "combined_img_masks, cleaned_df = cleaner.clean_data(return_img_mask_data=True, balance_classes=True, scale=True)"
   ]
  },
  {
   "cell_type": "code",
   "execution_count": 8,
   "id": "93c9bdae",
   "metadata": {},
   "outputs": [
    {
     "data": {
      "text/plain": [
       "33064"
      ]
     },
     "execution_count": 8,
     "metadata": {},
     "output_type": "execute_result"
    }
   ],
   "source": [
    "len(cleaned_df)"
   ]
  },
  {
   "cell_type": "code",
   "execution_count": 11,
   "id": "d340a8b6",
   "metadata": {},
   "outputs": [],
   "source": [
    "cleaned_df.drop(columns=['label', 'score'], inplace=True)"
   ]
  },
  {
   "cell_type": "code",
   "execution_count": null,
   "id": "e0167cd0",
   "metadata": {},
   "outputs": [],
   "source": []
  },
  {
   "cell_type": "code",
   "execution_count": 12,
   "id": "9bd82b81",
   "metadata": {},
   "outputs": [
    {
     "data": {
      "text/plain": [
       "Index(['ImageLaterality', 'PatientAge', 'Manufacturer',\n",
       "       'ManufacturerModelName', 'DistanceSourceToDetector',\n",
       "       'DistanceSourceToPatient', 'ExposureTime', 'XRayTubeCurrent',\n",
       "       'Exposure', 'ExposureInuAs', 'KVP', 'BodyPartThickness',\n",
       "       'CompressionForce', 'PositionerPrimaryAngle', 'ViewPosition',\n",
       "       'DetectorTemperature', 'DetectorType', 'Rows', 'Columns',\n",
       "       'target_label', 'coords1', 'coords2', 'coords3', 'coords4',\n",
       "       'resized_coords1', 'resized_coords2', 'resized_coords3',\n",
       "       'resized_coords4', 'FieldOfViewOrigin1', 'FieldOfViewOrigin2',\n",
       "       'WindowCenter1', 'WindowCenter2', 'WindowCenter3', 'WindowCenter4',\n",
       "       'WindowWidth1', 'WindowWidth2', 'WindowWidth3', 'WindowWidth4',\n",
       "       'histogram_mean', 'histogram_median', 'histogram_std', 'histogram_min',\n",
       "       'histogram_max', 'histogram_percentile_25', 'histogram_percentile_50',\n",
       "       'histogram_percentile_75', 'flattened_image_mean',\n",
       "       'flattened_image_median', 'flattened_image_std', 'flattened_image_min',\n",
       "       'flattened_image_max', 'flattened_image_percentile_25',\n",
       "       'flattened_image_percentile_50', 'flattened_image_percentile_75'],\n",
       "      dtype='object')"
      ]
     },
     "execution_count": 12,
     "metadata": {},
     "output_type": "execute_result"
    }
   ],
   "source": [
    "cleaned_df.columns"
   ]
  },
  {
   "cell_type": "code",
   "execution_count": 13,
   "id": "087ead3a",
   "metadata": {},
   "outputs": [],
   "source": [
    "combined_images = combined_img_masks"
   ]
  },
  {
   "cell_type": "code",
   "execution_count": 14,
   "id": "d772766e",
   "metadata": {},
   "outputs": [
    {
     "name": "stdout",
     "output_type": "stream",
     "text": [
      "<class 'numpy.ndarray'> (33064, 256, 256, 2)\n"
     ]
    }
   ],
   "source": [
    "# print(type(preprocessed_images), preprocessed_images.shape)\n",
    "# print(type(binary_masks), binary_masks.shape)\n",
    "print(type(combined_images), combined_images.shape)\n"
   ]
  },
  {
   "cell_type": "code",
   "execution_count": 15,
   "id": "87e0578d",
   "metadata": {},
   "outputs": [],
   "source": [
    "# Assuming 'cleaned_df' is your final DataFrame after cleaning\n",
    "# # Features without the image data\n",
    "# X = cleaned_df.drop(['target_label'], axis=1)\n",
    "\n",
    "# # Labels\n",
    "# y = cleaned_df['target_label']\n",
    "\n",
    "# Split data and keep track of indices\n",
    "X_train, X_test, y_train, y_test, idx_train, idx_test = train_test_split(\n",
    "    cleaned_df.drop([GT], axis=1), cleaned_df[GT], range(len(cleaned_df)), \n",
    "    test_size=0.2, random_state=42\n",
    ")\n",
    "\n",
    "# Scale the features\n",
    "# scaler = StandardScaler()\n",
    "# X_train_scaled = scaler.fit_transform(X_train)\n",
    "# X_test_scaled = scaler.transform(X_test)"
   ]
  },
  {
   "cell_type": "code",
   "execution_count": 16,
   "id": "47c9bf43",
   "metadata": {},
   "outputs": [
    {
     "name": "stdout",
     "output_type": "stream",
     "text": [
      "X_train shape: (26451, 53)\n",
      "X_test shape: (6613, 53)\n",
      "y_train shape: (26451,)\n",
      "y_test shape: (6613,)\n"
     ]
    }
   ],
   "source": [
    "print(\"X_train shape:\", X_train.shape)\n",
    "print(\"X_test shape:\", X_test.shape)\n",
    "print(\"y_train shape:\", y_train.shape)\n",
    "print(\"y_test shape:\", y_test.shape)"
   ]
  },
  {
   "cell_type": "code",
   "execution_count": 17,
   "id": "17b6b7de",
   "metadata": {},
   "outputs": [
    {
     "name": "stdout",
     "output_type": "stream",
     "text": [
      "Image Input Shape: (256, 256, 2)\n",
      "Scalar Input Shape: (53,)\n"
     ]
    }
   ],
   "source": [
    "# Assuming you have combined_images and X_train_scaled prepared\n",
    "\n",
    "# For combined image data\n",
    "image_input_shape = combined_images.shape[1:]  # This excludes the first dimension (number of samples)\n",
    "\n",
    "# For scalar features\n",
    "scalar_input_shape = (X_train.shape[1],)  # This gets the number of features\n",
    "\n",
    "# Printing shapes for confirmation\n",
    "print(\"Image Input Shape:\", image_input_shape)\n",
    "print(\"Scalar Input Shape:\", scalar_input_shape)\n"
   ]
  },
  {
   "cell_type": "code",
   "execution_count": 18,
   "id": "4f05edc1",
   "metadata": {},
   "outputs": [
    {
     "name": "stderr",
     "output_type": "stream",
     "text": [
      "2023-12-14 14:06:39.505111: I tensorflow/stream_executor/platform/default/dso_loader.cc:53] Successfully opened dynamic library libcuda.so.1\n",
      "2023-12-14 14:06:39.646321: I tensorflow/core/common_runtime/gpu/gpu_device.cc:1733] Found device 0 with properties: \n",
      "pciBusID: 0000:07:00.0 name: A100-SXM4-40GB computeCapability: 8.0\n",
      "coreClock: 1.41GHz coreCount: 108 deviceMemorySize: 39.59GiB deviceMemoryBandwidth: 1.41TiB/s\n",
      "2023-12-14 14:06:39.646369: I tensorflow/stream_executor/platform/default/dso_loader.cc:53] Successfully opened dynamic library libcudart.so.11.0\n",
      "2023-12-14 14:06:39.703265: I tensorflow/stream_executor/platform/default/dso_loader.cc:53] Successfully opened dynamic library libcublas.so.11\n",
      "2023-12-14 14:06:39.703316: I tensorflow/stream_executor/platform/default/dso_loader.cc:53] Successfully opened dynamic library libcublasLt.so.11\n",
      "2023-12-14 14:06:39.721416: I tensorflow/stream_executor/platform/default/dso_loader.cc:53] Successfully opened dynamic library libcufft.so.10\n",
      "2023-12-14 14:06:39.727934: I tensorflow/stream_executor/platform/default/dso_loader.cc:53] Successfully opened dynamic library libcurand.so.10\n",
      "2023-12-14 14:06:39.733839: I tensorflow/stream_executor/platform/default/dso_loader.cc:53] Successfully opened dynamic library libcusolver.so.11\n",
      "2023-12-14 14:06:39.745479: I tensorflow/stream_executor/platform/default/dso_loader.cc:53] Successfully opened dynamic library libcusparse.so.11\n",
      "2023-12-14 14:06:39.748049: I tensorflow/stream_executor/platform/default/dso_loader.cc:53] Successfully opened dynamic library libcudnn.so.8\n",
      "2023-12-14 14:06:39.754390: I tensorflow/core/common_runtime/gpu/gpu_device.cc:1871] Adding visible gpu devices: 0\n",
      "2023-12-14 14:06:39.755059: I tensorflow/core/platform/cpu_feature_guard.cc:142] This TensorFlow binary is optimized with oneAPI Deep Neural Network Library (oneDNN) to use the following CPU instructions in performance-critical operations:  AVX2 FMA\n",
      "To enable them in other operations, rebuild TensorFlow with the appropriate compiler flags.\n",
      "2023-12-14 14:06:39.757753: I tensorflow/core/common_runtime/gpu/gpu_device.cc:1733] Found device 0 with properties: \n",
      "pciBusID: 0000:07:00.0 name: A100-SXM4-40GB computeCapability: 8.0\n",
      "coreClock: 1.41GHz coreCount: 108 deviceMemorySize: 39.59GiB deviceMemoryBandwidth: 1.41TiB/s\n",
      "2023-12-14 14:06:39.762804: I tensorflow/core/common_runtime/gpu/gpu_device.cc:1871] Adding visible gpu devices: 0\n",
      "2023-12-14 14:06:39.763690: I tensorflow/stream_executor/platform/default/dso_loader.cc:53] Successfully opened dynamic library libcudart.so.11.0\n",
      "2023-12-14 14:06:40.928388: I tensorflow/core/common_runtime/gpu/gpu_device.cc:1258] Device interconnect StreamExecutor with strength 1 edge matrix:\n",
      "2023-12-14 14:06:40.928436: I tensorflow/core/common_runtime/gpu/gpu_device.cc:1264]      0 \n",
      "2023-12-14 14:06:40.928442: I tensorflow/core/common_runtime/gpu/gpu_device.cc:1277] 0:   N \n",
      "2023-12-14 14:06:40.940188: I tensorflow/core/common_runtime/gpu/gpu_device.cc:1418] Created TensorFlow device (/job:localhost/replica:0/task:0/device:GPU:0 with 38425 MB memory) -> physical GPU (device: 0, name: A100-SXM4-40GB, pci bus id: 0000:07:00.0, compute capability: 8.0)\n"
     ]
    }
   ],
   "source": [
    "from tensorflow.keras.layers import Dropout\n",
    "\n",
    "# Image input model\n",
    "image_input = Input(shape=(256, 256, 2))\n",
    "x = Conv2D(32, (3, 3), activation='relu')(image_input)\n",
    "x = MaxPooling2D((2, 2))(x)\n",
    "x = Dropout(0.25)(x)  # Adding dropout\n",
    "x = Conv2D(64, (3, 3), activation='relu')(x)\n",
    "x = MaxPooling2D((2, 2))(x)\n",
    "x = Dropout(0.25)(x)  # Adding dropout\n",
    "x = Flatten()(x)"
   ]
  },
  {
   "cell_type": "code",
   "execution_count": 32,
   "id": "b6f2cbdf",
   "metadata": {},
   "outputs": [],
   "source": [
    "# Scalar input model\n",
    "scalar_input = Input(shape=(53,))\n",
    "y = Dense(64, activation='relu')(scalar_input)\n",
    "y = Dropout(0.25)(y)  # Adding dropout\n",
    "y = Dense(32, activation='relu')(y)\n",
    "y = Dropout(0.25)(y)  # Adding dropout"
   ]
  },
  {
   "cell_type": "code",
   "execution_count": 33,
   "id": "fe7a8696",
   "metadata": {},
   "outputs": [],
   "source": [
    "# Concatenate the outputs from the two models\n",
    "combined = concatenate([x, y])"
   ]
  },
  {
   "cell_type": "code",
   "execution_count": 34,
   "id": "8fa97bc2",
   "metadata": {},
   "outputs": [],
   "source": [
    "# Additional layers after concatenation\n",
    "z = Dense(64, activation='relu')(combined)\n",
    "z = Dropout(0.5)(z)  # Adding dropout\n",
    "z = Dense(32, activation='relu')(z)\n",
    "z = Dropout(0.5)(z)  # Adding dropout"
   ]
  },
  {
   "cell_type": "code",
   "execution_count": 35,
   "id": "d04a5aa6",
   "metadata": {},
   "outputs": [],
   "source": [
    "# Output layer\n",
    "output = Dense(1, activation='sigmoid')(z)  # Use 'softmax' for multi-class"
   ]
  },
  {
   "cell_type": "code",
   "execution_count": 36,
   "id": "2bd75247",
   "metadata": {},
   "outputs": [],
   "source": [
    "# Create the model\n",
    "model = Model(inputs=[image_input, scalar_input], outputs=output)"
   ]
  },
  {
   "cell_type": "code",
   "execution_count": 37,
   "id": "4f8f6bab",
   "metadata": {},
   "outputs": [],
   "source": [
    "# Compile the model\n",
    "model.compile(optimizer=Adam(learning_rate=0.0001), loss='binary_crossentropy', metrics=['accuracy'])\n"
   ]
  },
  {
   "cell_type": "code",
   "execution_count": 38,
   "id": "1fe172b8",
   "metadata": {},
   "outputs": [
    {
     "name": "stdout",
     "output_type": "stream",
     "text": [
      "Model: \"model_1\"\n",
      "__________________________________________________________________________________________________\n",
      "Layer (type)                    Output Shape         Param #     Connected to                     \n",
      "==================================================================================================\n",
      "input_1 (InputLayer)            [(None, 256, 256, 2) 0                                            \n",
      "__________________________________________________________________________________________________\n",
      "conv2d (Conv2D)                 (None, 254, 254, 32) 608         input_1[0][0]                    \n",
      "__________________________________________________________________________________________________\n",
      "max_pooling2d (MaxPooling2D)    (None, 127, 127, 32) 0           conv2d[0][0]                     \n",
      "__________________________________________________________________________________________________\n",
      "dropout (Dropout)               (None, 127, 127, 32) 0           max_pooling2d[0][0]              \n",
      "__________________________________________________________________________________________________\n",
      "input_3 (InputLayer)            [(None, 53)]         0                                            \n",
      "__________________________________________________________________________________________________\n",
      "conv2d_1 (Conv2D)               (None, 125, 125, 64) 18496       dropout[0][0]                    \n",
      "__________________________________________________________________________________________________\n",
      "dense_5 (Dense)                 (None, 64)           3456        input_3[0][0]                    \n",
      "__________________________________________________________________________________________________\n",
      "max_pooling2d_1 (MaxPooling2D)  (None, 62, 62, 64)   0           conv2d_1[0][0]                   \n",
      "__________________________________________________________________________________________________\n",
      "dropout_6 (Dropout)             (None, 64)           0           dense_5[0][0]                    \n",
      "__________________________________________________________________________________________________\n",
      "dropout_1 (Dropout)             (None, 62, 62, 64)   0           max_pooling2d_1[0][0]            \n",
      "__________________________________________________________________________________________________\n",
      "dense_6 (Dense)                 (None, 32)           2080        dropout_6[0][0]                  \n",
      "__________________________________________________________________________________________________\n",
      "flatten (Flatten)               (None, 246016)       0           dropout_1[0][0]                  \n",
      "__________________________________________________________________________________________________\n",
      "dropout_7 (Dropout)             (None, 32)           0           dense_6[0][0]                    \n",
      "__________________________________________________________________________________________________\n",
      "concatenate_1 (Concatenate)     (None, 246048)       0           flatten[0][0]                    \n",
      "                                                                 dropout_7[0][0]                  \n",
      "__________________________________________________________________________________________________\n",
      "dense_7 (Dense)                 (None, 64)           15747136    concatenate_1[0][0]              \n",
      "__________________________________________________________________________________________________\n",
      "dropout_8 (Dropout)             (None, 64)           0           dense_7[0][0]                    \n",
      "__________________________________________________________________________________________________\n",
      "dense_8 (Dense)                 (None, 32)           2080        dropout_8[0][0]                  \n",
      "__________________________________________________________________________________________________\n",
      "dropout_9 (Dropout)             (None, 32)           0           dense_8[0][0]                    \n",
      "__________________________________________________________________________________________________\n",
      "dense_9 (Dense)                 (None, 1)            33          dropout_9[0][0]                  \n",
      "==================================================================================================\n",
      "Total params: 15,773,889\n",
      "Trainable params: 15,773,889\n",
      "Non-trainable params: 0\n",
      "__________________________________________________________________________________________________\n"
     ]
    }
   ],
   "source": [
    "# Display model summary\n",
    "model.summary()"
   ]
  },
  {
   "cell_type": "code",
   "execution_count": 39,
   "id": "d3976430",
   "metadata": {},
   "outputs": [
    {
     "name": "stdout",
     "output_type": "stream",
     "text": [
      "Type of combined_images: <class 'numpy.ndarray'>\n",
      "Shape of combined_images: (33064, 256, 256, 2)\n",
      "Type of y: <class 'numpy.ndarray'>\n",
      "Length of y: 33064\n"
     ]
    }
   ],
   "source": [
    "# Reset y to be the label column from the cleaned dataframe\n",
    "y = cleaned_df[GT].values  # Convert to numpy array if it's a pandas series\n",
    "\n",
    "\n",
    "# Step 1: Verify that combined_images is a numpy array\n",
    "print(\"Type of combined_images:\", type(combined_images))\n",
    "print(\"Shape of combined_images:\", combined_images.shape)\n",
    "\n",
    "# Assuming y is the labels as a numpy array\n",
    "print(\"Type of y:\", type(y))\n",
    "print(\"Length of y:\", len(y))"
   ]
  },
  {
   "cell_type": "code",
   "execution_count": 40,
   "id": "92c1a8ac",
   "metadata": {},
   "outputs": [],
   "source": [
    "\n",
    "# Split combined image data\n",
    "X_train_images, X_test_images, y_train_images, y_test_images = train_test_split(\n",
    "    combined_images, y, test_size=0.2, random_state=42\n",
    ")"
   ]
  },
  {
   "cell_type": "code",
   "execution_count": 41,
   "id": "b56ed014",
   "metadata": {},
   "outputs": [
    {
     "name": "stdout",
     "output_type": "stream",
     "text": [
      "Shapes after split:\n",
      "X_train_images shape: (26451, 256, 256, 2)\n",
      "X_test_images shape: (6613, 256, 256, 2)\n",
      "y_train_images shape: (26451,)\n",
      "y_test_images shape: (6613,)\n",
      "X_train shape: (26451, 53)\n",
      "X_test shape: (6613, 53)\n",
      "y_train shape: (26451,)\n",
      "y_test shape: (6613,)\n"
     ]
    }
   ],
   "source": [
    "# Confirm the split\n",
    "print(\"Shapes after split:\")\n",
    "print(\"X_train_images shape:\", X_train_images.shape)\n",
    "print(\"X_test_images shape:\", X_test_images.shape)\n",
    "print(\"y_train_images shape:\", y_train_images.shape)\n",
    "print(\"y_test_images shape:\", y_test_images.shape)\n",
    "print(\"X_train shape:\", X_train.shape)\n",
    "print(\"X_test shape:\", X_test.shape)\n",
    "print(\"y_train shape:\", y_train.shape)\n",
    "print(\"y_test shape:\", y_test.shape)"
   ]
  },
  {
   "cell_type": "code",
   "execution_count": null,
   "id": "6a40b831",
   "metadata": {},
   "outputs": [],
   "source": []
  },
  {
   "cell_type": "code",
   "execution_count": 42,
   "id": "c3bed912",
   "metadata": {},
   "outputs": [
    {
     "name": "stdout",
     "output_type": "stream",
     "text": [
      "X_train_images shape: (26451, 256, 256, 2) Type: <class 'numpy.ndarray'>\n",
      "X_train shape: (26451, 53) Type: <class 'numpy.ndarray'>\n",
      "y_train shape: (26451,) Type: <class 'pandas.core.series.Series'>\n"
     ]
    }
   ],
   "source": [
    "# Convert to numpy arrays and ensure float data type\n",
    "X_train = np.array(X_train).astype('float32')\n",
    "X_test = np.array(X_test).astype('float32')\n",
    "\n",
    "# Replace inf/-inf with NaN and then fill NaNs\n",
    "X_train = np.nan_to_num(X_train)\n",
    "X_test = np.nan_to_num(X_test)\n",
    "\n",
    "# Verify shapes and types\n",
    "print(\"X_train_images shape:\", X_train_images.shape, \"Type:\", type(X_train_images))\n",
    "print(\"X_train shape:\", X_train.shape, \"Type:\", type(X_train))\n",
    "print(\"y_train shape:\", y_train.shape, \"Type:\", type(y_train))"
   ]
  },
  {
   "cell_type": "code",
   "execution_count": 43,
   "id": "7b8b41db",
   "metadata": {},
   "outputs": [],
   "source": [
    "from tensorflow.keras.callbacks import EarlyStopping\n",
    "\n",
    "early_stopping = EarlyStopping(monitor='val_loss', patience=5)"
   ]
  },
  {
   "cell_type": "code",
   "execution_count": 44,
   "id": "9093a146",
   "metadata": {},
   "outputs": [
    {
     "name": "stdout",
     "output_type": "stream",
     "text": [
      "Epoch 1/20\n"
     ]
    },
    {
     "name": "stderr",
     "output_type": "stream",
     "text": [
      "2023-12-14 14:10:22.404210: I tensorflow/stream_executor/platform/default/dso_loader.cc:53] Successfully opened dynamic library libcudnn.so.8\n",
      "2023-12-14 14:10:23.633000: I tensorflow/stream_executor/cuda/cuda_dnn.cc:359] Loaded cuDNN version 8201\n",
      "2023-12-14 14:10:25.193100: W tensorflow/stream_executor/gpu/asm_compiler.cc:191] Falling back to the CUDA driver for PTX compilation; ptxas does not support CC 8.0\n",
      "2023-12-14 14:10:25.193125: W tensorflow/stream_executor/gpu/asm_compiler.cc:194] Used ptxas at ptxas\n",
      "2023-12-14 14:10:25.193928: W tensorflow/stream_executor/gpu/redzone_allocator.cc:314] Unimplemented: ptxas ptxas too old. Falling back to the driver to compile.\n",
      "Relying on driver to perform ptx compilation. \n",
      "Modify $PATH to customize ptxas location.\n",
      "This message will be only logged once.\n",
      "2023-12-14 14:10:25.269405: I tensorflow/stream_executor/platform/default/dso_loader.cc:53] Successfully opened dynamic library libcublas.so.11\n",
      "2023-12-14 14:10:26.793622: I tensorflow/stream_executor/platform/default/dso_loader.cc:53] Successfully opened dynamic library libcublasLt.so.11\n",
      "2023-12-14 14:10:26.903091: I tensorflow/stream_executor/cuda/cuda_blas.cc:1838] TensorFloat-32 will be used for the matrix multiplication. This will only be logged once.\n"
     ]
    },
    {
     "name": "stdout",
     "output_type": "stream",
     "text": [
      "827/827 [==============================] - 17s 13ms/step - loss: 1.7463 - accuracy: 0.4947 - val_loss: 0.6932 - val_accuracy: 0.4904\n",
      "Epoch 2/20\n",
      "827/827 [==============================] - 10s 12ms/step - loss: 0.6932 - accuracy: 0.5025 - val_loss: 0.6932 - val_accuracy: 0.4904\n",
      "Epoch 3/20\n",
      "827/827 [==============================] - 10s 12ms/step - loss: 0.6931 - accuracy: 0.5024 - val_loss: 0.6932 - val_accuracy: 0.4904\n",
      "Epoch 4/20\n",
      "827/827 [==============================] - 10s 12ms/step - loss: 0.6932 - accuracy: 0.5019 - val_loss: 0.6932 - val_accuracy: 0.4904\n",
      "Epoch 5/20\n",
      "827/827 [==============================] - 10s 12ms/step - loss: 0.6931 - accuracy: 0.5024 - val_loss: 0.6932 - val_accuracy: 0.4904\n",
      "Epoch 6/20\n",
      "827/827 [==============================] - 10s 13ms/step - loss: 0.6945 - accuracy: 0.5024 - val_loss: 0.6932 - val_accuracy: 0.4904\n",
      "Epoch 7/20\n",
      "827/827 [==============================] - 10s 12ms/step - loss: 0.6931 - accuracy: 0.5024 - val_loss: 0.6932 - val_accuracy: 0.4904\n"
     ]
    }
   ],
   "source": [
    "# from sklearn.utils.class_weight import compute_class_weight\n",
    "\n",
    "# # Compute class weights\n",
    "# class_weights = compute_class_weight('balanced', np.unique(y_train), y_train)\n",
    "# class_weight_dict = dict(enumerate(class_weights))\n",
    "\n",
    "# Train the model with class weights\n",
    "history = model.fit(\n",
    "    [X_train_images, X_train], y_train,\n",
    "    validation_data=([X_test_images, X_test], y_test),\n",
    "    batch_size=32,\n",
    "    epochs=20,\n",
    "    verbose=1,\n",
    "    callbacks=[early_stopping]\n",
    ")\n"
   ]
  },
  {
   "cell_type": "code",
   "execution_count": null,
   "id": "1660e15b",
   "metadata": {},
   "outputs": [],
   "source": []
  },
  {
   "cell_type": "code",
   "execution_count": 45,
   "id": "105c859a",
   "metadata": {
    "scrolled": true
   },
   "outputs": [
    {
     "name": "stdout",
     "output_type": "stream",
     "text": [
      "207/207 [==============================] - 1s 4ms/step - loss: 0.6932 - accuracy: 0.4904\n",
      "Test loss: 0.6932225823402405\n",
      "Test accuracy: 0.49039769172668457\n"
     ]
    }
   ],
   "source": [
    "# # Train the model\n",
    "# history = model.fit(\n",
    "#     [X_train_images, X_train], y_train,\n",
    "#     validation_data=([X_test_images, X_test], y_test),\n",
    "#     batch_size=32,\n",
    "#     epochs=20,\n",
    "#     verbose=1\n",
    "# )\n",
    "\n",
    "# Evaluate the model\n",
    "evaluation = model.evaluate([X_test_images, X_test], y_test)\n",
    "print(\"Test loss:\", evaluation[0])\n",
    "print(\"Test accuracy:\", evaluation[1])\n"
   ]
  },
  {
   "cell_type": "code",
   "execution_count": 46,
   "id": "dd43aa27",
   "metadata": {},
   "outputs": [
    {
     "data": {
      "image/png": "[encoded data removed]",
      "text/plain": [
       "<Figure size 720x576 with 2 Axes>"
      ]
     },
     "metadata": {
      "needs_background": "light"
     },
     "output_type": "display_data"
    }
   ],
   "source": [
    "from sklearn.metrics import confusion_matrix\n",
    "import seaborn as sns\n",
    "import matplotlib.pyplot as plt\n",
    "\n",
    "# Predict the values from the validation dataset\n",
    "y_pred = model.predict([X_test_images, X_test])\n",
    "y_pred_classes = np.argmax(y_pred, axis=1) \n",
    "\n",
    "# Convert to binary predictions\n",
    "y_pred_binary = (y_pred_classes > 0.5).astype(\"int32\")\n",
    "\n",
    "# Compute the confusion matrix\n",
    "cm = confusion_matrix(y_test, y_pred_binary)\n",
    "\n",
    "# Plotting\n",
    "plt.figure(figsize=(10,8))\n",
    "sns.heatmap(cm, annot=True, fmt='d')\n",
    "plt.ylabel('Actual')\n",
    "plt.xlabel('Predicted')\n",
    "plt.show()\n"
   ]
  },
  {
   "cell_type": "code",
   "execution_count": 47,
   "id": "6884f516",
   "metadata": {},
   "outputs": [
    {
     "data": {
      "image/png": "[encoded data removed]",
      "text/plain": [
       "<Figure size 864x432 with 2 Axes>"
      ]
     },
     "metadata": {
      "needs_background": "light"
     },
     "output_type": "display_data"
    }
   ],
   "source": [
    "# Summarize history for accuracy\n",
    "plt.figure(figsize=(12,6))\n",
    "plt.subplot(1, 2, 1)\n",
    "plt.plot(history.history['accuracy'])\n",
    "plt.plot(history.history['val_accuracy'])\n",
    "plt.title('Model Accuracy')\n",
    "plt.ylabel('Accuracy')\n",
    "plt.xlabel('Epoch')\n",
    "plt.legend(['train', 'test'], loc='upper left')\n",
    "\n",
    "# Summarize history for loss\n",
    "plt.subplot(1, 2, 2)\n",
    "plt.plot(history.history['loss'])\n",
    "plt.plot(history.history['val_loss'])\n",
    "plt.title('Model Loss')\n",
    "plt.ylabel('Loss')\n",
    "plt.xlabel('Epoch')\n",
    "plt.legend(['train', 'test'], loc='upper left')\n",
    "plt.show()\n"
   ]
  },
  {
   "cell_type": "code",
   "execution_count": null,
   "id": "0eef7f1d",
   "metadata": {},
   "outputs": [],
   "source": []
  },
  {
   "cell_type": "code",
   "execution_count": 48,
   "id": "ad61bc21",
   "metadata": {},
   "outputs": [
    {
     "data": {
      "image/png": "[encoded data removed]",
      "text/plain": [
       "<Figure size 864x432 with 2 Axes>"
      ]
     },
     "metadata": {
      "needs_background": "light"
     },
     "output_type": "display_data"
    }
   ],
   "source": [
    "import matplotlib.pyplot as plt\n",
    "\n",
    "# Set the figure size and layout\n",
    "plt.figure(figsize=(12, 6))\n",
    "plt.subplots_adjust(hspace=0.4)\n",
    "\n",
    "# Subplot for accuracy\n",
    "plt.subplot(1, 2, 1)\n",
    "plt.plot(history.history['accuracy'], label='Training Accuracy')\n",
    "plt.plot(history.history['val_accuracy'], label='Validation Accuracy')\n",
    "plt.title('Training and Validation Accuracy')\n",
    "plt.ylabel('Accuracy')\n",
    "plt.xlabel('Epoch')\n",
    "plt.legend()\n",
    "plt.grid(True)\n",
    "\n",
    "# Subplot for loss\n",
    "plt.subplot(1, 2, 2)\n",
    "plt.plot(history.history['loss'], label='Training Loss')\n",
    "plt.plot(history.history['val_loss'], label='Validation Loss')\n",
    "plt.title('Training and Validation Loss')\n",
    "plt.ylabel('Loss')\n",
    "plt.xlabel('Epoch')\n",
    "plt.legend()\n",
    "plt.grid(True)\n",
    "\n",
    "# Save the figure\n",
    "plt.savefig('learning_curve.png')\n",
    "\n",
    "# Show the figure\n",
    "plt.show()\n"
   ]
  },
  {
   "cell_type": "code",
   "execution_count": null,
   "id": "55142262",
   "metadata": {},
   "outputs": [],
   "source": []
  },
  {
   "cell_type": "code",
   "execution_count": null,
   "id": "df64a731",
   "metadata": {},
   "outputs": [],
   "source": []
  },
  {
   "cell_type": "code",
   "execution_count": 34,
   "id": "9e9bd59b",
   "metadata": {},
   "outputs": [
    {
     "name": "stdout",
     "output_type": "stream",
     "text": [
      "Predicted probabilities for the first few samples:\n",
      " [[0.99963033]\n",
      " [0.9051625 ]\n",
      " [0.9051625 ]\n",
      " [0.9999833 ]\n",
      " [0.9051625 ]]\n",
      "Predicted class labels for the first few samples:\n",
      " [[1]\n",
      " [1]\n",
      " [1]\n",
      " [1]\n",
      " [1]]\n"
     ]
    }
   ],
   "source": [
    "# Predict using the model with both image and scalar data\n",
    "y_pred_prob = model.predict([X_test_images, X_test])\n",
    "\n",
    "# Print the first few predictions\n",
    "print(\"Predicted probabilities for the first few samples:\\n\", y_pred_prob[:5])\n",
    "\n",
    "# Convert probabilities to class labels (1 if probability > 0.5, otherwise 0)\n",
    "y_pred_labels = (y_pred_prob > 0.5).astype(int)\n",
    "\n",
    "# Print the converted class labels for the first few predictions\n",
    "print(\"Predicted class labels for the first few samples:\\n\", y_pred_labels[:5])\n",
    "\n"
   ]
  },
  {
   "cell_type": "code",
   "execution_count": 35,
   "id": "80877a1f",
   "metadata": {},
   "outputs": [],
   "source": [
    "# Wrap your Keras model using the built-in sklearn wrapper for compatibility\n",
    "from tensorflow.keras.wrappers.scikit_learn import KerasClassifier"
   ]
  },
  {
   "cell_type": "code",
   "execution_count": 36,
   "id": "72429138",
   "metadata": {},
   "outputs": [],
   "source": [
    "def get_compiled_model():\n",
    "    return model  # Use your existing model here"
   ]
  },
  {
   "cell_type": "code",
   "execution_count": 37,
   "id": "bdb7c64d",
   "metadata": {},
   "outputs": [],
   "source": [
    "model_wrapper = KerasClassifier(build_fn=get_compiled_model, epochs=10, batch_size=10, verbose=0)"
   ]
  },
  {
   "cell_type": "code",
   "execution_count": 38,
   "id": "d4a45018",
   "metadata": {},
   "outputs": [],
   "source": [
    "from sklearn.metrics import accuracy_score\n",
    "from sklearn.utils import shuffle\n",
    "\n",
    "def custom_permutation_importance(model, X_images, X_scalar, y, feature_names, n_repeats=10):\n",
    "    baseline_accuracy = accuracy_score(y, (model.predict([X_images, X_scalar]) > 0.5).astype(int))\n",
    "    importances = np.zeros((X_scalar.shape[1], n_repeats))\n",
    "\n",
    "    for n in range(n_repeats):\n",
    "        shuffled_scores = []\n",
    "        for col in range(X_scalar.shape[1]):\n",
    "            X_temp = X_scalar.copy()\n",
    "            X_temp[:, col] = shuffle(X_temp[:, col])\n",
    "            shuffled_score = accuracy_score(y, (model.predict([X_images, X_temp]) > 0.5).astype(int))\n",
    "            shuffled_scores.append(shuffled_score)\n",
    "        importances[:, n] = baseline_accuracy - np.array(shuffled_scores)\n",
    "\n",
    "    mean_importances = np.mean(importances, axis=1)\n",
    "    std_importances = np.std(importances, axis=1)\n",
    "    \n",
    "    # Plot the feature importances\n",
    "    indices = np.argsort(mean_importances)[::-1]\n",
    "    plt.figure(figsize=(15, 6))\n",
    "    plt.title(\"Feature Importances\")\n",
    "    plt.bar(range(len(indices)), mean_importances[indices], color='b', yerr=std_importances[indices], align='center')\n",
    "    plt.xticks(range(len(indices)), np.array(feature_names)[indices], rotation='vertical')\n",
    "    plt.ylabel('Mean Decrease in Accuracy')\n",
    "    plt.xlabel('Feature')\n",
    "    plt.show()\n",
    "    \n",
    "    return mean_importances, std_importances\n"
   ]
  },
  {
   "cell_type": "code",
   "execution_count": 41,
   "id": "fb8029ee",
   "metadata": {},
   "outputs": [],
   "source": [
    "# Extract feature names from the DataFrame\n",
    "feature_names = cleaned_df.drop(['target_label'], axis=1).columns.tolist()"
   ]
  },
  {
   "cell_type": "code",
   "execution_count": null,
   "id": "af85e662",
   "metadata": {},
   "outputs": [],
   "source": [
    "\n",
    "mean_importances, std_importances = custom_permutation_importance(\n",
    "    model,\n",
    "    X_train_images,\n",
    "    X_train_scaled,\n",
    "    y_train,\n",
    "    feature_names,\n",
    "    n_repeats=30  \n",
    ")"
   ]
  },
  {
   "cell_type": "code",
   "execution_count": null,
   "id": "1c7d51d7",
   "metadata": {},
   "outputs": [],
   "source": []
  },
  {
   "cell_type": "code",
   "execution_count": null,
   "id": "1fa6dfda",
   "metadata": {},
   "outputs": [],
   "source": []
  },
  {
   "cell_type": "code",
   "execution_count": 38,
   "id": "77f39b77",
   "metadata": {},
   "outputs": [],
   "source": [
    "from sklearn.base import BaseEstimator, ClassifierMixin\n",
    "\n",
    "class KerasClassifierWrapper(BaseEstimator, ClassifierMixin):  \n",
    "    def __init__(self, keras_model, full_image_data):\n",
    "        self.keras_model = keras_model\n",
    "        self.full_image_data = full_image_data\n",
    "\n",
    "    def predict(self, X, indices):\n",
    "        # Use indices to get the corresponding subset of image data\n",
    "        corresponding_image_data = self.full_image_data[indices]\n",
    "        return (self.keras_model.predict([corresponding_image_data, X]) > 0.5).astype(int)\n",
    "\n",
    "    def score(self, X, y, indices):\n",
    "        y_pred = self.predict(X, indices)\n",
    "        return np.mean(y_pred.ravel() == y)"
   ]
  },
  {
   "cell_type": "code",
   "execution_count": 39,
   "id": "e9dd4223",
   "metadata": {},
   "outputs": [],
   "source": [
    "def image_data_selector(scalar_data, full_image_data):\n",
    "    indices = []\n",
    "    for row in scalar_data:\n",
    "        index = np.where((cleaned_df.drop(['label'], axis=1).to_numpy() == row).all(axis=1))[0]\n",
    "        if len(index) > 0:\n",
    "            indices.append(index[0])\n",
    "    return full_image_data[indices]\n",
    "\n"
   ]
  },
  {
   "cell_type": "code",
   "execution_count": 40,
   "id": "9d1c4182",
   "metadata": {},
   "outputs": [],
   "source": [
    "def custom_permutation_importance(model_wrapper, X, y, indices, n_repeats=10):\n",
    "    baseline_scores = []\n",
    "    importances = np.zeros((X.shape[1], n_repeats))\n",
    "\n",
    "    for _ in range(n_repeats):\n",
    "        shuffled_scores = []\n",
    "        for col in range(X.shape[1]):\n",
    "            X_temp = X.copy()\n",
    "            X_temp[:, col] = shuffle(X_temp[:, col])  # Shuffle individual column\n",
    "            shuffled_scores.append(model_wrapper.score(X_temp, y, indices))\n",
    "\n",
    "        baseline_score = model_wrapper.score(X, y, indices)\n",
    "        baseline_scores.append(baseline_score)\n",
    "        importances[:, _] = baseline_score - np.array(shuffled_scores)\n",
    "\n",
    "    return np.mean(importances, axis=1), np.std(importances, axis=1)\n"
   ]
  },
  {
   "cell_type": "code",
   "execution_count": 41,
   "id": "c40431bb",
   "metadata": {},
   "outputs": [],
   "source": [
    "# Instantiate the model wrapper\n",
    "model_wrapper = KerasClassifierWrapper(model, combined_images)"
   ]
  },
  {
   "cell_type": "code",
   "execution_count": 42,
   "id": "68b77a7e",
   "metadata": {},
   "outputs": [],
   "source": [
    "# Calculate feature importances\n",
    "mean_importances, std_importances = custom_permutation_importance(\n",
    "    model_wrapper, X_test_scaled, y_test, idx_test\n",
    ")"
   ]
  },
  {
   "cell_type": "code",
   "execution_count": null,
   "id": "d9145e53",
   "metadata": {},
   "outputs": [],
   "source": []
  },
  {
   "cell_type": "code",
   "execution_count": 44,
   "id": "26c5a3eb",
   "metadata": {},
   "outputs": [
    {
     "data": {
      "image/png": "[encoded data removed]",
      "text/plain": [
       "<Figure size 864x432 with 1 Axes>"
      ]
     },
     "metadata": {
      "needs_background": "light"
     },
     "output_type": "display_data"
    }
   ],
   "source": [
    "# Extract column names from the original DataFrame (excluding the target label)\n",
    "feature_names = cleaned_df.drop(['label'], axis=1).columns\n",
    "\n",
    "# Plot the feature importances\n",
    "plt.figure(figsize=(12, 6))\n",
    "indices = np.argsort(mean_importances)[::-1]\n",
    "plt.title(\"Feature Importances\")\n",
    "plt.bar(range(len(mean_importances)), mean_importances[indices], color='b', align='center')\n",
    "plt.xticks(range(len(mean_importances)), feature_names[indices], rotation=90)\n",
    "plt.ylabel('Importance Score')\n",
    "plt.xlabel('Feature')\n",
    "plt.show()\n"
   ]
  },
  {
   "cell_type": "code",
   "execution_count": null,
   "id": "cdf0e3a0",
   "metadata": {},
   "outputs": [],
   "source": []
  },
  {
   "cell_type": "code",
   "execution_count": null,
   "id": "57c6f42e",
   "metadata": {},
   "outputs": [],
   "source": []
  },
  {
   "cell_type": "code",
   "execution_count": null,
   "id": "56030fde",
   "metadata": {},
   "outputs": [],
   "source": []
  },
  {
   "cell_type": "code",
   "execution_count": null,
   "id": "4139d47a",
   "metadata": {},
   "outputs": [],
   "source": []
  },
  {
   "cell_type": "code",
   "execution_count": null,
   "id": "4f0b23a1",
   "metadata": {},
   "outputs": [],
   "source": []
  }
 ],
 "metadata": {
  "kernelspec": {
   "display_name": "Python 3 (ipykernel)",
   "language": "python",
   "name": "python3"
  },
  "language_info": {
   "codemirror_mode": {
    "name": "ipython",
    "version": 3
   },
   "file_extension": ".py",
   "mimetype": "text/x-python",
   "name": "python",
   "nbconvert_exporter": "python",
   "pygments_lexer": "ipython3",
   "version": "3.9.7"
  }
 },
 "nbformat": 4,
 "nbformat_minor": 5
}
