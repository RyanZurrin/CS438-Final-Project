{
 "cells": [
  {
   "cell_type": "code",
   "execution_count": 1,
   "id": "48f3339b",
   "metadata": {},
   "outputs": [
    {
     "name": "stdout",
     "output_type": "stream",
     "text": [
      "Populating the interactive namespace from numpy and matplotlib\n"
     ]
    }
   ],
   "source": [
    "%pylab inline\n",
    "%load_ext autoreload\n",
    "%autoreload 2"
   ]
  },
  {
   "cell_type": "code",
   "execution_count": 2,
   "id": "4cea3950",
   "metadata": {},
   "outputs": [],
   "source": [
    "import feature_extractor as fe\n",
    "import pandas as pd\n",
    "from sklearn.model_selection import train_test_split, GridSearchCV\n",
    "from sklearn.ensemble import RandomForestClassifier\n",
    "from sklearn.metrics import classification_report, confusion_matrix\n",
    "from sklearn.preprocessing import OneHotEncoder, LabelEncoder\n",
    "from sklearn.model_selection import train_test_split\n",
    "from sklearn.preprocessing import StandardScaler\n",
    "import time\n",
    "import seaborn as sns\n",
    "import pandas as pd\n",
    "import numpy as np\n",
    "sys.path.append('../..')\n",
    "import omama as O"
   ]
  },
  {
   "cell_type": "code",
   "execution_count": 3,
   "id": "74c73818",
   "metadata": {},
   "outputs": [],
   "source": [
    "# cache_path = \"/home/ryan.zurrin001/binlink/sample_dataset.pkl\"\n",
    "cache_path = \"/home/ryan.zurrin001/binlink/cs438_feature_cache_bak.pkl\""
   ]
  },
  {
   "cell_type": "code",
   "execution_count": 4,
   "id": "d6c5fa59",
   "metadata": {},
   "outputs": [],
   "source": [
    "# Load the DataFrame\n",
    "df_features = pd.read_pickle(cache_path)"
   ]
  },
  {
   "cell_type": "code",
   "execution_count": 5,
   "id": "cd78f48f",
   "metadata": {},
   "outputs": [
    {
     "data": {
      "text/plain": [
       "163568"
      ]
     },
     "execution_count": 5,
     "metadata": {},
     "output_type": "execute_result"
    }
   ],
   "source": [
    "len(df_features)"
   ]
  },
  {
   "cell_type": "code",
   "execution_count": 5,
   "id": "ee2fb17f",
   "metadata": {},
   "outputs": [],
   "source": [
    "import data_cleaner as dc"
   ]
  },
  {
   "cell_type": "code",
   "execution_count": 6,
   "id": "e6423b6c",
   "metadata": {},
   "outputs": [],
   "source": [
    "cleaner = dc.DataCleaner(df_features)"
   ]
  },
  {
   "cell_type": "code",
   "execution_count": 8,
   "id": "0cf54881",
   "metadata": {},
   "outputs": [],
   "source": [
    "df_features = cleaner.clean_data()"
   ]
  },
  {
   "cell_type": "code",
   "execution_count": 9,
   "id": "c806a343",
   "metadata": {},
   "outputs": [
    {
     "data": {
      "text/plain": [
       "161299"
      ]
     },
     "execution_count": 9,
     "metadata": {},
     "output_type": "execute_result"
    }
   ],
   "source": [
    "len(df_features)"
   ]
  },
  {
   "cell_type": "code",
   "execution_count": 10,
   "id": "5f3cc592",
   "metadata": {},
   "outputs": [
    {
     "data": {
      "text/plain": [
       "Index(['label', 'ImageLaterality', 'PatientAge', 'Manufacturer',\n",
       "       'ManufacturerModelName', 'DistanceSourceToDetector',\n",
       "       'DistanceSourceToPatient', 'ExposureTime', 'XRayTubeCurrent',\n",
       "       'Exposure', 'ExposureInuAs', 'KVP', 'BodyPartThickness',\n",
       "       'CompressionForce', 'PositionerPrimaryAngle', 'ViewPosition',\n",
       "       'DetectorTemperature', 'DetectorType', 'Rows', 'Columns', 'score',\n",
       "       'target_label', 'coords1', 'coords2', 'coords3', 'coords4',\n",
       "       'resized_coords1', 'resized_coords2', 'resized_coords3',\n",
       "       'resized_coords4', 'FieldOfViewOrigin1', 'FieldOfViewOrigin2',\n",
       "       'WindowCenter1', 'WindowCenter2', 'WindowCenter3', 'WindowCenter4',\n",
       "       'WindowWidth1', 'WindowWidth2', 'WindowWidth3', 'WindowWidth4',\n",
       "       'histogram_mean', 'histogram_median', 'histogram_std', 'histogram_min',\n",
       "       'histogram_max', 'histogram_percentile_25', 'histogram_percentile_50',\n",
       "       'histogram_percentile_75'],\n",
       "      dtype='object')"
      ]
     },
     "execution_count": 10,
     "metadata": {},
     "output_type": "execute_result"
    }
   ],
   "source": [
    "df_features.columns"
   ]
  },
  {
   "cell_type": "code",
   "execution_count": 11,
   "id": "8104f98b",
   "metadata": {},
   "outputs": [
    {
     "name": "stdout",
     "output_type": "stream",
     "text": [
      "Number of unique values per column:\n",
      "label                            2\n",
      "ImageLaterality                  2\n",
      "PatientAge                     775\n",
      "Manufacturer                     6\n",
      "ManufacturerModelName           29\n",
      "DistanceSourceToDetector         2\n",
      "DistanceSourceToPatient         77\n",
      "ExposureTime                  2480\n",
      "XRayTubeCurrent                 46\n",
      "Exposure                       281\n",
      "ExposureInuAs                 2311\n",
      "KVP                             21\n",
      "BodyPartThickness              118\n",
      "CompressionForce               541\n",
      "PositionerPrimaryAngle         269\n",
      "ViewPosition                     4\n",
      "DetectorTemperature            765\n",
      "DetectorType                     2\n",
      "Rows                             5\n",
      "Columns                          6\n",
      "score                       160895\n",
      "target_label                     2\n",
      "coords1                       2641\n",
      "coords2                       2846\n",
      "coords3                       2673\n",
      "coords4                       2901\n",
      "resized_coords1                250\n",
      "resized_coords2                251\n",
      "resized_coords3                250\n",
      "resized_coords4                247\n",
      "FieldOfViewOrigin1               7\n",
      "FieldOfViewOrigin2              43\n",
      "WindowCenter1                  487\n",
      "WindowCenter2                  487\n",
      "WindowCenter3                  496\n",
      "WindowCenter4                  352\n",
      "WindowWidth1                     8\n",
      "WindowWidth2                     7\n",
      "WindowWidth3                     7\n",
      "WindowWidth4                   270\n",
      "histogram_mean                   1\n",
      "histogram_median               146\n",
      "histogram_std               161285\n",
      "histogram_min                   16\n",
      "histogram_max                42798\n",
      "histogram_percentile_25        138\n",
      "histogram_percentile_50        146\n",
      "histogram_percentile_75        604\n",
      "dtype: int64\n"
     ]
    }
   ],
   "source": [
    "unique_values = df_features.nunique()\n",
    "\n",
    "print(\"Number of unique values per column:\")\n",
    "print(unique_values)"
   ]
  },
  {
   "cell_type": "code",
   "execution_count": 12,
   "id": "06a2c487",
   "metadata": {
    "scrolled": true
   },
   "outputs": [
    {
     "name": "stdout",
     "output_type": "stream",
     "text": [
      "Number of unique values per column:\n",
      "label                            2\n",
      "ImageLaterality                  2\n",
      "PatientAge                     775\n",
      "Manufacturer                     6\n",
      "ManufacturerModelName           29\n",
      "DistanceSourceToDetector         2\n",
      "DistanceSourceToPatient         77\n",
      "ExposureTime                  2480\n",
      "XRayTubeCurrent                 46\n",
      "Exposure                       281\n",
      "ExposureInuAs                 2311\n",
      "KVP                             21\n",
      "BodyPartThickness              118\n",
      "CompressionForce               541\n",
      "PositionerPrimaryAngle         269\n",
      "ViewPosition                     4\n",
      "DetectorTemperature            765\n",
      "DetectorType                     2\n",
      "Rows                             5\n",
      "Columns                          6\n",
      "score                       160895\n",
      "target_label                     2\n",
      "coords1                       2641\n",
      "coords2                       2846\n",
      "coords3                       2673\n",
      "coords4                       2901\n",
      "resized_coords1                250\n",
      "resized_coords2                251\n",
      "resized_coords3                250\n",
      "resized_coords4                247\n",
      "FieldOfViewOrigin1               7\n",
      "FieldOfViewOrigin2              43\n",
      "WindowCenter1                  487\n",
      "WindowCenter2                  487\n",
      "WindowCenter3                  496\n",
      "WindowCenter4                  352\n",
      "WindowWidth1                     8\n",
      "WindowWidth2                     7\n",
      "WindowWidth3                     7\n",
      "WindowWidth4                   270\n",
      "histogram_mean                   1\n",
      "histogram_median               146\n",
      "histogram_std               161285\n",
      "histogram_min                   16\n",
      "histogram_max                42798\n",
      "histogram_percentile_25        138\n",
      "histogram_percentile_50        146\n",
      "histogram_percentile_75        604\n",
      "dtype: int64\n"
     ]
    }
   ],
   "source": [
    "unique_values = df_features.nunique()\n",
    "\n",
    "print(\"Number of unique values per column:\")\n",
    "print(unique_values)"
   ]
  },
  {
   "cell_type": "code",
   "execution_count": 27,
   "id": "f6f633a5",
   "metadata": {
    "scrolled": true
   },
   "outputs": [
    {
     "name": "stdout",
     "output_type": "stream",
     "text": [
      "                      Column  Unique_values\n",
      "0                      label              2\n",
      "1            ImageLaterality              2\n",
      "2                 PatientAge            775\n",
      "3               Manufacturer              6\n",
      "4      ManufacturerModelName             29\n",
      "5   DistanceSourceToDetector              2\n",
      "6    DistanceSourceToPatient             77\n",
      "7               ExposureTime           2480\n",
      "8            XRayTubeCurrent             46\n",
      "9                   Exposure            281\n",
      "10             ExposureInuAs           2311\n",
      "11                       KVP             21\n",
      "12         BodyPartThickness            118\n",
      "13          CompressionForce            541\n",
      "14    PositionerPrimaryAngle            269\n",
      "15              ViewPosition              4\n",
      "16       DetectorTemperature            765\n",
      "17              DetectorType              2\n",
      "18                      Rows              5\n",
      "19                   Columns              6\n",
      "20                     score         160895\n",
      "21        FieldOfViewOrigin1              7\n",
      "22        FieldOfViewOrigin2             43\n",
      "23        FieldOfViewOrigin3              1\n",
      "24        FieldOfViewOrigin4              1\n",
      "25             WindowCenter1            487\n",
      "26             WindowCenter2            487\n",
      "27             WindowCenter3            496\n",
      "28             WindowCenter4            352\n",
      "29              WindowWidth1              8\n",
      "30              WindowWidth2              7\n",
      "31              WindowWidth3              7\n",
      "32              WindowWidth4            270\n",
      "33                   coords1           2641\n",
      "34                   coords2           2846\n",
      "35                   coords3           2673\n",
      "36                   coords4           2901\n",
      "37           resized_coords1            250\n",
      "38           resized_coords2            251\n",
      "39           resized_coords3            250\n",
      "40           resized_coords4            247\n",
      "41            histogram_mean              1\n",
      "42          histogram_median            146\n",
      "43             histogram_std         161285\n",
      "44             histogram_min             16\n",
      "45             histogram_max          42798\n",
      "46   histogram_percentile_25            138\n",
      "47   histogram_percentile_50            146\n",
      "48   histogram_percentile_75            604\n"
     ]
    }
   ],
   "source": [
    "unique_values_df = unique_values.reset_index()\n",
    "unique_values_df.columns = ['Column', 'Unique_values']\n",
    "\n",
    "print(unique_values_df)"
   ]
  },
  {
   "cell_type": "code",
   "execution_count": null,
   "id": "795d7af1",
   "metadata": {},
   "outputs": [],
   "source": []
  },
  {
   "cell_type": "code",
   "execution_count": 13,
   "id": "4b5f60e4",
   "metadata": {},
   "outputs": [],
   "source": [
    "# Define your features and target variable\n",
    "X = df_features.drop('label', axis=1)  # all columns except the label\n",
    "y = df_features['label']  # the target variable\n",
    "\n",
    "# Split the dataset\n",
    "X_train, X_test, y_train, y_test = train_test_split(X, y, test_size=0.2, random_state=42)\n"
   ]
  },
  {
   "cell_type": "code",
   "execution_count": 14,
   "id": "10f8adea",
   "metadata": {},
   "outputs": [
    {
     "data": {
      "text/plain": [
       "129039"
      ]
     },
     "execution_count": 14,
     "metadata": {},
     "output_type": "execute_result"
    }
   ],
   "source": [
    "len(X_train)"
   ]
  },
  {
   "cell_type": "code",
   "execution_count": 15,
   "id": "c8139669",
   "metadata": {},
   "outputs": [
    {
     "data": {
      "text/plain": [
       "32260"
      ]
     },
     "execution_count": 15,
     "metadata": {},
     "output_type": "execute_result"
    }
   ],
   "source": [
    "len(X_test)"
   ]
  },
  {
   "cell_type": "code",
   "execution_count": 16,
   "id": "ea2c9e78",
   "metadata": {},
   "outputs": [
    {
     "data": {
      "text/plain": [
       "129039"
      ]
     },
     "execution_count": 16,
     "metadata": {},
     "output_type": "execute_result"
    }
   ],
   "source": [
    "len(y_train)"
   ]
  },
  {
   "cell_type": "code",
   "execution_count": 17,
   "id": "f9ccdcf7",
   "metadata": {},
   "outputs": [
    {
     "data": {
      "text/plain": [
       "32260"
      ]
     },
     "execution_count": 17,
     "metadata": {},
     "output_type": "execute_result"
    }
   ],
   "source": [
    "len(y_test)"
   ]
  },
  {
   "cell_type": "code",
   "execution_count": 18,
   "id": "e2a27494",
   "metadata": {},
   "outputs": [],
   "source": [
    "scaler = StandardScaler()\n",
    "X_train_scaled = scaler.fit_transform(X_train)\n",
    "X_test_scaled = scaler.transform(X_test)"
   ]
  },
  {
   "cell_type": "code",
   "execution_count": 19,
   "id": "356823a3",
   "metadata": {},
   "outputs": [
    {
     "data": {
      "text/plain": [
       "RandomForestClassifier(class_weight={0: 1, 1: 22.030340888809565},\n",
       "                       random_state=42)"
      ]
     },
     "execution_count": 19,
     "metadata": {},
     "output_type": "execute_result"
    }
   ],
   "source": [
    "from sklearn.ensemble import RandomForestClassifier\n",
    "\n",
    "# Calculate class weights\n",
    "class_weights = {0: 1,\n",
    "                 1: (len(y_train) - sum(y_train)) / sum(y_train)}\n",
    "\n",
    "model = RandomForestClassifier(class_weight=class_weights, random_state=42)\n",
    "model.fit(X_train_scaled, y_train)\n"
   ]
  },
  {
   "cell_type": "code",
   "execution_count": 20,
   "id": "2f684ba1",
   "metadata": {},
   "outputs": [
    {
     "name": "stdout",
     "output_type": "stream",
     "text": [
      "              precision    recall  f1-score   support\n",
      "\n",
      "           0       1.00      1.00      1.00     30768\n",
      "           1       1.00      0.97      0.99      1492\n",
      "\n",
      "    accuracy                           1.00     32260\n",
      "   macro avg       1.00      0.99      0.99     32260\n",
      "weighted avg       1.00      1.00      1.00     32260\n",
      "\n",
      "[[30768     0]\n",
      " [   42  1450]]\n"
     ]
    }
   ],
   "source": [
    "# Predict on the test data\n",
    "y_pred = model.predict(X_test_scaled)\n",
    "\n",
    "# Evaluate the model\n",
    "print(classification_report(y_test, y_pred))\n",
    "print(confusion_matrix(y_test, y_pred))"
   ]
  },
  {
   "cell_type": "code",
   "execution_count": 41,
   "id": "0e7811da",
   "metadata": {},
   "outputs": [],
   "source": [
    "# from sklearn.ensemble import RandomForestClassifier\n",
    "\n",
    "# model = RandomForestClassifier(random_state=42)\n",
    "# history = model.fit(X_train_scaled, y_train)"
   ]
  },
  {
   "cell_type": "code",
   "execution_count": null,
   "id": "2fb2b61f",
   "metadata": {},
   "outputs": [],
   "source": []
  },
  {
   "cell_type": "code",
   "execution_count": 38,
   "id": "6d7c50d6",
   "metadata": {},
   "outputs": [
    {
     "name": "stdout",
     "output_type": "stream",
     "text": [
      "              precision    recall  f1-score   support\n",
      "\n",
      "           0       0.96      1.00      0.98     30768\n",
      "           1       0.78      0.23      0.35      1492\n",
      "\n",
      "    accuracy                           0.96     32260\n",
      "   macro avg       0.87      0.61      0.67     32260\n",
      "weighted avg       0.96      0.96      0.95     32260\n",
      "\n",
      "[[30673    95]\n",
      " [ 1151   341]]\n"
     ]
    }
   ],
   "source": [
    "# Predict on the test data\n",
    "y_pred = model.predict(X_test_scaled)\n",
    "\n",
    "# Evaluate the model\n",
    "print(classification_report(y_test, y_pred))\n",
    "print(confusion_matrix(y_test, y_pred))\n"
   ]
  },
  {
   "cell_type": "code",
   "execution_count": 35,
   "id": "f15a113b",
   "metadata": {},
   "outputs": [
    {
     "name": "stdout",
     "output_type": "stream",
     "text": [
      "              precision    recall  f1-score   support\n",
      "\n",
      "           0       0.96      1.00      0.98     30768\n",
      "           1       0.78      0.23      0.35      1492\n",
      "\n",
      "    accuracy                           0.96     32260\n",
      "   macro avg       0.87      0.61      0.67     32260\n",
      "weighted avg       0.96      0.96      0.95     32260\n",
      "\n",
      "[[30673    95]\n",
      " [ 1151   341]]\n"
     ]
    }
   ],
   "source": [
    "# Predict on the test data\n",
    "y_pred = model.predict(X_test_scaled)\n",
    "\n",
    "# Evaluate the model\n",
    "print(classification_report(y_test, y_pred))\n",
    "print(confusion_matrix(y_test, y_pred))\n"
   ]
  },
  {
   "cell_type": "code",
   "execution_count": 21,
   "id": "04f7b03c",
   "metadata": {},
   "outputs": [
    {
     "data": {
      "image/png": "[encoded data removed]",
      "text/plain": [
       "<Figure size 432x288 with 1 Axes>"
      ]
     },
     "metadata": {
      "needs_background": "light"
     },
     "output_type": "display_data"
    }
   ],
   "source": [
    "from sklearn.model_selection import learning_curve\n",
    "\n",
    "train_sizes, train_scores, test_scores = learning_curve(\n",
    "    estimator=model, X=X_train_scaled, y=y_train, \n",
    "    train_sizes=np.linspace(0.1, 1.0, 10), cv=5, n_jobs=-1, scoring='accuracy'\n",
    ")\n",
    "\n",
    "# Calculate mean and standard deviation of train and test scores\n",
    "train_mean = np.mean(train_scores, axis=1)\n",
    "train_std = np.std(train_scores, axis=1)\n",
    "test_mean = np.mean(test_scores, axis=1)\n",
    "test_std = np.std(test_scores, axis=1)\n",
    "\n",
    "# Plot the learning curve\n",
    "plt.fill_between(train_sizes, train_mean - train_std, train_mean + train_std, color=\"#DDDDDD\")\n",
    "plt.fill_between(train_sizes, test_mean - test_std, test_mean + test_std, color=\"#DDDDDD\")\n",
    "\n",
    "plt.plot(train_sizes, train_mean, label='Training score')\n",
    "plt.plot(train_sizes, test_mean, label='Cross-validation score')\n",
    "\n",
    "plt.title('Learning curve')\n",
    "plt.xlabel('Training Data Size')\n",
    "plt.ylabel('Accuracy Score')\n",
    "plt.legend(loc='best')\n",
    "plt.show()\n"
   ]
  },
  {
   "cell_type": "code",
   "execution_count": null,
   "id": "226e4448",
   "metadata": {},
   "outputs": [],
   "source": []
  },
  {
   "cell_type": "code",
   "execution_count": null,
   "id": "51b546ff",
   "metadata": {},
   "outputs": [],
   "source": []
  },
  {
   "cell_type": "code",
   "execution_count": null,
   "id": "4057a978",
   "metadata": {},
   "outputs": [],
   "source": [
    "\n",
    "\n",
    "X = df_features.drop(columns=['label'])  # Assuming 'label' is the column with your labels\n",
    "y = df_features['label']\n",
    "# Normalize or standardize the feature values\n",
    "scaler = StandardScaler()\n",
    "X = scaler.fit_transform(X)\n",
    "# Dataset Splitting\n",
    "X_train, X_temp, y_train, y_temp = train_test_split(X, y, test_size=0.3, random_state=42)\n",
    "X_val, X_test, y_val, y_test = train_test_split(X_temp, y_temp, test_size=0.5, random_state=42)\n",
    "\n",
    "# Model Selection\n",
    "model = RandomForestClassifier(random_state=42)\n",
    "\n",
    "# Training\n",
    "model.fit(X_train, y_train)\n",
    "\n",
    "# Hyperparameter Tuning\n",
    "param_grid = {\n",
    "    'n_estimators': [50, 100, 200],\n",
    "    'max_depth': [None, 10, 20, 30],\n",
    "    # Add other parameters here\n",
    "}\n",
    "grid_search = GridSearchCV(model, param_grid, cv=5)\n",
    "grid_search.fit(X_val, y_val)\n",
    "\n",
    "# Evaluation\n",
    "best_model = grid_search.best_estimator_\n",
    "y_pred = best_model.predict(X_test)\n",
    "print(classification_report(y_test, y_pred))\n",
    "\n",
    "# Feature Importance Analysis\n",
    "importances = best_model.feature_importances_\n",
    "# Analyze the importance for insight\n",
    "\n",
    "# Visualize feature importances if needed\n",
    "from sklearn.metrics import accuracy_score, classification_report\n",
    "\n",
    "y_pred = model.predict(X_test_scaled)\n",
    "print(\"Accuracy:\", accuracy_score(y_test, y_pred))\n",
    "print(classification_report(y_test, y_pred))"
   ]
  },
  {
   "cell_type": "code",
   "execution_count": null,
   "id": "83446690",
   "metadata": {},
   "outputs": [],
   "source": []
  },
  {
   "cell_type": "code",
   "execution_count": null,
   "id": "5ad22037",
   "metadata": {},
   "outputs": [],
   "source": []
  }
 ],
 "metadata": {
  "kernelspec": {
   "display_name": "Python 3 (ipykernel)",
   "language": "python",
   "name": "python3"
  },
  "language_info": {
   "codemirror_mode": {
    "name": "ipython",
    "version": 3
   },
   "file_extension": ".py",
   "mimetype": "text/x-python",
   "name": "python",
   "nbconvert_exporter": "python",
   "pygments_lexer": "ipython3",
   "version": "3.9.7"
  }
 },
 "nbformat": 4,
 "nbformat_minor": 5
}
